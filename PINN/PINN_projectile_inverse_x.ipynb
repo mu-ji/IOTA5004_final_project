{
 "cells": [
  {
   "cell_type": "code",
   "execution_count": 106,
   "metadata": {},
   "outputs": [],
   "source": [
    "import numpy as np\n",
    "from tqdm import tqdm\n",
    "import torch\n",
    "import torch.nn as nn\n",
    "from torch import optim\n",
    "from torch.autograd import Variable\n",
    "import plotly.graph_objects as go\n",
    "import scipy.io as scio\n",
    "import random\n",
    "from matplotlib import pyplot as plt\n",
    "from scipy.integrate import odeint"
   ]
  },
  {
   "cell_type": "code",
   "execution_count": 107,
   "metadata": {},
   "outputs": [],
   "source": [
    "def projectile_motion_with_resistance(state, t, g, k, m):\n",
    "    x, y, v_x, v_y = state\n",
    "    n = 3\n",
    "    dx_dt = v_x\n",
    "    dy_dt = v_y\n",
    "    dv_x_dt = -(k/m) * v_x**n \n",
    "    dv_y_dt = -g - (k/m) * v_y**n\n",
    "    \n",
    "    return [dx_dt, dy_dt, dv_x_dt, dv_y_dt]\n",
    "\n",
    "# 定义参数\n",
    "g = 9.8  # 重力加速度\n",
    "k = 0.1  # 空气阻力系数\n",
    "m = 1.0  # 物体质量\n",
    "\n",
    "# 定义初始条件\n",
    "x0 = 0.0  # 初始水平位置\n",
    "y0 = 10  # 初始垂直位置\n",
    "v_x0 = 2.0  # 初始水平速度\n",
    "v_y0 = 0  # 初始垂直速度\n",
    "\n",
    "# 定义时间点\n",
    "ts = np.linspace(0, 2, 1000)  # 从0到2秒，共取100个时间点\n",
    "\n",
    "# 定义初始状态向量\n",
    "initial_state = [x0, y0, v_x0, v_y0]\n",
    "\n",
    "# 求解ODE方程组\n",
    "solution_with_resistance = odeint(projectile_motion_with_resistance, initial_state, ts, args=(g, k, m))\n",
    "\n",
    "# 提取位置和速度信息\n",
    "x_with_resistance = solution_with_resistance[:, 0]\n",
    "x_with_noise = []\n",
    "for i in range(len(x_with_resistance)):\n",
    "    x_with_noise.append(x_with_resistance[i] + np.random.normal(0,0.1))\n",
    "y_with_resistance = solution_with_resistance[:, 1]\n",
    "v_x_with_resistance = solution_with_resistance[:, 2]\n",
    "v_y_with_resistance = solution_with_resistance[:, 3]"
   ]
  },
  {
   "cell_type": "code",
   "execution_count": 108,
   "metadata": {},
   "outputs": [
    {
     "data": {
      "image/png": "[encoded data removed]",
      "text/plain": [
       "<Figure size 640x480 with 1 Axes>"
      ]
     },
     "metadata": {},
     "output_type": "display_data"
    }
   ],
   "source": [
    "# 绘制轨迹\n",
    "plt.plot(x_with_resistance, y_with_resistance, label = 'projectile trajectory', marker='o', markersize = 1, c = 'r')\n",
    "#plt.plot(state_list[:, 0], state_list[:, 1], label = 'Kalman Filter tracking', marker='o', markersize = 3)\n",
    "plt.xlabel('x (meter)')\n",
    "plt.ylabel('y (meter)')\n",
    "plt.title('Projectile Motion trajectory')\n",
    "plt.grid(True)\n",
    "plt.legend()\n",
    "plt.show()"
   ]
  },
  {
   "cell_type": "code",
   "execution_count": 109,
   "metadata": {},
   "outputs": [],
   "source": [
    "n_train = 800\n",
    "t_train = ts[:n_train]\n",
    "x_train = np.array(x_with_resistance[:n_train])\n",
    "y_train = y_with_resistance[:n_train]"
   ]
  },
  {
   "cell_type": "code",
   "execution_count": 110,
   "metadata": {},
   "outputs": [],
   "source": [
    "# data preparation\n",
    "n_f = 10000\n",
    "f_batch_size = 32\n",
    "\n",
    "reg_in = torch.from_numpy(t_train).type(torch.float32)\n",
    "reg_in = reg_in[:,None]\n",
    "\n",
    "reg_xlabel = torch.from_numpy(x_train).type(torch.float32)\n",
    "reg_xlabel = reg_xlabel[:,None]\n",
    "\n",
    "f_x = np.random.uniform(0, 5, n_f)\n",
    "f_xt = np.random.uniform(0, 2, n_f)\n",
    "f_data_x = np.vstack([f_x, f_xt]).T\n",
    "\n",
    "f_x = Variable(torch.from_numpy(f_data_x[:, 0:1]).type(torch.FloatTensor), requires_grad=True)\n",
    "f_xt = Variable(torch.from_numpy(f_data_x[:, 1:2]).type(torch.FloatTensor), requires_grad=True)\n",
    "\n",
    "f_dataset_x = torch.utils.data.TensorDataset(f_x, f_xt)\n",
    "f_data_loader_x = torch.utils.data.DataLoader(f_dataset_x, batch_size = f_batch_size, shuffle=True)\n"
   ]
  },
  {
   "cell_type": "code",
   "execution_count": 111,
   "metadata": {},
   "outputs": [],
   "source": [
    "# Define a MLP and function f\n",
    "class MLP(nn.Module):\n",
    "    def __init__(self, in_dim = 1,  hidden_dim = 128, out_dim = 1):\n",
    "\n",
    "        super(MLP, self).__init__()\n",
    "        self.mlp = nn.Sequential(\n",
    "                                nn.Linear(in_dim, hidden_dim),\n",
    "                                nn.Tanh(),\n",
    "                                nn.Linear(hidden_dim, hidden_dim),\n",
    "                                nn.Tanh(),\n",
    "                                nn.Linear(hidden_dim, hidden_dim),\n",
    "                                nn.Tanh(),\n",
    "                                nn.Linear(hidden_dim, out_dim),\n",
    "                                        )\n",
    "\n",
    "    def forward(self, data_in):\n",
    "        return self.mlp(data_in)\n",
    "\n",
    "model = MLP()\n",
    "\n",
    "class f_t(nn.Module):\n",
    "\n",
    "    def __init__(self):\n",
    "\n",
    "        super(f_t, self).__init__()\n",
    "        self.k = nn.Parameter(1*torch.ones(1, ), requires_grad=True)\n",
    "\n",
    "    def forward(self, t):\n",
    "        u = model(t)\n",
    "        u_t_x = torch.autograd.grad(u, t, grad_outputs=torch.ones_like(u),\n",
    "                                  create_graph=True, retain_graph=True)[0]\n",
    "        u_tt_x = torch.autograd.grad(u_t_x, t, grad_outputs=torch.ones_like(u),\n",
    "                                  create_graph=True, retain_graph=True)[0]\n",
    "        return u_tt_x + (self.k)*u_t_x**3"
   ]
  },
  {
   "cell_type": "code",
   "execution_count": 112,
   "metadata": {},
   "outputs": [
    {
     "name": "stderr",
     "output_type": "stream",
     "text": [
      "100%|██████████| 313/313 [00:01<00:00, 192.26it/s]\n"
     ]
    },
    {
     "name": "stdout",
     "output_type": "stream",
     "text": [
      "epoch = 0, loss = 0.11505401879549026\n",
      "epoch = 0, f_loss = 0.0070081353187561035\n",
      "epoch = 0, reg_loss = 0.10804588347673416\n"
     ]
    },
    {
     "name": "stderr",
     "output_type": "stream",
     "text": [
      "100%|██████████| 313/313 [00:01<00:00, 197.77it/s]\n"
     ]
    },
    {
     "name": "stdout",
     "output_type": "stream",
     "text": [
      "epoch = 1, loss = 0.09321042150259018\n",
      "epoch = 1, f_loss = 0.0057350462302565575\n",
      "epoch = 1, reg_loss = 0.08747537434101105\n"
     ]
    },
    {
     "name": "stderr",
     "output_type": "stream",
     "text": [
      "100%|██████████| 313/313 [00:01<00:00, 199.65it/s]\n"
     ]
    },
    {
     "name": "stdout",
     "output_type": "stream",
     "text": [
      "epoch = 2, loss = 0.048060379922389984\n",
      "epoch = 2, f_loss = 0.0037568744737654924\n",
      "epoch = 2, reg_loss = 0.04430350661277771\n"
     ]
    },
    {
     "name": "stderr",
     "output_type": "stream",
     "text": [
      "100%|██████████| 313/313 [00:01<00:00, 198.28it/s]\n"
     ]
    },
    {
     "name": "stdout",
     "output_type": "stream",
     "text": [
      "epoch = 3, loss = 0.013199873268604279\n",
      "epoch = 3, f_loss = 0.0004532363673206419\n",
      "epoch = 3, reg_loss = 0.012746636755764484\n"
     ]
    },
    {
     "name": "stderr",
     "output_type": "stream",
     "text": [
      "100%|██████████| 313/313 [00:01<00:00, 193.78it/s]\n"
     ]
    },
    {
     "name": "stdout",
     "output_type": "stream",
     "text": [
      "epoch = 4, loss = 0.0062300944700837135\n",
      "epoch = 4, f_loss = 0.0028536305762827396\n",
      "epoch = 4, reg_loss = 0.003376463893800974\n"
     ]
    },
    {
     "name": "stderr",
     "output_type": "stream",
     "text": [
      "100%|██████████| 313/313 [00:01<00:00, 201.96it/s]\n"
     ]
    },
    {
     "name": "stdout",
     "output_type": "stream",
     "text": [
      "epoch = 5, loss = 0.0025090158451348543\n",
      "epoch = 5, f_loss = 2.203146868851036e-05\n",
      "epoch = 5, reg_loss = 0.0024869844783097506\n"
     ]
    },
    {
     "name": "stderr",
     "output_type": "stream",
     "text": [
      "100%|██████████| 313/313 [00:01<00:00, 195.33it/s]\n"
     ]
    },
    {
     "name": "stdout",
     "output_type": "stream",
     "text": [
      "epoch = 6, loss = 0.0019414873095229268\n",
      "epoch = 6, f_loss = 0.00011278603778919205\n",
      "epoch = 6, reg_loss = 0.0018287012353539467\n"
     ]
    },
    {
     "name": "stderr",
     "output_type": "stream",
     "text": [
      "100%|██████████| 313/313 [00:01<00:00, 203.24it/s]\n"
     ]
    },
    {
     "name": "stdout",
     "output_type": "stream",
     "text": [
      "epoch = 7, loss = 0.0014232235262170434\n",
      "epoch = 7, f_loss = 6.083973858039826e-05\n",
      "epoch = 7, reg_loss = 0.0013623838312923908\n"
     ]
    },
    {
     "name": "stderr",
     "output_type": "stream",
     "text": [
      "100%|██████████| 313/313 [00:01<00:00, 200.08it/s]\n"
     ]
    },
    {
     "name": "stdout",
     "output_type": "stream",
     "text": [
      "epoch = 8, loss = 0.0010229370091110468\n",
      "epoch = 8, f_loss = 5.590126966126263e-05\n",
      "epoch = 8, reg_loss = 0.0009670357685536146\n"
     ]
    },
    {
     "name": "stderr",
     "output_type": "stream",
     "text": [
      "100%|██████████| 313/313 [00:01<00:00, 198.77it/s]\n"
     ]
    },
    {
     "name": "stdout",
     "output_type": "stream",
     "text": [
      "epoch = 9, loss = 0.0007038385956548154\n",
      "epoch = 9, f_loss = 8.217208960559219e-05\n",
      "epoch = 9, reg_loss = 0.000621666491497308\n"
     ]
    },
    {
     "name": "stderr",
     "output_type": "stream",
     "text": [
      "100%|██████████| 313/313 [00:01<00:00, 200.23it/s]\n"
     ]
    },
    {
     "name": "stdout",
     "output_type": "stream",
     "text": [
      "epoch = 10, loss = 0.00038349718670360744\n",
      "epoch = 10, f_loss = 1.369026540487539e-05\n",
      "epoch = 10, reg_loss = 0.00036980691947974265\n"
     ]
    },
    {
     "name": "stderr",
     "output_type": "stream",
     "text": [
      "100%|██████████| 313/313 [00:01<00:00, 197.79it/s]\n"
     ]
    },
    {
     "name": "stdout",
     "output_type": "stream",
     "text": [
      "epoch = 11, loss = 0.00021231079881545156\n",
      "epoch = 11, f_loss = 1.5642057405784726e-05\n",
      "epoch = 11, reg_loss = 0.00019666874140966684\n"
     ]
    },
    {
     "name": "stderr",
     "output_type": "stream",
     "text": [
      "100%|██████████| 313/313 [00:01<00:00, 186.86it/s]\n"
     ]
    },
    {
     "name": "stdout",
     "output_type": "stream",
     "text": [
      "epoch = 12, loss = 0.0001072353552444838\n",
      "epoch = 12, f_loss = 1.0913406185864005e-05\n",
      "epoch = 12, reg_loss = 9.63219499681145e-05\n"
     ]
    },
    {
     "name": "stderr",
     "output_type": "stream",
     "text": [
      "100%|██████████| 313/313 [00:01<00:00, 192.50it/s]\n"
     ]
    },
    {
     "name": "stdout",
     "output_type": "stream",
     "text": [
      "epoch = 13, loss = 0.00011246366193518043\n",
      "epoch = 13, f_loss = 3.6160508898319677e-05\n",
      "epoch = 13, reg_loss = 7.630314939888194e-05\n"
     ]
    },
    {
     "name": "stderr",
     "output_type": "stream",
     "text": [
      "100%|██████████| 313/313 [00:01<00:00, 197.11it/s]\n"
     ]
    },
    {
     "name": "stdout",
     "output_type": "stream",
     "text": [
      "epoch = 14, loss = 5.613408939098008e-05\n",
      "epoch = 14, f_loss = 4.028134935651906e-05\n",
      "epoch = 14, reg_loss = 1.585274003446102e-05\n"
     ]
    },
    {
     "name": "stderr",
     "output_type": "stream",
     "text": [
      "100%|██████████| 313/313 [00:01<00:00, 194.52it/s]\n"
     ]
    },
    {
     "name": "stdout",
     "output_type": "stream",
     "text": [
      "epoch = 15, loss = 2.4850152840372175e-05\n",
      "epoch = 15, f_loss = 1.642469760554377e-05\n",
      "epoch = 15, reg_loss = 8.425456144323107e-06\n"
     ]
    },
    {
     "name": "stderr",
     "output_type": "stream",
     "text": [
      "100%|██████████| 313/313 [00:01<00:00, 198.94it/s]\n"
     ]
    },
    {
     "name": "stdout",
     "output_type": "stream",
     "text": [
      "epoch = 16, loss = 2.2962778530200012e-05\n",
      "epoch = 16, f_loss = 1.662688737269491e-05\n",
      "epoch = 16, reg_loss = 6.3358911575051025e-06\n"
     ]
    },
    {
     "name": "stderr",
     "output_type": "stream",
     "text": [
      "100%|██████████| 313/313 [00:01<00:00, 202.78it/s]\n"
     ]
    },
    {
     "name": "stdout",
     "output_type": "stream",
     "text": [
      "epoch = 17, loss = 8.605810580775142e-05\n",
      "epoch = 17, f_loss = 3.39042890118435e-05\n",
      "epoch = 17, reg_loss = 5.215382043388672e-05\n"
     ]
    },
    {
     "name": "stderr",
     "output_type": "stream",
     "text": [
      "100%|██████████| 313/313 [00:01<00:00, 201.28it/s]\n"
     ]
    },
    {
     "name": "stdout",
     "output_type": "stream",
     "text": [
      "epoch = 18, loss = 0.0001943337410921231\n",
      "epoch = 18, f_loss = 0.00012048680218867958\n",
      "epoch = 18, reg_loss = 7.384693890344352e-05\n"
     ]
    },
    {
     "name": "stderr",
     "output_type": "stream",
     "text": [
      "100%|██████████| 313/313 [00:01<00:00, 193.62it/s]\n"
     ]
    },
    {
     "name": "stdout",
     "output_type": "stream",
     "text": [
      "epoch = 19, loss = 0.0004602315602824092\n",
      "epoch = 19, f_loss = 0.0002498204994481057\n",
      "epoch = 19, reg_loss = 0.00021041104628238827\n"
     ]
    },
    {
     "name": "stderr",
     "output_type": "stream",
     "text": [
      "100%|██████████| 313/313 [00:01<00:00, 201.79it/s]\n"
     ]
    },
    {
     "name": "stdout",
     "output_type": "stream",
     "text": [
      "epoch = 20, loss = 0.00022076707682572305\n",
      "epoch = 20, f_loss = 0.00012459144636522979\n",
      "epoch = 20, reg_loss = 9.617562318453565e-05\n"
     ]
    },
    {
     "name": "stderr",
     "output_type": "stream",
     "text": [
      "100%|██████████| 313/313 [00:01<00:00, 201.62it/s]\n"
     ]
    },
    {
     "name": "stdout",
     "output_type": "stream",
     "text": [
      "epoch = 21, loss = 6.093193405831698e-06\n",
      "epoch = 21, f_loss = 6.00169232711778e-06\n",
      "epoch = 21, reg_loss = 9.150104318678132e-08\n"
     ]
    },
    {
     "name": "stderr",
     "output_type": "stream",
     "text": [
      "100%|██████████| 313/313 [00:01<00:00, 196.07it/s]\n"
     ]
    },
    {
     "name": "stdout",
     "output_type": "stream",
     "text": [
      "epoch = 22, loss = 1.5689154224673985e-06\n",
      "epoch = 22, f_loss = 1.1948779956583166e-06\n",
      "epoch = 22, reg_loss = 3.7403745523079124e-07\n"
     ]
    },
    {
     "name": "stderr",
     "output_type": "stream",
     "text": [
      "100%|██████████| 313/313 [00:01<00:00, 199.18it/s]\n"
     ]
    },
    {
     "name": "stdout",
     "output_type": "stream",
     "text": [
      "epoch = 23, loss = 9.112536645261571e-05\n",
      "epoch = 23, f_loss = 8.066385635174811e-05\n",
      "epoch = 23, reg_loss = 1.0461511919857003e-05\n"
     ]
    },
    {
     "name": "stderr",
     "output_type": "stream",
     "text": [
      "100%|██████████| 313/313 [00:01<00:00, 202.09it/s]\n"
     ]
    },
    {
     "name": "stdout",
     "output_type": "stream",
     "text": [
      "epoch = 24, loss = 0.00029019732028245926\n",
      "epoch = 24, f_loss = 0.00016673993377480656\n",
      "epoch = 24, reg_loss = 0.0001234573865076527\n"
     ]
    },
    {
     "name": "stderr",
     "output_type": "stream",
     "text": [
      "100%|██████████| 313/313 [00:01<00:00, 195.34it/s]\n"
     ]
    },
    {
     "name": "stdout",
     "output_type": "stream",
     "text": [
      "epoch = 25, loss = 4.843784154218156e-06\n",
      "epoch = 25, f_loss = 4.7950206862878986e-06\n",
      "epoch = 25, reg_loss = 4.876344661397525e-08\n"
     ]
    },
    {
     "name": "stderr",
     "output_type": "stream",
     "text": [
      "100%|██████████| 313/313 [00:01<00:00, 201.70it/s]\n"
     ]
    },
    {
     "name": "stdout",
     "output_type": "stream",
     "text": [
      "epoch = 26, loss = 0.0001619864342501387\n",
      "epoch = 26, f_loss = 8.093488577287644e-05\n",
      "epoch = 26, reg_loss = 8.105154847726226e-05\n"
     ]
    },
    {
     "name": "stderr",
     "output_type": "stream",
     "text": [
      "100%|██████████| 313/313 [00:01<00:00, 201.62it/s]\n"
     ]
    },
    {
     "name": "stdout",
     "output_type": "stream",
     "text": [
      "epoch = 27, loss = 4.80083872389514e-05\n",
      "epoch = 27, f_loss = 4.094838004675694e-05\n",
      "epoch = 27, reg_loss = 7.0600085564365145e-06\n"
     ]
    },
    {
     "name": "stderr",
     "output_type": "stream",
     "text": [
      "100%|██████████| 313/313 [00:01<00:00, 200.68it/s]\n"
     ]
    },
    {
     "name": "stdout",
     "output_type": "stream",
     "text": [
      "epoch = 28, loss = 2.7229985789745115e-05\n",
      "epoch = 28, f_loss = 1.0098881830344908e-05\n",
      "epoch = 28, reg_loss = 1.7131103959400207e-05\n"
     ]
    },
    {
     "name": "stderr",
     "output_type": "stream",
     "text": [
      "100%|██████████| 313/313 [00:01<00:00, 201.78it/s]\n"
     ]
    },
    {
     "name": "stdout",
     "output_type": "stream",
     "text": [
      "epoch = 29, loss = 3.1823463359614834e-05\n",
      "epoch = 29, f_loss = 2.473718996043317e-05\n",
      "epoch = 29, reg_loss = 7.086272034939611e-06\n"
     ]
    },
    {
     "name": "stderr",
     "output_type": "stream",
     "text": [
      "100%|██████████| 313/313 [00:01<00:00, 202.39it/s]\n"
     ]
    },
    {
     "name": "stdout",
     "output_type": "stream",
     "text": [
      "epoch = 30, loss = 0.004652852192521095\n",
      "epoch = 30, f_loss = 0.0029492899775505066\n",
      "epoch = 30, reg_loss = 0.0017035620985552669\n"
     ]
    },
    {
     "name": "stderr",
     "output_type": "stream",
     "text": [
      "100%|██████████| 313/313 [00:01<00:00, 199.21it/s]\n"
     ]
    },
    {
     "name": "stdout",
     "output_type": "stream",
     "text": [
      "epoch = 31, loss = 1.4359659417095827e-06\n",
      "epoch = 31, f_loss = 7.114871891644725e-07\n",
      "epoch = 31, reg_loss = 7.244786957016913e-07\n"
     ]
    },
    {
     "name": "stderr",
     "output_type": "stream",
     "text": [
      "100%|██████████| 313/313 [00:01<00:00, 193.23it/s]\n"
     ]
    },
    {
     "name": "stdout",
     "output_type": "stream",
     "text": [
      "epoch = 32, loss = 2.12036266020732e-05\n",
      "epoch = 32, f_loss = 1.924677962961141e-05\n",
      "epoch = 32, reg_loss = 1.9568474272091407e-06\n"
     ]
    },
    {
     "name": "stderr",
     "output_type": "stream",
     "text": [
      "100%|██████████| 313/313 [00:01<00:00, 198.57it/s]\n"
     ]
    },
    {
     "name": "stdout",
     "output_type": "stream",
     "text": [
      "epoch = 33, loss = 8.142771548591554e-06\n",
      "epoch = 33, f_loss = 1.913128471642267e-06\n",
      "epoch = 33, reg_loss = 6.229643531696638e-06\n"
     ]
    },
    {
     "name": "stderr",
     "output_type": "stream",
     "text": [
      "100%|██████████| 313/313 [00:01<00:00, 198.67it/s]\n"
     ]
    },
    {
     "name": "stdout",
     "output_type": "stream",
     "text": [
      "epoch = 34, loss = 4.93567813464324e-06\n",
      "epoch = 34, f_loss = 3.5754014788835775e-06\n",
      "epoch = 34, reg_loss = 1.3602766557596624e-06\n"
     ]
    },
    {
     "name": "stderr",
     "output_type": "stream",
     "text": [
      "100%|██████████| 313/313 [00:01<00:00, 199.00it/s]\n"
     ]
    },
    {
     "name": "stdout",
     "output_type": "stream",
     "text": [
      "epoch = 35, loss = 5.514523763849866e-06\n",
      "epoch = 35, f_loss = 4.2494725676078815e-06\n",
      "epoch = 35, reg_loss = 1.2650511962419841e-06\n"
     ]
    },
    {
     "name": "stderr",
     "output_type": "stream",
     "text": [
      "100%|██████████| 313/313 [00:01<00:00, 195.10it/s]\n"
     ]
    },
    {
     "name": "stdout",
     "output_type": "stream",
     "text": [
      "epoch = 36, loss = 1.975002305698581e-05\n",
      "epoch = 36, f_loss = 8.983322004496586e-06\n",
      "epoch = 36, reg_loss = 1.0766701052489225e-05\n"
     ]
    },
    {
     "name": "stderr",
     "output_type": "stream",
     "text": [
      "100%|██████████| 313/313 [00:01<00:00, 195.44it/s]\n"
     ]
    },
    {
     "name": "stdout",
     "output_type": "stream",
     "text": [
      "epoch = 37, loss = 0.0008497798698954284\n",
      "epoch = 37, f_loss = 0.00010801601456478238\n",
      "epoch = 37, reg_loss = 0.000741763855330646\n"
     ]
    },
    {
     "name": "stderr",
     "output_type": "stream",
     "text": [
      "100%|██████████| 313/313 [00:01<00:00, 192.24it/s]\n"
     ]
    },
    {
     "name": "stdout",
     "output_type": "stream",
     "text": [
      "epoch = 38, loss = 6.634697456320282e-06\n",
      "epoch = 38, f_loss = 6.477496754087042e-06\n",
      "epoch = 38, reg_loss = 1.5720075907665887e-07\n"
     ]
    },
    {
     "name": "stderr",
     "output_type": "stream",
     "text": [
      "100%|██████████| 313/313 [00:01<00:00, 199.98it/s]\n"
     ]
    },
    {
     "name": "stdout",
     "output_type": "stream",
     "text": [
      "epoch = 39, loss = 8.897570296539925e-06\n",
      "epoch = 39, f_loss = 2.418404392301454e-06\n",
      "epoch = 39, reg_loss = 6.479165676864795e-06\n"
     ]
    },
    {
     "name": "stderr",
     "output_type": "stream",
     "text": [
      "100%|██████████| 313/313 [00:01<00:00, 197.41it/s]\n"
     ]
    },
    {
     "name": "stdout",
     "output_type": "stream",
     "text": [
      "epoch = 40, loss = 3.2890216971281916e-05\n",
      "epoch = 40, f_loss = 2.09386671485845e-05\n",
      "epoch = 40, reg_loss = 1.1951548913202714e-05\n"
     ]
    },
    {
     "name": "stderr",
     "output_type": "stream",
     "text": [
      "100%|██████████| 313/313 [00:01<00:00, 201.35it/s]\n"
     ]
    },
    {
     "name": "stdout",
     "output_type": "stream",
     "text": [
      "epoch = 41, loss = 3.435731969148037e-06\n",
      "epoch = 41, f_loss = 2.9700597679038765e-06\n",
      "epoch = 41, reg_loss = 4.6567211597903224e-07\n"
     ]
    },
    {
     "name": "stderr",
     "output_type": "stream",
     "text": [
      "100%|██████████| 313/313 [00:01<00:00, 201.26it/s]\n"
     ]
    },
    {
     "name": "stdout",
     "output_type": "stream",
     "text": [
      "epoch = 42, loss = 6.664484317298047e-06\n",
      "epoch = 42, f_loss = 3.027907951036468e-06\n",
      "epoch = 42, reg_loss = 3.6365765936352545e-06\n"
     ]
    },
    {
     "name": "stderr",
     "output_type": "stream",
     "text": [
      "100%|██████████| 313/313 [00:01<00:00, 197.77it/s]\n"
     ]
    },
    {
     "name": "stdout",
     "output_type": "stream",
     "text": [
      "epoch = 43, loss = 4.025573616672773e-06\n",
      "epoch = 43, f_loss = 4.356741101219086e-07\n",
      "epoch = 43, reg_loss = 3.589899279177189e-06\n"
     ]
    },
    {
     "name": "stderr",
     "output_type": "stream",
     "text": [
      "100%|██████████| 313/313 [00:01<00:00, 194.38it/s]\n"
     ]
    },
    {
     "name": "stdout",
     "output_type": "stream",
     "text": [
      "epoch = 44, loss = 2.776021938188933e-05\n",
      "epoch = 44, f_loss = 2.0922714611515403e-05\n",
      "epoch = 44, reg_loss = 6.837504315626575e-06\n"
     ]
    },
    {
     "name": "stderr",
     "output_type": "stream",
     "text": [
      "100%|██████████| 313/313 [00:01<00:00, 201.83it/s]\n"
     ]
    },
    {
     "name": "stdout",
     "output_type": "stream",
     "text": [
      "epoch = 45, loss = 1.6903295545489527e-05\n",
      "epoch = 45, f_loss = 1.314268956775777e-05\n",
      "epoch = 45, reg_loss = 3.7606064324791078e-06\n"
     ]
    },
    {
     "name": "stderr",
     "output_type": "stream",
     "text": [
      "100%|██████████| 313/313 [00:01<00:00, 197.55it/s]\n"
     ]
    },
    {
     "name": "stdout",
     "output_type": "stream",
     "text": [
      "epoch = 46, loss = 1.6666021110722795e-05\n",
      "epoch = 46, f_loss = 7.871446541685145e-06\n",
      "epoch = 46, reg_loss = 8.79457456903765e-06\n"
     ]
    },
    {
     "name": "stderr",
     "output_type": "stream",
     "text": [
      "100%|██████████| 313/313 [00:01<00:00, 200.15it/s]\n"
     ]
    },
    {
     "name": "stdout",
     "output_type": "stream",
     "text": [
      "epoch = 47, loss = 0.0005231290124356747\n",
      "epoch = 47, f_loss = 0.00022386998170986772\n",
      "epoch = 47, reg_loss = 0.00029925903072580695\n"
     ]
    },
    {
     "name": "stderr",
     "output_type": "stream",
     "text": [
      "100%|██████████| 313/313 [00:01<00:00, 201.16it/s]\n"
     ]
    },
    {
     "name": "stdout",
     "output_type": "stream",
     "text": [
      "epoch = 48, loss = 0.00018276984337717295\n",
      "epoch = 48, f_loss = 0.00016482017235830426\n",
      "epoch = 48, reg_loss = 1.79496782948263e-05\n"
     ]
    },
    {
     "name": "stderr",
     "output_type": "stream",
     "text": [
      "100%|██████████| 313/313 [00:01<00:00, 200.59it/s]"
     ]
    },
    {
     "name": "stdout",
     "output_type": "stream",
     "text": [
      "epoch = 49, loss = 2.9963114229758503e-06\n",
      "epoch = 49, f_loss = 1.0586247753963107e-06\n",
      "epoch = 49, reg_loss = 1.9376866475795396e-06\n"
     ]
    },
    {
     "name": "stderr",
     "output_type": "stream",
     "text": [
      "\n"
     ]
    }
   ],
   "source": [
    "# Training the PINN\n",
    "n_epoch = 50\n",
    "f_model = f_t()\n",
    "paras = list(model.parameters()) + list(f_model.parameters())\n",
    "optimizer_x = optim.Adam(paras, lr=1e-3)\n",
    "Alpha_k = np.zeros(n_epoch,)\n",
    "\n",
    "for epoch in range(n_epoch):\n",
    "    for x, t in tqdm(f_data_loader_x):\n",
    "\n",
    "        optimizer_x.zero_grad()\n",
    "        pred = model(reg_in)\n",
    "        reg_loss = torch.mean((reg_xlabel - pred) ** 2)\n",
    "        \n",
    "        f_loss = torch.mean(f_model(t) ** 2)\n",
    "\n",
    "        loss =  reg_loss +f_loss   # adjust the coefficients between two losses\n",
    "        loss.backward(retain_graph=True)\n",
    "        optimizer_x.step()\n",
    "\n",
    "    print(\"epoch = {}, loss = {}\".format(epoch, loss))\n",
    "    print(\"epoch = {}, f_loss = {}\".format(epoch, f_loss))\n",
    "    print(\"epoch = {}, reg_loss = {}\".format(epoch, reg_loss))\n",
    "\n",
    "    Alpha_k[epoch] = f_model.k.detach().numpy().item()\n"
   ]
  },
  {
   "cell_type": "code",
   "execution_count": 113,
   "metadata": {},
   "outputs": [
    {
     "name": "stdout",
     "output_type": "stream",
     "text": [
      "epoch = 0, loss = 2.172760486602783\n",
      "epoch = 1, loss = 1.303315281867981\n",
      "epoch = 2, loss = 0.710885226726532\n",
      "epoch = 3, loss = 0.3827747106552124\n",
      "epoch = 4, loss = 0.29349765181541443\n",
      "epoch = 5, loss = 0.3634660243988037\n",
      "epoch = 6, loss = 0.45066970586776733\n",
      "epoch = 7, loss = 0.4574540853500366\n",
      "epoch = 8, loss = 0.3812125027179718\n",
      "epoch = 9, loss = 0.2663569748401642\n",
      "epoch = 10, loss = 0.16181910037994385\n",
      "epoch = 11, loss = 0.10085481405258179\n",
      "epoch = 12, loss = 0.09177088737487793\n",
      "epoch = 13, loss = 0.1164204478263855\n",
      "epoch = 14, loss = 0.14159779250621796\n",
      "epoch = 15, loss = 0.14153556525707245\n",
      "epoch = 16, loss = 0.11201077699661255\n",
      "epoch = 17, loss = 0.06696619838476181\n",
      "epoch = 18, loss = 0.02697118930518627\n",
      "epoch = 19, loss = 0.007961838506162167\n",
      "epoch = 20, loss = 0.0138707235455513\n",
      "epoch = 21, loss = 0.035589706152677536\n",
      "epoch = 22, loss = 0.057298917323350906\n",
      "epoch = 23, loss = 0.06648337841033936\n",
      "epoch = 24, loss = 0.060392264276742935\n",
      "epoch = 25, loss = 0.04526514932513237\n",
      "epoch = 26, loss = 0.030747685581445694\n",
      "epoch = 27, loss = 0.02385610155761242\n",
      "epoch = 28, loss = 0.02562144212424755\n",
      "epoch = 29, loss = 0.031672488898038864\n",
      "epoch = 30, loss = 0.035880196839571\n",
      "epoch = 31, loss = 0.034377895295619965\n",
      "epoch = 32, loss = 0.027377568185329437\n",
      "epoch = 33, loss = 0.018219541758298874\n",
      "epoch = 34, loss = 0.010938861407339573\n",
      "epoch = 35, loss = 0.008028343319892883\n",
      "epoch = 36, loss = 0.009468365460634232\n",
      "epoch = 37, loss = 0.013220379129052162\n",
      "epoch = 38, loss = 0.016643362119793892\n",
      "epoch = 39, loss = 0.017930250614881516\n",
      "epoch = 40, loss = 0.016820028424263\n",
      "epoch = 41, loss = 0.014370803721249104\n",
      "epoch = 42, loss = 0.012110484763979912\n",
      "epoch = 43, loss = 0.011124087497591972\n",
      "epoch = 44, loss = 0.011549630202353\n",
      "epoch = 45, loss = 0.012665748596191406\n",
      "epoch = 46, loss = 0.013429161161184311\n",
      "epoch = 47, loss = 0.013109991326928139\n",
      "epoch = 48, loss = 0.011668408289551735\n",
      "epoch = 49, loss = 0.009700018912553787\n",
      "epoch = 50, loss = 0.008033308200538158\n",
      "epoch = 51, loss = 0.007243110332638025\n",
      "epoch = 52, loss = 0.007364354096353054\n",
      "epoch = 53, loss = 0.007950817234814167\n",
      "epoch = 54, loss = 0.008408360183238983\n",
      "epoch = 55, loss = 0.008370783179998398\n",
      "epoch = 56, loss = 0.00788003671914339\n",
      "epoch = 57, loss = 0.00728151248767972\n",
      "epoch = 58, loss = 0.006939756218343973\n",
      "epoch = 59, loss = 0.006984309758991003\n",
      "epoch = 60, loss = 0.007250434253364801\n",
      "epoch = 61, loss = 0.00742886308580637\n",
      "epoch = 62, loss = 0.007295441813766956\n",
      "epoch = 63, loss = 0.0068533457815647125\n",
      "epoch = 64, loss = 0.00630270317196846\n",
      "epoch = 65, loss = 0.0058827525936067104\n",
      "epoch = 66, loss = 0.005711754783987999\n",
      "epoch = 67, loss = 0.005732984747737646\n",
      "epoch = 68, loss = 0.0057864380069077015\n",
      "epoch = 69, loss = 0.005736724939197302\n",
      "epoch = 70, loss = 0.005560480989515781\n",
      "epoch = 71, loss = 0.005339549854397774\n",
      "epoch = 72, loss = 0.005180936306715012\n",
      "epoch = 73, loss = 0.0051321107894182205\n",
      "epoch = 74, loss = 0.0051528047770261765\n",
      "epoch = 75, loss = 0.005155174061655998\n",
      "epoch = 76, loss = 0.005073392763733864\n",
      "epoch = 77, loss = 0.0049080862663686275\n",
      "epoch = 78, loss = 0.0047166608273983\n",
      "epoch = 79, loss = 0.004564108792692423\n",
      "epoch = 80, loss = 0.004475871101021767\n",
      "epoch = 81, loss = 0.004427282139658928\n",
      "epoch = 82, loss = 0.004372164607048035\n",
      "epoch = 83, loss = 0.004282870329916477\n",
      "epoch = 84, loss = 0.004169018939137459\n",
      "epoch = 85, loss = 0.004063383210450411\n",
      "epoch = 86, loss = 0.003990841563791037\n",
      "epoch = 87, loss = 0.0039481124840676785\n",
      "epoch = 88, loss = 0.00390922324731946\n",
      "epoch = 89, loss = 0.0038490858860313892\n",
      "epoch = 90, loss = 0.003763161599636078\n",
      "epoch = 91, loss = 0.0036677848547697067\n",
      "epoch = 92, loss = 0.003583516227081418\n",
      "epoch = 93, loss = 0.0035179839469492435\n",
      "epoch = 94, loss = 0.0034623686224222183\n",
      "epoch = 95, loss = 0.003402405185624957\n",
      "epoch = 96, loss = 0.003332016756758094\n",
      "epoch = 97, loss = 0.003257475094869733\n",
      "epoch = 98, loss = 0.0031899167224764824\n",
      "epoch = 99, loss = 0.00313462782651186\n",
      "epoch = 100, loss = 0.0030869541224092245\n",
      "epoch = 101, loss = 0.0030375279020518064\n",
      "epoch = 102, loss = 0.002980886958539486\n",
      "epoch = 103, loss = 0.0029193407390266657\n",
      "epoch = 104, loss = 0.0028594506438821554\n",
      "epoch = 105, loss = 0.002805371768772602\n",
      "epoch = 106, loss = 0.0027556431014090776\n",
      "epoch = 107, loss = 0.0027056976687163115\n",
      "epoch = 108, loss = 0.0026528327725827694\n",
      "epoch = 109, loss = 0.0025986346881836653\n",
      "epoch = 110, loss = 0.0025469374377280474\n",
      "epoch = 111, loss = 0.0024998413864523172\n",
      "epoch = 112, loss = 0.0024559637531638145\n",
      "epoch = 113, loss = 0.002412164816632867\n",
      "epoch = 114, loss = 0.0023667283821851015\n",
      "epoch = 115, loss = 0.0023205734323710203\n",
      "epoch = 116, loss = 0.002275848761200905\n",
      "epoch = 117, loss = 0.002233532490208745\n",
      "epoch = 118, loss = 0.0021926742047071457\n",
      "epoch = 119, loss = 0.002151689026504755\n",
      "epoch = 120, loss = 0.0021101234015077353\n",
      "epoch = 121, loss = 0.0020689861848950386\n",
      "epoch = 122, loss = 0.002029525116086006\n",
      "epoch = 123, loss = 0.0019919879268854856\n",
      "epoch = 124, loss = 0.001955494750291109\n",
      "epoch = 125, loss = 0.0019191052997484803\n",
      "epoch = 126, loss = 0.001882765325717628\n",
      "epoch = 127, loss = 0.0018471068469807506\n",
      "epoch = 128, loss = 0.001812661299481988\n",
      "epoch = 129, loss = 0.0017792433500289917\n",
      "epoch = 130, loss = 0.0017462823307141662\n",
      "epoch = 131, loss = 0.001713462290354073\n",
      "epoch = 132, loss = 0.0016810381785035133\n",
      "epoch = 133, loss = 0.0016494946321472526\n",
      "epoch = 134, loss = 0.0016189824091270566\n",
      "epoch = 135, loss = 0.0015892162919044495\n",
      "epoch = 136, loss = 0.0015598747413605452\n",
      "epoch = 137, loss = 0.0015309164300560951\n",
      "epoch = 138, loss = 0.0015025788452476263\n",
      "epoch = 139, loss = 0.0014750208938494325\n",
      "epoch = 140, loss = 0.0014481534017249942\n",
      "epoch = 141, loss = 0.0014217522693797946\n",
      "epoch = 142, loss = 0.0013957134215161204\n",
      "epoch = 143, loss = 0.001370157115161419\n",
      "epoch = 144, loss = 0.0013452291022986174\n",
      "epoch = 145, loss = 0.0013209512690082192\n",
      "epoch = 146, loss = 0.0012971904361620545\n",
      "epoch = 147, loss = 0.0012738604564219713\n",
      "epoch = 148, loss = 0.001250983215868473\n",
      "epoch = 149, loss = 0.0012286418350413442\n",
      "epoch = 150, loss = 0.001206860993988812\n",
      "epoch = 151, loss = 0.0011855729389935732\n",
      "epoch = 152, loss = 0.0011646866332739592\n",
      "epoch = 153, loss = 0.0011442076647654176\n",
      "epoch = 154, loss = 0.001124184112995863\n",
      "epoch = 155, loss = 0.001104647177271545\n",
      "epoch = 156, loss = 0.0010855606524273753\n",
      "epoch = 157, loss = 0.0010668750619515777\n",
      "epoch = 158, loss = 0.0010485798120498657\n",
      "epoch = 159, loss = 0.0010307038901373744\n",
      "epoch = 160, loss = 0.0010132663883268833\n",
      "epoch = 161, loss = 0.0009962335461750627\n",
      "epoch = 162, loss = 0.0009795775404199958\n",
      "epoch = 163, loss = 0.000963281374424696\n",
      "epoch = 164, loss = 0.0009473604150116444\n",
      "epoch = 165, loss = 0.0009318175725638866\n",
      "epoch = 166, loss = 0.0009166425443254411\n",
      "epoch = 167, loss = 0.0009018125128932297\n",
      "epoch = 168, loss = 0.0008873137994669378\n",
      "epoch = 169, loss = 0.0008731568814255297\n",
      "epoch = 170, loss = 0.000859345484059304\n",
      "epoch = 171, loss = 0.000845865230076015\n",
      "epoch = 172, loss = 0.0008326978422701359\n",
      "epoch = 173, loss = 0.0008198415744118392\n",
      "epoch = 174, loss = 0.0008072858327068388\n",
      "epoch = 175, loss = 0.0007950429571792483\n",
      "epoch = 176, loss = 0.0007830877439118922\n",
      "epoch = 177, loss = 0.0007714217063039541\n",
      "epoch = 178, loss = 0.0007600302924402058\n",
      "epoch = 179, loss = 0.0007489143172279\n",
      "epoch = 180, loss = 0.0007380761089734733\n",
      "epoch = 181, loss = 0.0007274994277395308\n",
      "epoch = 182, loss = 0.0007171835168264806\n",
      "epoch = 183, loss = 0.0007071170257404447\n",
      "epoch = 184, loss = 0.0006972983246669173\n",
      "epoch = 185, loss = 0.0006877218256704509\n",
      "epoch = 186, loss = 0.0006783816497772932\n",
      "epoch = 187, loss = 0.0006692730821669102\n",
      "epoch = 188, loss = 0.0006603857618756592\n",
      "epoch = 189, loss = 0.0006517253932543099\n",
      "epoch = 190, loss = 0.0006432782975025475\n",
      "epoch = 191, loss = 0.0006350401672534645\n",
      "epoch = 192, loss = 0.0006270078592933714\n",
      "epoch = 193, loss = 0.0006191774155013263\n",
      "epoch = 194, loss = 0.0006115426076576114\n",
      "epoch = 195, loss = 0.0006041005835868418\n",
      "epoch = 196, loss = 0.0005968442419543862\n",
      "epoch = 197, loss = 0.0005897684604860842\n",
      "epoch = 198, loss = 0.0005828721332363784\n",
      "epoch = 199, loss = 0.0005761485081166029\n",
      "epoch = 200, loss = 0.0005695942090824246\n",
      "epoch = 201, loss = 0.000563204288482666\n",
      "epoch = 202, loss = 0.0005569763015955687\n",
      "epoch = 203, loss = 0.0005509019829332829\n",
      "epoch = 204, loss = 0.0005449852324090898\n",
      "epoch = 205, loss = 0.0005392118473537266\n",
      "epoch = 206, loss = 0.0005335870664566755\n",
      "epoch = 207, loss = 0.0005281022749841213\n",
      "epoch = 208, loss = 0.0005227561923675239\n",
      "epoch = 209, loss = 0.0005175425321795046\n",
      "epoch = 210, loss = 0.0005124578601680696\n",
      "epoch = 211, loss = 0.0005075000808574259\n",
      "epoch = 212, loss = 0.0005026684957556427\n",
      "epoch = 213, loss = 0.0004979540244676173\n",
      "epoch = 214, loss = 0.0004933585878461599\n",
      "epoch = 215, loss = 0.0004888770636171103\n",
      "epoch = 216, loss = 0.00048450269969180226\n",
      "epoch = 217, loss = 0.00048023794079199433\n",
      "epoch = 218, loss = 0.0004760761803481728\n",
      "epoch = 219, loss = 0.00047201671986840665\n",
      "epoch = 220, loss = 0.00046805597958154976\n",
      "epoch = 221, loss = 0.00046419008867815137\n",
      "epoch = 222, loss = 0.0004604180867318064\n",
      "epoch = 223, loss = 0.0004567357536870986\n",
      "epoch = 224, loss = 0.000453140091849491\n",
      "epoch = 225, loss = 0.00044963110121898353\n",
      "epoch = 226, loss = 0.0004462039505597204\n",
      "epoch = 227, loss = 0.0004428559623192996\n",
      "epoch = 228, loss = 0.0004395881260279566\n",
      "epoch = 229, loss = 0.0004363950283732265\n",
      "epoch = 230, loss = 0.0004332732642069459\n",
      "epoch = 231, loss = 0.0004302240558899939\n",
      "epoch = 232, loss = 0.00042724277591332793\n",
      "epoch = 233, loss = 0.000424329744419083\n",
      "epoch = 234, loss = 0.0004214798682369292\n",
      "epoch = 235, loss = 0.0004186916339676827\n",
      "epoch = 236, loss = 0.0004159663221798837\n",
      "epoch = 237, loss = 0.00041329755913466215\n",
      "epoch = 238, loss = 0.00041068793507292867\n",
      "epoch = 239, loss = 0.00040813186205923557\n",
      "epoch = 240, loss = 0.00040562881622463465\n",
      "epoch = 241, loss = 0.00040317935054190457\n",
      "epoch = 242, loss = 0.00040077880839817226\n",
      "epoch = 243, loss = 0.00039842628757469356\n",
      "epoch = 244, loss = 0.0003961213806178421\n",
      "epoch = 245, loss = 0.00039386138087138534\n",
      "epoch = 246, loss = 0.0003916452405974269\n",
      "epoch = 247, loss = 0.0003894720575772226\n",
      "epoch = 248, loss = 0.00038734127883799374\n",
      "epoch = 249, loss = 0.0003852480149362236\n",
      "epoch = 250, loss = 0.0003831935755442828\n",
      "epoch = 251, loss = 0.00038117720396257937\n",
      "epoch = 252, loss = 0.00037919500027783215\n",
      "epoch = 253, loss = 0.000377248739823699\n",
      "epoch = 254, loss = 0.0003753366181626916\n",
      "epoch = 255, loss = 0.00037345560849644244\n",
      "epoch = 256, loss = 0.00037160608917474747\n",
      "epoch = 257, loss = 0.0003697873034980148\n",
      "epoch = 258, loss = 0.000367997883586213\n",
      "epoch = 259, loss = 0.0003662366361822933\n",
      "epoch = 260, loss = 0.0003645016113296151\n",
      "epoch = 261, loss = 0.0003627948462963104\n",
      "epoch = 262, loss = 0.00036111261579208076\n",
      "epoch = 263, loss = 0.00035945483250543475\n",
      "epoch = 264, loss = 0.0003578201576601714\n",
      "epoch = 265, loss = 0.00035620928974822164\n",
      "epoch = 266, loss = 0.0003546214138623327\n",
      "epoch = 267, loss = 0.00035305292112752795\n",
      "epoch = 268, loss = 0.00035150640178471804\n",
      "epoch = 269, loss = 0.00034997976035811007\n",
      "epoch = 270, loss = 0.00034847267670556903\n",
      "epoch = 271, loss = 0.0003469833463896066\n",
      "epoch = 272, loss = 0.0003455127007327974\n",
      "epoch = 273, loss = 0.00034405835322104394\n",
      "epoch = 274, loss = 0.00034262254484929144\n",
      "epoch = 275, loss = 0.0003412020450923592\n",
      "epoch = 276, loss = 0.00033979813451878726\n",
      "epoch = 277, loss = 0.00033840740798041224\n",
      "epoch = 278, loss = 0.0003370326303411275\n",
      "epoch = 279, loss = 0.00033567092032171786\n",
      "epoch = 280, loss = 0.0003343250718899071\n",
      "epoch = 281, loss = 0.00033299013739451766\n",
      "epoch = 282, loss = 0.00033166882349178195\n",
      "epoch = 283, loss = 0.0003303606354165822\n",
      "epoch = 284, loss = 0.0003290631284471601\n",
      "epoch = 285, loss = 0.0003277776704635471\n",
      "epoch = 286, loss = 0.00032650306820869446\n",
      "epoch = 287, loss = 0.0003252391470596194\n",
      "epoch = 288, loss = 0.00032398500479757786\n",
      "epoch = 289, loss = 0.00032274340628646314\n",
      "epoch = 290, loss = 0.0003215086180716753\n",
      "epoch = 291, loss = 0.000320285587804392\n",
      "epoch = 292, loss = 0.0003190712595824152\n",
      "epoch = 293, loss = 0.00031786461477167904\n",
      "epoch = 294, loss = 0.000316667283186689\n",
      "epoch = 295, loss = 0.00031547871185466647\n",
      "epoch = 296, loss = 0.00031429852242581546\n",
      "epoch = 297, loss = 0.00031312607461586595\n",
      "epoch = 298, loss = 0.0003119600878562778\n",
      "epoch = 299, loss = 0.00031080140615813434\n",
      "epoch = 300, loss = 0.0003096512518823147\n",
      "epoch = 301, loss = 0.0003085071803070605\n",
      "epoch = 302, loss = 0.0003073711704928428\n",
      "epoch = 303, loss = 0.0003062412142753601\n",
      "epoch = 304, loss = 0.00030511670047417283\n",
      "epoch = 305, loss = 0.0003039994917344302\n",
      "epoch = 306, loss = 0.000302888045553118\n",
      "epoch = 307, loss = 0.00030178233282640576\n",
      "epoch = 308, loss = 0.00030068273190408945\n",
      "epoch = 309, loss = 0.0002995880495291203\n",
      "epoch = 310, loss = 0.0002984993043355644\n",
      "epoch = 311, loss = 0.00029741719481535256\n",
      "epoch = 312, loss = 0.0002963386941701174\n",
      "epoch = 313, loss = 0.0002952652866952121\n",
      "epoch = 314, loss = 0.0002941977290902287\n",
      "epoch = 315, loss = 0.000293134682578966\n",
      "epoch = 316, loss = 0.00029207690386101604\n",
      "epoch = 317, loss = 0.000291023519821465\n",
      "epoch = 318, loss = 0.00028997365734539926\n",
      "epoch = 319, loss = 0.00028893002308905125\n",
      "epoch = 320, loss = 0.00028788988129235804\n",
      "epoch = 321, loss = 0.0002868550654966384\n",
      "epoch = 322, loss = 0.00028582336381077766\n",
      "epoch = 323, loss = 0.0002847955038305372\n",
      "epoch = 324, loss = 0.0002837723586708307\n",
      "epoch = 325, loss = 0.0002827541611623019\n",
      "epoch = 326, loss = 0.0002817392232827842\n",
      "epoch = 327, loss = 0.0002807274286169559\n",
      "epoch = 328, loss = 0.00027972046518698335\n",
      "epoch = 329, loss = 0.0002787171397358179\n",
      "epoch = 330, loss = 0.00027771704480983317\n",
      "epoch = 331, loss = 0.00027672131545841694\n",
      "epoch = 332, loss = 0.00027572872932069004\n",
      "epoch = 333, loss = 0.0002747397229541093\n",
      "epoch = 334, loss = 0.00027375470381230116\n",
      "epoch = 335, loss = 0.0002727726532611996\n",
      "epoch = 336, loss = 0.0002717945899348706\n",
      "epoch = 337, loss = 0.0002708194951992482\n",
      "epoch = 338, loss = 0.0002698482421692461\n",
      "epoch = 339, loss = 0.0002688805980142206\n",
      "epoch = 340, loss = 0.0002679149038158357\n",
      "epoch = 341, loss = 0.00026695389533415437\n",
      "epoch = 342, loss = 0.0002659962046891451\n",
      "epoch = 343, loss = 0.00026504005654715\n",
      "epoch = 344, loss = 0.0002640885941218585\n",
      "epoch = 345, loss = 0.0002631396637298167\n",
      "epoch = 346, loss = 0.00026219390565529466\n",
      "epoch = 347, loss = 0.0002612523967400193\n",
      "epoch = 348, loss = 0.00026031266315840185\n",
      "epoch = 349, loss = 0.00025937636382877827\n",
      "epoch = 350, loss = 0.00025844245101325214\n",
      "epoch = 351, loss = 0.0002575120306573808\n",
      "epoch = 352, loss = 0.0002565849863458425\n",
      "epoch = 353, loss = 0.0002556609397288412\n",
      "epoch = 354, loss = 0.0002547395706642419\n",
      "epoch = 355, loss = 0.00025382175226695836\n",
      "epoch = 356, loss = 0.00025290646590292454\n",
      "epoch = 357, loss = 0.00025199330411851406\n",
      "epoch = 358, loss = 0.0002510838967282325\n",
      "epoch = 359, loss = 0.0002501770213712007\n",
      "epoch = 360, loss = 0.00024927317281253636\n",
      "epoch = 361, loss = 0.00024837179807946086\n",
      "epoch = 362, loss = 0.0002474744396749884\n",
      "epoch = 363, loss = 0.00024657868198119104\n",
      "epoch = 364, loss = 0.0002456862712278962\n",
      "epoch = 365, loss = 0.00024479589774273336\n",
      "epoch = 366, loss = 0.00024390978796873242\n",
      "epoch = 367, loss = 0.00024302516249008477\n",
      "epoch = 368, loss = 0.00024214328732341528\n",
      "epoch = 369, loss = 0.00024126548669300973\n",
      "epoch = 370, loss = 0.00024038896663114429\n",
      "epoch = 371, loss = 0.00023951553157530725\n",
      "epoch = 372, loss = 0.00023864503600634634\n",
      "epoch = 373, loss = 0.00023777737806085497\n",
      "epoch = 374, loss = 0.0002369127469137311\n",
      "epoch = 375, loss = 0.0002360496873734519\n",
      "epoch = 376, loss = 0.00023519032401964068\n",
      "epoch = 377, loss = 0.0002343328233109787\n",
      "epoch = 378, loss = 0.00023347909154836088\n",
      "epoch = 379, loss = 0.00023262680042535067\n",
      "epoch = 380, loss = 0.00023177784169092774\n",
      "epoch = 381, loss = 0.00023093116760719568\n",
      "epoch = 382, loss = 0.00023008747666608542\n",
      "epoch = 383, loss = 0.0002292458520969376\n",
      "epoch = 384, loss = 0.0002284078364027664\n",
      "epoch = 385, loss = 0.00022757126134820282\n",
      "epoch = 386, loss = 0.00022673752391710877\n",
      "epoch = 387, loss = 0.00022590640583075583\n",
      "epoch = 388, loss = 0.00022507805260829628\n",
      "epoch = 389, loss = 0.00022425252245739102\n",
      "epoch = 390, loss = 0.00022342907323036343\n",
      "epoch = 391, loss = 0.0002226086362497881\n",
      "epoch = 392, loss = 0.00022179070219863206\n",
      "epoch = 393, loss = 0.00022097495093476027\n",
      "epoch = 394, loss = 0.00022016135335434228\n",
      "epoch = 395, loss = 0.00021935139375273138\n",
      "epoch = 396, loss = 0.0002185431367252022\n",
      "epoch = 397, loss = 0.00021773736807517707\n",
      "epoch = 398, loss = 0.00021693421876989305\n",
      "epoch = 399, loss = 0.00021613309218082577\n",
      "epoch = 400, loss = 0.00021533550170715898\n",
      "epoch = 401, loss = 0.00021454005036503077\n",
      "epoch = 402, loss = 0.0002137461706297472\n",
      "epoch = 403, loss = 0.00021295601618476212\n",
      "epoch = 404, loss = 0.00021216746245045215\n",
      "epoch = 405, loss = 0.00021138183365110308\n",
      "epoch = 406, loss = 0.00021059832943137735\n",
      "epoch = 407, loss = 0.0002098166150972247\n",
      "epoch = 408, loss = 0.00020903810218442231\n",
      "epoch = 409, loss = 0.00020826203399337828\n",
      "epoch = 410, loss = 0.00020748903625644743\n",
      "epoch = 411, loss = 0.00020671682432293892\n",
      "epoch = 412, loss = 0.0002059476391877979\n",
      "epoch = 413, loss = 0.00020518142264336348\n",
      "epoch = 414, loss = 0.0002044173888862133\n",
      "epoch = 415, loss = 0.00020365531963761896\n",
      "epoch = 416, loss = 0.00020289568055886775\n",
      "epoch = 417, loss = 0.00020213819516357034\n",
      "epoch = 418, loss = 0.0002013831544900313\n",
      "epoch = 419, loss = 0.00020063150441274047\n",
      "epoch = 420, loss = 0.00019988087296951562\n",
      "epoch = 421, loss = 0.00019913331198040396\n",
      "epoch = 422, loss = 0.00019838755542878062\n",
      "epoch = 423, loss = 0.00019764485477935523\n",
      "epoch = 424, loss = 0.00019690368208102882\n",
      "epoch = 425, loss = 0.0001961646630661562\n",
      "epoch = 426, loss = 0.00019542804511729628\n",
      "epoch = 427, loss = 0.0001946941192727536\n",
      "epoch = 428, loss = 0.00019396307470742613\n",
      "epoch = 429, loss = 0.00019323325250297785\n",
      "epoch = 430, loss = 0.0001925061660585925\n",
      "epoch = 431, loss = 0.00019178129150532186\n",
      "epoch = 432, loss = 0.00019105849787592888\n",
      "epoch = 433, loss = 0.0001903379161376506\n",
      "epoch = 434, loss = 0.00018961966270580888\n",
      "epoch = 435, loss = 0.0001889038976514712\n",
      "epoch = 436, loss = 0.00018819057731889188\n",
      "epoch = 437, loss = 0.00018747884314507246\n",
      "epoch = 438, loss = 0.00018676953914109617\n",
      "epoch = 439, loss = 0.0001860622869571671\n",
      "epoch = 440, loss = 0.00018535742128733546\n",
      "epoch = 441, loss = 0.00018465484026819468\n",
      "epoch = 442, loss = 0.00018395428196527064\n",
      "epoch = 443, loss = 0.00018325573182664812\n",
      "epoch = 444, loss = 0.0001825596991693601\n",
      "epoch = 445, loss = 0.00018186563102062792\n",
      "epoch = 446, loss = 0.00018117373110726476\n",
      "epoch = 447, loss = 0.00018048381025437266\n",
      "epoch = 448, loss = 0.00017979589756578207\n",
      "epoch = 449, loss = 0.000179110502358526\n",
      "epoch = 450, loss = 0.00017842708621174097\n",
      "epoch = 451, loss = 0.0001777462603058666\n",
      "epoch = 452, loss = 0.00017706709331832826\n",
      "epoch = 453, loss = 0.00017639029829297215\n",
      "epoch = 454, loss = 0.00017571529315318912\n",
      "epoch = 455, loss = 0.00017504282004665583\n",
      "epoch = 456, loss = 0.00017437228234484792\n",
      "epoch = 457, loss = 0.00017370305431541055\n",
      "epoch = 458, loss = 0.00017303686763625592\n",
      "epoch = 459, loss = 0.0001723725290503353\n",
      "epoch = 460, loss = 0.00017171069339383394\n",
      "epoch = 461, loss = 0.00017105070583056659\n",
      "epoch = 462, loss = 0.0001703920279396698\n",
      "epoch = 463, loss = 0.00016973618767224252\n",
      "epoch = 464, loss = 0.00016908194811549038\n",
      "epoch = 465, loss = 0.00016843019693624228\n",
      "epoch = 466, loss = 0.00016777976998127997\n",
      "epoch = 467, loss = 0.00016713210789021105\n",
      "epoch = 468, loss = 0.000166486541274935\n",
      "epoch = 469, loss = 0.00016584251716267318\n",
      "epoch = 470, loss = 0.00016520064673386514\n",
      "epoch = 471, loss = 0.0001645607699174434\n",
      "epoch = 472, loss = 0.0001639230758883059\n",
      "epoch = 473, loss = 0.000163287011673674\n",
      "epoch = 474, loss = 0.00016265366866718978\n",
      "epoch = 475, loss = 0.00016202163533307612\n",
      "epoch = 476, loss = 0.00016139179933816195\n",
      "epoch = 477, loss = 0.00016076411702670157\n",
      "epoch = 478, loss = 0.00016013786080293357\n",
      "epoch = 479, loss = 0.00015951425302773714\n",
      "epoch = 480, loss = 0.00015889220230747014\n",
      "epoch = 481, loss = 0.00015827221795916557\n",
      "epoch = 482, loss = 0.00015765429998282343\n",
      "epoch = 483, loss = 0.0001570378808537498\n",
      "epoch = 484, loss = 0.00015642429934814572\n",
      "epoch = 485, loss = 0.00015581180923618376\n",
      "epoch = 486, loss = 0.0001552014728076756\n",
      "epoch = 487, loss = 0.00015459275164175779\n",
      "epoch = 488, loss = 0.00015398702817037702\n",
      "epoch = 489, loss = 0.00015338219236582518\n",
      "epoch = 490, loss = 0.00015277955390047282\n",
      "epoch = 491, loss = 0.00015217899635899812\n",
      "epoch = 492, loss = 0.00015157999587245286\n",
      "epoch = 493, loss = 0.00015098309086170048\n",
      "epoch = 494, loss = 0.0001503878302173689\n",
      "epoch = 495, loss = 0.00014979534898884594\n",
      "epoch = 496, loss = 0.00014920365356374532\n",
      "epoch = 497, loss = 0.00014861402451060712\n",
      "epoch = 498, loss = 0.00014802695659454912\n",
      "epoch = 499, loss = 0.00014744118379894644\n",
      "epoch = 500, loss = 0.00014685690985061228\n",
      "epoch = 501, loss = 0.00014627547352574766\n",
      "epoch = 502, loss = 0.00014569534687325358\n",
      "epoch = 503, loss = 0.00014511667541228235\n",
      "epoch = 504, loss = 0.00014454075426328927\n",
      "epoch = 505, loss = 0.00014396608457900584\n",
      "epoch = 506, loss = 0.0001433930592611432\n",
      "epoch = 507, loss = 0.0001428229152224958\n",
      "epoch = 508, loss = 0.00014225325139705092\n",
      "epoch = 509, loss = 0.00014168594498187304\n",
      "epoch = 510, loss = 0.00014112058852333575\n",
      "epoch = 511, loss = 0.0001405569928465411\n",
      "epoch = 512, loss = 0.0001399953180225566\n",
      "epoch = 513, loss = 0.00013943501107860357\n",
      "epoch = 514, loss = 0.00013887646491639316\n",
      "epoch = 515, loss = 0.00013832036347594112\n",
      "epoch = 516, loss = 0.0001377654552925378\n",
      "epoch = 517, loss = 0.00013721307914238423\n",
      "epoch = 518, loss = 0.0001366617507301271\n",
      "epoch = 519, loss = 0.00013611260510515422\n",
      "epoch = 520, loss = 0.00013556460908148438\n",
      "epoch = 521, loss = 0.00013501901412382722\n",
      "epoch = 522, loss = 0.00013447484525386244\n",
      "epoch = 523, loss = 0.00013393217523116618\n",
      "epoch = 524, loss = 0.00013339202268980443\n",
      "epoch = 525, loss = 0.0001328528014710173\n",
      "epoch = 526, loss = 0.00013231577759142965\n",
      "epoch = 527, loss = 0.00013178031076677144\n",
      "epoch = 528, loss = 0.00013124695396982133\n",
      "epoch = 529, loss = 0.0001307147031184286\n",
      "epoch = 530, loss = 0.00013018472236581147\n",
      "epoch = 531, loss = 0.00012965612404514104\n",
      "epoch = 532, loss = 0.00012912965030409396\n",
      "epoch = 533, loss = 0.00012860455899499357\n",
      "epoch = 534, loss = 0.00012808135943487287\n",
      "epoch = 535, loss = 0.00012755958596244454\n",
      "epoch = 536, loss = 0.0001270398497581482\n",
      "epoch = 537, loss = 0.00012652174336835742\n",
      "epoch = 538, loss = 0.00012600488844327629\n",
      "epoch = 539, loss = 0.00012549040548037738\n",
      "epoch = 540, loss = 0.0001249769702553749\n",
      "epoch = 541, loss = 0.0001244652521563694\n",
      "epoch = 542, loss = 0.0001239553967025131\n",
      "epoch = 543, loss = 0.00012344740389380604\n",
      "epoch = 544, loss = 0.00012294104089960456\n",
      "epoch = 545, loss = 0.000122436074889265\n",
      "epoch = 546, loss = 0.0001219328842125833\n",
      "epoch = 547, loss = 0.00012143095227656886\n",
      "epoch = 548, loss = 0.00012093131226720288\n",
      "epoch = 549, loss = 0.00012043317110510543\n",
      "epoch = 550, loss = 0.00011993660882581025\n",
      "epoch = 551, loss = 0.000119441443530377\n",
      "epoch = 552, loss = 0.00011894796625711024\n",
      "epoch = 553, loss = 0.00011845654080389068\n",
      "epoch = 554, loss = 0.00011796627222793177\n",
      "epoch = 555, loss = 0.00011747764074243605\n",
      "epoch = 556, loss = 0.0001169907845905982\n",
      "epoch = 557, loss = 0.000116505500045605\n",
      "epoch = 558, loss = 0.00011602176527958363\n",
      "epoch = 559, loss = 0.00011554006778169423\n",
      "epoch = 560, loss = 0.00011505931615829468\n",
      "epoch = 561, loss = 0.00011458085646154359\n",
      "epoch = 562, loss = 0.00011410345905460417\n",
      "epoch = 563, loss = 0.00011362771329004318\n",
      "epoch = 564, loss = 0.00011315389565424994\n",
      "epoch = 565, loss = 0.00011268084199400619\n",
      "epoch = 566, loss = 0.00011221005843253806\n",
      "epoch = 567, loss = 0.00011174075189046562\n",
      "epoch = 568, loss = 0.00011127311881864443\n",
      "epoch = 569, loss = 0.00011080630065407604\n",
      "epoch = 570, loss = 0.00011034197814296931\n",
      "epoch = 571, loss = 0.00010987894347636029\n",
      "epoch = 572, loss = 0.0001094174585887231\n",
      "epoch = 573, loss = 0.00010895708692260087\n",
      "epoch = 574, loss = 0.00010849877435248345\n",
      "epoch = 575, loss = 0.00010804194607771933\n",
      "epoch = 576, loss = 0.00010758692224044353\n",
      "epoch = 577, loss = 0.00010713272786233574\n",
      "epoch = 578, loss = 0.00010668046888895333\n",
      "epoch = 579, loss = 0.00010622965055517852\n",
      "epoch = 580, loss = 0.0001057803601725027\n",
      "epoch = 581, loss = 0.00010533297609072179\n",
      "epoch = 582, loss = 0.00010488637781236321\n",
      "epoch = 583, loss = 0.00010444144572829828\n",
      "epoch = 584, loss = 0.000103998594568111\n",
      "epoch = 585, loss = 0.00010355684207752347\n",
      "epoch = 586, loss = 0.00010311653022654355\n",
      "epoch = 587, loss = 0.00010267833567922935\n",
      "epoch = 588, loss = 0.00010224096331512555\n",
      "epoch = 589, loss = 0.00010180493700318038\n",
      "epoch = 590, loss = 0.00010137054050574079\n",
      "epoch = 591, loss = 0.00010093810124089941\n",
      "epoch = 592, loss = 0.00010050670971395448\n",
      "epoch = 593, loss = 0.00010007713717641309\n",
      "epoch = 594, loss = 9.964875061996281e-05\n",
      "epoch = 595, loss = 9.922219760483131e-05\n",
      "epoch = 596, loss = 9.879664867185056e-05\n",
      "epoch = 597, loss = 9.83727877610363e-05\n",
      "epoch = 598, loss = 9.795031655812636e-05\n",
      "epoch = 599, loss = 9.752900223247707e-05\n",
      "epoch = 600, loss = 9.710960148368031e-05\n",
      "epoch = 601, loss = 9.669177234172821e-05\n",
      "epoch = 602, loss = 9.627520194044337e-05\n",
      "epoch = 603, loss = 9.585991210769862e-05\n",
      "epoch = 604, loss = 9.544616477796808e-05\n",
      "epoch = 605, loss = 9.503382170805708e-05\n",
      "epoch = 606, loss = 9.46230284171179e-05\n",
      "epoch = 607, loss = 9.421356662642211e-05\n",
      "epoch = 608, loss = 9.380557457916439e-05\n",
      "epoch = 609, loss = 9.339897951576859e-05\n",
      "epoch = 610, loss = 9.299385419581085e-05\n",
      "epoch = 611, loss = 9.259003854822367e-05\n",
      "epoch = 612, loss = 9.218767081620172e-05\n",
      "epoch = 613, loss = 9.178681648336351e-05\n",
      "epoch = 614, loss = 9.138721361523494e-05\n",
      "epoch = 615, loss = 9.098921873373911e-05\n",
      "epoch = 616, loss = 9.059243166120723e-05\n",
      "epoch = 617, loss = 9.019722347147763e-05\n",
      "epoch = 618, loss = 8.98030775715597e-05\n",
      "epoch = 619, loss = 8.941046689869836e-05\n",
      "epoch = 620, loss = 8.90194351086393e-05\n",
      "epoch = 621, loss = 8.862983668223023e-05\n",
      "epoch = 622, loss = 8.824128599371761e-05\n",
      "epoch = 623, loss = 8.785408135736361e-05\n",
      "epoch = 624, loss = 8.746844105189666e-05\n",
      "epoch = 625, loss = 8.708413952263072e-05\n",
      "epoch = 626, loss = 8.670135139254853e-05\n",
      "epoch = 627, loss = 8.631990931462497e-05\n",
      "epoch = 628, loss = 8.594001701567322e-05\n",
      "epoch = 629, loss = 8.556079410482198e-05\n",
      "epoch = 630, loss = 8.518348477082327e-05\n",
      "epoch = 631, loss = 8.480726683046669e-05\n",
      "epoch = 632, loss = 8.443247497780249e-05\n",
      "epoch = 633, loss = 8.405917469644919e-05\n",
      "epoch = 634, loss = 8.368671842617914e-05\n",
      "epoch = 635, loss = 8.33161102491431e-05\n",
      "epoch = 636, loss = 8.294690633192658e-05\n",
      "epoch = 637, loss = 8.25786410132423e-05\n",
      "epoch = 638, loss = 8.22121073724702e-05\n",
      "epoch = 639, loss = 8.18465487100184e-05\n",
      "epoch = 640, loss = 8.148256893036887e-05\n",
      "epoch = 641, loss = 8.111962233670056e-05\n",
      "epoch = 642, loss = 8.075834921328351e-05\n",
      "epoch = 643, loss = 8.039814565563574e-05\n",
      "epoch = 644, loss = 8.003925904631615e-05\n",
      "epoch = 645, loss = 7.968179124873132e-05\n",
      "epoch = 646, loss = 7.932519656606019e-05\n",
      "epoch = 647, loss = 7.89706245996058e-05\n",
      "epoch = 648, loss = 7.861720223445445e-05\n",
      "epoch = 649, loss = 7.826461660442874e-05\n",
      "epoch = 650, loss = 7.79135079937987e-05\n",
      "epoch = 651, loss = 7.756365812383592e-05\n",
      "epoch = 652, loss = 7.721541624050587e-05\n",
      "epoch = 653, loss = 7.686795288464054e-05\n",
      "epoch = 654, loss = 7.652207568753511e-05\n",
      "epoch = 655, loss = 7.617716619279236e-05\n",
      "epoch = 656, loss = 7.583422848256305e-05\n",
      "epoch = 657, loss = 7.549185829702765e-05\n",
      "epoch = 658, loss = 7.515112520195544e-05\n",
      "epoch = 659, loss = 7.481143256882206e-05\n",
      "epoch = 660, loss = 7.447352982126176e-05\n",
      "epoch = 661, loss = 7.41362600820139e-05\n",
      "epoch = 662, loss = 7.38004528102465e-05\n",
      "epoch = 663, loss = 7.346564234467223e-05\n",
      "epoch = 664, loss = 7.313240348594263e-05\n",
      "epoch = 665, loss = 7.280044519575313e-05\n",
      "epoch = 666, loss = 7.2469498263672e-05\n",
      "epoch = 667, loss = 7.214027573354542e-05\n",
      "epoch = 668, loss = 7.181165710790083e-05\n",
      "epoch = 669, loss = 7.148434087866917e-05\n",
      "epoch = 670, loss = 7.115893822629005e-05\n",
      "epoch = 671, loss = 7.083416130626574e-05\n",
      "epoch = 672, loss = 7.051043212413788e-05\n",
      "epoch = 673, loss = 7.018868927843869e-05\n",
      "epoch = 674, loss = 6.98674630257301e-05\n",
      "epoch = 675, loss = 6.954755372134969e-05\n",
      "epoch = 676, loss = 6.92292014718987e-05\n",
      "epoch = 677, loss = 6.891178054502234e-05\n",
      "epoch = 678, loss = 6.859568384243175e-05\n",
      "epoch = 679, loss = 6.828060577390715e-05\n",
      "epoch = 680, loss = 6.796671368647367e-05\n",
      "epoch = 681, loss = 6.765458965674043e-05\n",
      "epoch = 682, loss = 6.734294584020972e-05\n",
      "epoch = 683, loss = 6.703268445562571e-05\n",
      "epoch = 684, loss = 6.672374729532748e-05\n",
      "epoch = 685, loss = 6.641579238930717e-05\n",
      "epoch = 686, loss = 6.610972923226655e-05\n",
      "epoch = 687, loss = 6.580403714906424e-05\n",
      "epoch = 688, loss = 6.549982936121523e-05\n",
      "epoch = 689, loss = 6.519674207083881e-05\n",
      "epoch = 690, loss = 6.489474617410451e-05\n",
      "epoch = 691, loss = 6.459392898250371e-05\n",
      "epoch = 692, loss = 6.429441418731585e-05\n",
      "epoch = 693, loss = 6.399609992513433e-05\n",
      "epoch = 694, loss = 6.369882612489164e-05\n",
      "epoch = 695, loss = 6.340286927297711e-05\n",
      "epoch = 696, loss = 6.310778553597629e-05\n",
      "epoch = 697, loss = 6.281407695496455e-05\n",
      "epoch = 698, loss = 6.252122693695128e-05\n",
      "epoch = 699, loss = 6.222989031812176e-05\n",
      "epoch = 700, loss = 6.193949957378209e-05\n",
      "epoch = 701, loss = 6.165030936244875e-05\n",
      "epoch = 702, loss = 6.13621887168847e-05\n",
      "epoch = 703, loss = 6.107534863986075e-05\n",
      "epoch = 704, loss = 6.078931983211078e-05\n",
      "epoch = 705, loss = 6.050477168173529e-05\n",
      "epoch = 706, loss = 6.0221063904464245e-05\n",
      "epoch = 707, loss = 5.993871309328824e-05\n",
      "epoch = 708, loss = 5.965733726043254e-05\n",
      "epoch = 709, loss = 5.937715104664676e-05\n",
      "epoch = 710, loss = 5.909788524149917e-05\n",
      "epoch = 711, loss = 5.8819903642870486e-05\n",
      "epoch = 712, loss = 5.854275150340982e-05\n",
      "epoch = 713, loss = 5.826711640111171e-05\n",
      "epoch = 714, loss = 5.799243081128225e-05\n",
      "epoch = 715, loss = 5.771886935690418e-05\n",
      "epoch = 716, loss = 5.7446490245638415e-05\n",
      "epoch = 717, loss = 5.717506792279892e-05\n",
      "epoch = 718, loss = 5.690463513019495e-05\n",
      "epoch = 719, loss = 5.6635206419741735e-05\n",
      "epoch = 720, loss = 5.636735295411199e-05\n",
      "epoch = 721, loss = 5.61002416361589e-05\n",
      "epoch = 722, loss = 5.583414895227179e-05\n",
      "epoch = 723, loss = 5.556944597628899e-05\n",
      "epoch = 724, loss = 5.530529233510606e-05\n",
      "epoch = 725, loss = 5.504273940459825e-05\n",
      "epoch = 726, loss = 5.4781008657300845e-05\n",
      "epoch = 727, loss = 5.4520420235348865e-05\n",
      "epoch = 728, loss = 5.4260744946077466e-05\n",
      "epoch = 729, loss = 5.400219015427865e-05\n",
      "epoch = 730, loss = 5.374483225750737e-05\n",
      "epoch = 731, loss = 5.348838749341667e-05\n",
      "epoch = 732, loss = 5.3232870413921773e-05\n",
      "epoch = 733, loss = 5.29786448169034e-05\n",
      "epoch = 734, loss = 5.272560883895494e-05\n",
      "epoch = 735, loss = 5.2473045798251405e-05\n",
      "epoch = 736, loss = 5.2221963414922357e-05\n",
      "epoch = 737, loss = 5.197194332140498e-05\n",
      "epoch = 738, loss = 5.1722581702051684e-05\n",
      "epoch = 739, loss = 5.147448246134445e-05\n",
      "epoch = 740, loss = 5.1227536459919065e-05\n",
      "epoch = 741, loss = 5.0981398089788854e-05\n",
      "epoch = 742, loss = 5.073647480458021e-05\n",
      "epoch = 743, loss = 5.049250103184022e-05\n",
      "epoch = 744, loss = 5.02494876855053e-05\n",
      "epoch = 745, loss = 5.000736564397812e-05\n",
      "epoch = 746, loss = 4.9766545998863876e-05\n",
      "epoch = 747, loss = 4.952671952196397e-05\n",
      "epoch = 748, loss = 4.9287489673588425e-05\n",
      "epoch = 749, loss = 4.9049718654714525e-05\n",
      "epoch = 750, loss = 4.8812747991178185e-05\n",
      "epoch = 751, loss = 4.857698149862699e-05\n",
      "epoch = 752, loss = 4.8341709771193564e-05\n",
      "epoch = 753, loss = 4.8107878683367744e-05\n",
      "epoch = 754, loss = 4.787482612300664e-05\n",
      "epoch = 755, loss = 4.764294862980023e-05\n",
      "epoch = 756, loss = 4.7411638661287725e-05\n",
      "epoch = 757, loss = 4.7181834816001356e-05\n",
      "epoch = 758, loss = 4.6952758566476405e-05\n",
      "epoch = 759, loss = 4.672462455346249e-05\n",
      "epoch = 760, loss = 4.649764741770923e-05\n",
      "epoch = 761, loss = 4.627128510037437e-05\n",
      "epoch = 762, loss = 4.604624700732529e-05\n",
      "epoch = 763, loss = 4.582199107971974e-05\n",
      "epoch = 764, loss = 4.5598972064908594e-05\n",
      "epoch = 765, loss = 4.537649510893971e-05\n",
      "epoch = 766, loss = 4.5154913095757365e-05\n",
      "epoch = 767, loss = 4.4934680772712454e-05\n",
      "epoch = 768, loss = 4.471530337468721e-05\n",
      "epoch = 769, loss = 4.4496740883914754e-05\n",
      "epoch = 770, loss = 4.427945168572478e-05\n",
      "epoch = 771, loss = 4.406256630318239e-05\n",
      "epoch = 772, loss = 4.3846797780133784e-05\n",
      "epoch = 773, loss = 4.363225889392197e-05\n",
      "epoch = 774, loss = 4.341839303378947e-05\n",
      "epoch = 775, loss = 4.3205545807722956e-05\n",
      "epoch = 776, loss = 4.2993793613277376e-05\n",
      "epoch = 777, loss = 4.278273263480514e-05\n",
      "epoch = 778, loss = 4.257245018379763e-05\n",
      "epoch = 779, loss = 4.236315726302564e-05\n",
      "epoch = 780, loss = 4.2155152186751366e-05\n",
      "epoch = 781, loss = 4.194779467070475e-05\n",
      "epoch = 782, loss = 4.1741281165741384e-05\n",
      "epoch = 783, loss = 4.153573900111951e-05\n",
      "epoch = 784, loss = 4.133126276428811e-05\n",
      "epoch = 785, loss = 4.11275977967307e-05\n",
      "epoch = 786, loss = 4.092470771865919e-05\n",
      "epoch = 787, loss = 4.072273077326827e-05\n",
      "epoch = 788, loss = 4.052156145917252e-05\n",
      "epoch = 789, loss = 4.032147626276128e-05\n",
      "epoch = 790, loss = 4.012242061435245e-05\n",
      "epoch = 791, loss = 3.992399069829844e-05\n",
      "epoch = 792, loss = 3.972649574279785e-05\n",
      "epoch = 793, loss = 3.953001578338444e-05\n",
      "epoch = 794, loss = 3.93342888855841e-05\n",
      "epoch = 795, loss = 3.913940963684581e-05\n",
      "epoch = 796, loss = 3.894543624483049e-05\n",
      "epoch = 797, loss = 3.8752528780605644e-05\n",
      "epoch = 798, loss = 3.856027251458727e-05\n",
      "epoch = 799, loss = 3.8368965761037543e-05\n",
      "epoch = 800, loss = 3.817853212240152e-05\n",
      "epoch = 801, loss = 3.798888792516664e-05\n",
      "epoch = 802, loss = 3.7800142308697104e-05\n",
      "epoch = 803, loss = 3.7612131563946605e-05\n",
      "epoch = 804, loss = 3.742520129890181e-05\n",
      "epoch = 805, loss = 3.723900954355486e-05\n",
      "epoch = 806, loss = 3.7053428968647495e-05\n",
      "epoch = 807, loss = 3.686895433929749e-05\n",
      "epoch = 808, loss = 3.668521821964532e-05\n",
      "epoch = 809, loss = 3.6502482544165105e-05\n",
      "epoch = 810, loss = 3.63204198947642e-05\n",
      "epoch = 811, loss = 3.613925218814984e-05\n",
      "epoch = 812, loss = 3.595898306230083e-05\n",
      "epoch = 813, loss = 3.577959432732314e-05\n",
      "epoch = 814, loss = 3.560093682608567e-05\n",
      "epoch = 815, loss = 3.5423116059973836e-05\n",
      "epoch = 816, loss = 3.524598650983535e-05\n",
      "epoch = 817, loss = 3.506984285195358e-05\n",
      "epoch = 818, loss = 3.489445225568488e-05\n",
      "epoch = 819, loss = 3.471985473879613e-05\n",
      "epoch = 820, loss = 3.454608304309659e-05\n",
      "epoch = 821, loss = 3.437296618358232e-05\n",
      "epoch = 822, loss = 3.420086795813404e-05\n",
      "epoch = 823, loss = 3.402955553610809e-05\n",
      "epoch = 824, loss = 3.3858952519949526e-05\n",
      "epoch = 825, loss = 3.368922625668347e-05\n",
      "epoch = 826, loss = 3.3520111173857003e-05\n",
      "epoch = 827, loss = 3.3352036552969366e-05\n",
      "epoch = 828, loss = 3.318469680380076e-05\n",
      "epoch = 829, loss = 3.301800097688101e-05\n",
      "epoch = 830, loss = 3.285232014604844e-05\n",
      "epoch = 831, loss = 3.2687297789379954e-05\n",
      "epoch = 832, loss = 3.25230612361338e-05\n",
      "epoch = 833, loss = 3.235967960790731e-05\n",
      "epoch = 834, loss = 3.2196854590438306e-05\n",
      "epoch = 835, loss = 3.2034979085437953e-05\n",
      "epoch = 836, loss = 3.1873812986304983e-05\n",
      "epoch = 837, loss = 3.1713381758891046e-05\n",
      "epoch = 838, loss = 3.1553856388200074e-05\n",
      "epoch = 839, loss = 3.1394840334542096e-05\n",
      "epoch = 840, loss = 3.123677015537396e-05\n",
      "epoch = 841, loss = 3.10796094709076e-05\n",
      "epoch = 842, loss = 3.0923063604859635e-05\n",
      "epoch = 843, loss = 3.076700522797182e-05\n",
      "epoch = 844, loss = 3.06119691231288e-05\n",
      "epoch = 845, loss = 3.045757330255583e-05\n",
      "epoch = 846, loss = 3.0303857784019783e-05\n",
      "epoch = 847, loss = 3.0151120881782845e-05\n",
      "epoch = 848, loss = 2.999907337652985e-05\n",
      "epoch = 849, loss = 2.9847667974536307e-05\n",
      "epoch = 850, loss = 2.969711749756243e-05\n",
      "epoch = 851, loss = 2.9547034500865266e-05\n",
      "epoch = 852, loss = 2.9397784601314925e-05\n",
      "epoch = 853, loss = 2.9249242288642563e-05\n",
      "epoch = 854, loss = 2.910164403147064e-05\n",
      "epoch = 855, loss = 2.8954562367289327e-05\n",
      "epoch = 856, loss = 2.8808328352170065e-05\n",
      "epoch = 857, loss = 2.866276918211952e-05\n",
      "epoch = 858, loss = 2.8517715691123158e-05\n",
      "epoch = 859, loss = 2.837371539499145e-05\n",
      "epoch = 860, loss = 2.8230208044988103e-05\n",
      "epoch = 861, loss = 2.8087315513403155e-05\n",
      "epoch = 862, loss = 2.7945474357693456e-05\n",
      "epoch = 863, loss = 2.7804067940451205e-05\n",
      "epoch = 864, loss = 2.7663445507641882e-05\n",
      "epoch = 865, loss = 2.752344880718738e-05\n",
      "epoch = 866, loss = 2.7384232453186996e-05\n",
      "epoch = 867, loss = 2.7245581804891117e-05\n",
      "epoch = 868, loss = 2.7107740606879815e-05\n",
      "epoch = 869, loss = 2.6970659746439196e-05\n",
      "epoch = 870, loss = 2.6834024538402446e-05\n",
      "epoch = 871, loss = 2.66982642642688e-05\n",
      "epoch = 872, loss = 2.656301876413636e-05\n",
      "epoch = 873, loss = 2.642870822455734e-05\n",
      "epoch = 874, loss = 2.6294839699403383e-05\n",
      "epoch = 875, loss = 2.616169695102144e-05\n",
      "epoch = 876, loss = 2.6029178116004914e-05\n",
      "epoch = 877, loss = 2.5897486921167e-05\n",
      "epoch = 878, loss = 2.5766245016711764e-05\n",
      "epoch = 879, loss = 2.5635834390413947e-05\n",
      "epoch = 880, loss = 2.5506036763545126e-05\n",
      "epoch = 881, loss = 2.537687760195695e-05\n",
      "epoch = 882, loss = 2.5248362362617627e-05\n",
      "epoch = 883, loss = 2.5120411009993404e-05\n",
      "epoch = 884, loss = 2.499340735084843e-05\n",
      "epoch = 885, loss = 2.4866747480700724e-05\n",
      "epoch = 886, loss = 2.474085704307072e-05\n",
      "epoch = 887, loss = 2.461568874423392e-05\n",
      "epoch = 888, loss = 2.4490966097800992e-05\n",
      "epoch = 889, loss = 2.436702561681159e-05\n",
      "epoch = 890, loss = 2.424353988317307e-05\n",
      "epoch = 891, loss = 2.412103276583366e-05\n",
      "epoch = 892, loss = 2.3998794858925976e-05\n",
      "epoch = 893, loss = 2.387730091868434e-05\n",
      "epoch = 894, loss = 2.3756590962875634e-05\n",
      "epoch = 895, loss = 2.3636301193619147e-05\n",
      "epoch = 896, loss = 2.3516640794696286e-05\n",
      "epoch = 897, loss = 2.3397873519570567e-05\n",
      "epoch = 898, loss = 2.3279430024558678e-05\n",
      "epoch = 899, loss = 2.3161577701102942e-05\n",
      "epoch = 900, loss = 2.30445948545821e-05\n",
      "epoch = 901, loss = 2.292807403136976e-05\n",
      "epoch = 902, loss = 2.281202978338115e-05\n",
      "epoch = 903, loss = 2.2696860469295643e-05\n",
      "epoch = 904, loss = 2.258211861771997e-05\n",
      "epoch = 905, loss = 2.246798794658389e-05\n",
      "epoch = 906, loss = 2.235446299891919e-05\n",
      "epoch = 907, loss = 2.2241571059566922e-05\n",
      "epoch = 908, loss = 2.2129202989162877e-05\n",
      "epoch = 909, loss = 2.2017482478986494e-05\n",
      "epoch = 910, loss = 2.1906358597334474e-05\n",
      "epoch = 911, loss = 2.179582770622801e-05\n",
      "epoch = 912, loss = 2.1685860701836646e-05\n",
      "epoch = 913, loss = 2.1576450308202766e-05\n",
      "epoch = 914, loss = 2.1467581973411143e-05\n",
      "epoch = 915, loss = 2.1359428501455113e-05\n",
      "epoch = 916, loss = 2.1251707948977128e-05\n",
      "epoch = 917, loss = 2.1144631318747997e-05\n",
      "epoch = 918, loss = 2.1037994883954525e-05\n",
      "epoch = 919, loss = 2.0932124243699946e-05\n",
      "epoch = 920, loss = 2.082676837744657e-05\n",
      "epoch = 921, loss = 2.0721900000353344e-05\n",
      "epoch = 922, loss = 2.0617650079657324e-05\n",
      "epoch = 923, loss = 2.0513934941845946e-05\n",
      "epoch = 924, loss = 2.0410749129951e-05\n",
      "epoch = 925, loss = 2.0308152670622803e-05\n",
      "epoch = 926, loss = 2.0206212866469286e-05\n",
      "epoch = 927, loss = 2.0104584109503776e-05\n",
      "epoch = 928, loss = 2.0003697500214912e-05\n",
      "epoch = 929, loss = 1.9903243810404092e-05\n",
      "epoch = 930, loss = 1.9803386749117635e-05\n",
      "epoch = 931, loss = 1.9704057194758207e-05\n",
      "epoch = 932, loss = 1.9605264242272824e-05\n",
      "epoch = 933, loss = 1.9507160686771385e-05\n",
      "epoch = 934, loss = 1.9409375454415567e-05\n",
      "epoch = 935, loss = 1.9312223230372183e-05\n",
      "epoch = 936, loss = 1.921550210681744e-05\n",
      "epoch = 937, loss = 1.911940489662811e-05\n",
      "epoch = 938, loss = 1.902380790852476e-05\n",
      "epoch = 939, loss = 1.892861291707959e-05\n",
      "epoch = 940, loss = 1.883414552139584e-05\n",
      "epoch = 941, loss = 1.8740065570455045e-05\n",
      "epoch = 942, loss = 1.8646533135324717e-05\n",
      "epoch = 943, loss = 1.8553482732386328e-05\n",
      "epoch = 944, loss = 1.8461056242813356e-05\n",
      "epoch = 945, loss = 1.8369049939792603e-05\n",
      "epoch = 946, loss = 1.8277565686730668e-05\n",
      "epoch = 947, loss = 1.8186525267083198e-05\n",
      "epoch = 948, loss = 1.809617788239848e-05\n",
      "epoch = 949, loss = 1.8006167010753416e-05\n",
      "epoch = 950, loss = 1.7916716387844644e-05\n",
      "epoch = 951, loss = 1.7827676856541075e-05\n",
      "epoch = 952, loss = 1.7739243048708886e-05\n",
      "epoch = 953, loss = 1.7651167581789196e-05\n",
      "epoch = 954, loss = 1.7563788787811063e-05\n",
      "epoch = 955, loss = 1.747673195495736e-05\n",
      "epoch = 956, loss = 1.7390249922755174e-05\n",
      "epoch = 957, loss = 1.7304138964391313e-05\n",
      "epoch = 958, loss = 1.7218571883859113e-05\n",
      "epoch = 959, loss = 1.71335123013705e-05\n",
      "epoch = 960, loss = 1.7048978406819515e-05\n",
      "epoch = 961, loss = 1.696487561275717e-05\n",
      "epoch = 962, loss = 1.6881229385035113e-05\n",
      "epoch = 963, loss = 1.6797936041257344e-05\n",
      "epoch = 964, loss = 1.6715252058929764e-05\n",
      "epoch = 965, loss = 1.6633128325338475e-05\n",
      "epoch = 966, loss = 1.6551248336327262e-05\n",
      "epoch = 967, loss = 1.647006683924701e-05\n",
      "epoch = 968, loss = 1.6389078155043535e-05\n",
      "epoch = 969, loss = 1.630878796277102e-05\n",
      "epoch = 970, loss = 1.6228783351834863e-05\n",
      "epoch = 971, loss = 1.614931898075156e-05\n",
      "epoch = 972, loss = 1.607025660632644e-05\n",
      "epoch = 973, loss = 1.599170900590252e-05\n",
      "epoch = 974, loss = 1.5913552488200366e-05\n",
      "epoch = 975, loss = 1.583587800269015e-05\n",
      "epoch = 976, loss = 1.57586982822977e-05\n",
      "epoch = 977, loss = 1.568187326483894e-05\n",
      "epoch = 978, loss = 1.5605543012497947e-05\n",
      "epoch = 979, loss = 1.5529569282080047e-05\n",
      "epoch = 980, loss = 1.5454128515557386e-05\n",
      "epoch = 981, loss = 1.5379102478618734e-05\n",
      "epoch = 982, loss = 1.5304529370041564e-05\n",
      "epoch = 983, loss = 1.5230370991048403e-05\n",
      "epoch = 984, loss = 1.5156494555412792e-05\n",
      "epoch = 985, loss = 1.5083261132531334e-05\n",
      "epoch = 986, loss = 1.5010333299869671e-05\n",
      "epoch = 987, loss = 1.4937861124053597e-05\n",
      "epoch = 988, loss = 1.4865846424072515e-05\n",
      "epoch = 989, loss = 1.4794157323194668e-05\n",
      "epoch = 990, loss = 1.4722980267833918e-05\n",
      "epoch = 991, loss = 1.465215245843865e-05\n",
      "epoch = 992, loss = 1.4581808500224724e-05\n",
      "epoch = 993, loss = 1.451188563805772e-05\n",
      "epoch = 994, loss = 1.4442254723689985e-05\n",
      "epoch = 995, loss = 1.437310675100889e-05\n",
      "epoch = 996, loss = 1.4304368960438296e-05\n",
      "epoch = 997, loss = 1.4236013157642446e-05\n",
      "epoch = 998, loss = 1.4168114830681589e-05\n",
      "epoch = 999, loss = 1.4100491171120666e-05\n"
     ]
    }
   ],
   "source": [
    "# Train a pure MLP in x direction\n",
    "model_mlp = MLP()\n",
    "optimizer_mlp = optim.Adam(model_mlp.parameters(), lr=1e-3)\n",
    "for epoch in range(1000):\n",
    "\n",
    "        optimizer_mlp.zero_grad()\n",
    "        pred = model_mlp(reg_in)\n",
    "        mlp_loss = torch.mean((reg_xlabel - pred) ** 2)\n",
    "        mlp_loss.backward()\n",
    "        optimizer_mlp.step()\n",
    "        print(\"epoch = {}, loss = {}\".format(epoch, mlp_loss))"
   ]
  },
  {
   "cell_type": "code",
   "execution_count": 114,
   "metadata": {},
   "outputs": [
    {
     "data": {
      "image/png": "[encoded data removed]",
      "text/plain": [
       "<Figure size 1000x400 with 1 Axes>"
      ]
     },
     "metadata": {},
     "output_type": "display_data"
    }
   ],
   "source": [
    "# Time series\n",
    "\n",
    "ts_torch = torch.from_numpy(ts).type(torch.float32)\n",
    "ts_torch = ts_torch[:,None]\n",
    "\n",
    "plt.figure(figsize=(10, 4))\n",
    "plt.plot(ts, x_with_resistance,color = \"silver\", lw = 4)\n",
    "plt.plot(ts, model( ts_torch )[:,0:1].detach().numpy(),lw = 2)\n",
    "plt.plot(ts, model_mlp( ts_torch )[:,0:1].detach().numpy(), color = \"black\", lw = 2)\n",
    "plt.scatter(t_train, x_train,alpha=0.5, c = \"red\")\n",
    "plt.xlabel('Time [s]')\n",
    "plt.ylabel('X Position [m]')\n",
    "plt.legend(['Ground truth', 'Prediction (PINN)', \"Prediciton (Pure MLP)\",\"measured data\"])\n",
    "plt.grid(True)"
   ]
  },
  {
   "cell_type": "code",
   "execution_count": 115,
   "metadata": {},
   "outputs": [
    {
     "name": "stdout",
     "output_type": "stream",
     "text": [
      "Parameter containing:\n",
      "tensor([0.0984], requires_grad=True)\n"
     ]
    },
    {
     "data": {
      "text/plain": [
       "<matplotlib.legend.Legend at 0x202dc6710d0>"
      ]
     },
     "execution_count": 115,
     "metadata": {},
     "output_type": "execute_result"
    },
    {
     "data": {
      "image/png": "[encoded data removed]",
      "text/plain": [
       "<Figure size 640x480 with 1 Axes>"
      ]
     },
     "metadata": {},
     "output_type": "display_data"
    }
   ],
   "source": [
    "print(f_model.k)\n",
    "\n",
    "plt.plot(np.asarray(Alpha_k), label = r\"estimate $k$\")\n",
    "plt.plot(np.linspace(0,n_epoch, n_epoch), k*np.ones(n_epoch),\"--\", color = \"gray\", label = r\"true $k$\")\n",
    "plt.ylabel(r\"$k$\")\n",
    "plt.xlabel(\"epoch\")\n",
    "plt.legend()"
   ]
  }
 ],
 "metadata": {
  "kernelspec": {
   "display_name": "Python 3",
   "language": "python",
   "name": "python3"
  },
  "language_info": {
   "codemirror_mode": {
    "name": "ipython",
    "version": 3
   },
   "file_extension": ".py",
   "mimetype": "text/x-python",
   "name": "python",
   "nbconvert_exporter": "python",
   "pygments_lexer": "ipython3",
   "version": "3.11.5"
  }
 },
 "nbformat": 4,
 "nbformat_minor": 2
}
