{
 "cells": [
  {
   "cell_type": "code",
   "execution_count": 24,
   "metadata": {},
   "outputs": [],
   "source": [
    "import numpy as np\n",
    "from tqdm import tqdm\n",
    "import torch\n",
    "import torch.nn as nn\n",
    "from torch import optim\n",
    "from torch.autograd import Variable\n",
    "import plotly.graph_objects as go\n",
    "import scipy.io as scio\n",
    "import random\n",
    "from matplotlib import pyplot as plt\n",
    "from scipy.integrate import odeint"
   ]
  },
  {
   "cell_type": "code",
   "execution_count": 25,
   "metadata": {},
   "outputs": [],
   "source": [
    "def projectile_motion_with_resistance(state, t, g, k, m):\n",
    "    x, y, v_x, v_y = state\n",
    "    n = 3\n",
    "    dx_dt = v_x\n",
    "    dy_dt = v_y\n",
    "    dv_x_dt = -(k/m) * v_x**n \n",
    "    dv_y_dt = -g - (k/m) * v_y**n\n",
    "    \n",
    "    return [dx_dt, dy_dt, dv_x_dt, dv_y_dt]\n",
    "\n",
    "# 定义参数\n",
    "g = 9.8  # 重力加速度\n",
    "k = 0.1  # 空气阻力系数\n",
    "m = 1.0  # 物体质量\n",
    "\n",
    "# 定义初始条件\n",
    "x0 = 0.0  # 初始水平位置\n",
    "y0 = 10  # 初始垂直位置\n",
    "v_x0 = 2.0  # 初始水平速度\n",
    "v_y0 = 0  # 初始垂直速度\n",
    "\n",
    "# 定义时间点\n",
    "ts = np.linspace(0, 2, 1000)  # 从0到2秒，共取100个时间点\n",
    "\n",
    "# 定义初始状态向量\n",
    "initial_state = [x0, y0, v_x0, v_y0]\n",
    "\n",
    "# 求解ODE方程组\n",
    "solution_with_resistance = odeint(projectile_motion_with_resistance, initial_state, ts, args=(g, k, m))\n",
    "\n",
    "# 提取位置和速度信息\n",
    "x_with_resistance = solution_with_resistance[:, 0]\n",
    "y_with_resistance = solution_with_resistance[:, 1]\n",
    "v_x_with_resistance = solution_with_resistance[:, 2]\n",
    "v_y_with_resistance = solution_with_resistance[:, 3]"
   ]
  },
  {
   "cell_type": "code",
   "execution_count": 26,
   "metadata": {},
   "outputs": [
    {
     "data": {
      "image/png": "[encoded data removed]",
      "text/plain": [
       "<Figure size 640x480 with 1 Axes>"
      ]
     },
     "metadata": {},
     "output_type": "display_data"
    }
   ],
   "source": [
    "# 绘制轨迹\n",
    "plt.plot(x_with_resistance, y_with_resistance, label = 'with resistance', marker='o', markersize = 3)\n",
    "#plt.plot(state_list[:, 0], state_list[:, 1], label = 'Kalman Filter tracking', marker='o', markersize = 3)\n",
    "plt.xlabel('x (meter)')\n",
    "plt.ylabel('y (meter)')\n",
    "plt.title('Projectile Motion trajectory')\n",
    "plt.grid(True)\n",
    "plt.legend()\n",
    "plt.show()"
   ]
  },
  {
   "cell_type": "code",
   "execution_count": 27,
   "metadata": {},
   "outputs": [],
   "source": [
    "n_train = 800\n",
    "t_train = ts[:n_train]\n",
    "x_train = x_with_resistance[:n_train]\n",
    "y_train = y_with_resistance[:n_train]"
   ]
  },
  {
   "cell_type": "code",
   "execution_count": 28,
   "metadata": {},
   "outputs": [
    {
     "name": "stdout",
     "output_type": "stream",
     "text": [
      "torch.Size([800, 2])\n"
     ]
    }
   ],
   "source": [
    "# data preparation\n",
    "n_f = 10000\n",
    "f_batch_size = 32\n",
    "\n",
    "reg_in = torch.from_numpy(t_train).type(torch.float32)\n",
    "reg_in = reg_in[:,None]\n",
    "\n",
    "label = np.vstack([x_train,y_train])\n",
    "reg_label = torch.from_numpy(label.T).type(torch.float32)\n",
    "\n",
    "print(reg_label.shape)\n",
    "\n",
    "f_x = np.random.uniform(0, 5, n_f)\n",
    "f_y = np.random.uniform(2, 10, n_f)\n",
    "f_t = np.random.uniform(0, 2, n_f)\n",
    "\n",
    "f_data = np.vstack([f_x, f_y, f_t]).T\n",
    "f_input = Variable(torch.from_numpy(f_data[:, 0:2]).type(torch.FloatTensor), requires_grad=True)\n",
    "f_t = Variable(torch.from_numpy(f_data[:, 2:3]).type(torch.FloatTensor), requires_grad=True)\n",
    "\n",
    "f_dataset = torch.utils.data.TensorDataset(f_input, f_t)\n",
    "\n",
    "f_data_loader_x = torch.utils.data.DataLoader(f_dataset, batch_size = f_batch_size, shuffle=True)\n"
   ]
  },
  {
   "cell_type": "code",
   "execution_count": 29,
   "metadata": {},
   "outputs": [],
   "source": [
    "# Define a MLP and function f\n",
    "class MLP(nn.Module):\n",
    "    def __init__(self, in_dim = 1,  hidden_dim = 128, out_dim = 2):\n",
    "\n",
    "        super(MLP, self).__init__()\n",
    "        self.mlp = nn.Sequential(\n",
    "                                nn.Linear(in_dim, hidden_dim),\n",
    "                                nn.Tanh(),\n",
    "                                nn.Linear(hidden_dim, hidden_dim),\n",
    "                                nn.Tanh(),\n",
    "                                nn.Linear(hidden_dim, hidden_dim),\n",
    "                                nn.Tanh(),\n",
    "                                nn.Linear(hidden_dim, out_dim),\n",
    "                                        )\n",
    "\n",
    "    def forward(self, data_in):\n",
    "        return self.mlp(data_in)\n",
    "\n",
    "model = MLP()\n",
    "\n",
    "class f_t(nn.Module):\n",
    "\n",
    "    def __init__(self):\n",
    "\n",
    "        super(f_t, self).__init__()\n",
    "        self.k = nn.Parameter(1*torch.ones(1, ), requires_grad=True)\n",
    "        #self.m = nn.Parameter(1*torch.ones(1, ), requires_grad=True)\n",
    "        #self.n = nn.Parameter(1*torch.ones(1, ), requires_grad=True)\n",
    "\n",
    "    def forward(self, t):\n",
    "        u = model(t)\n",
    "        u_t_x = torch.autograd.grad(u[:,0:1], t, grad_outputs=torch.ones_like(u[:,0:1]),\n",
    "                                  create_graph=True, retain_graph=True)[0]\n",
    "        u_tt_x = torch.autograd.grad(u_t_x, t, grad_outputs=torch.ones_like(u[:,0:1]),\n",
    "                                  create_graph=True, retain_graph=True)[0]\n",
    "\n",
    "        u_t_y = torch.autograd.grad(u[:,1:2], t, grad_outputs=torch.ones_like(u[:,1:2]),\n",
    "                                  create_graph=True, retain_graph=True)[0]\n",
    "        u_tt_y = torch.autograd.grad(u_t_y, t, grad_outputs=torch.ones_like(u[:,1:2]),\n",
    "                                  create_graph=True, retain_graph=True)[0]\n",
    "        return u_tt_x + (self.k)*u_t_x**3 + u_tt_y + (self.k)*u_t_y**3 + 9.8\n"
   ]
  },
  {
   "cell_type": "code",
   "execution_count": 30,
   "metadata": {},
   "outputs": [
    {
     "name": "stderr",
     "output_type": "stream",
     "text": [
      "100%|██████████| 313/313 [00:02<00:00, 155.96it/s]\n"
     ]
    },
    {
     "name": "stdout",
     "output_type": "stream",
     "text": [
      "epoch = 0, loss = 0.4644447863101959\n",
      "epoch = 0, f_loss = 0.003147974843159318\n",
      "epoch = 0, reg_loss = 0.46129679679870605\n"
     ]
    },
    {
     "name": "stderr",
     "output_type": "stream",
     "text": [
      "100%|██████████| 313/313 [00:02<00:00, 156.43it/s]\n"
     ]
    },
    {
     "name": "stdout",
     "output_type": "stream",
     "text": [
      "epoch = 1, loss = 0.29817137122154236\n",
      "epoch = 1, f_loss = 0.0028309104964137077\n",
      "epoch = 1, reg_loss = 0.2953404486179352\n"
     ]
    },
    {
     "name": "stderr",
     "output_type": "stream",
     "text": [
      "100%|██████████| 313/313 [00:02<00:00, 155.75it/s]\n"
     ]
    },
    {
     "name": "stdout",
     "output_type": "stream",
     "text": [
      "epoch = 2, loss = 0.30172815918922424\n",
      "epoch = 2, f_loss = 0.02120799757540226\n",
      "epoch = 2, reg_loss = 0.28052017092704773\n"
     ]
    },
    {
     "name": "stderr",
     "output_type": "stream",
     "text": [
      "100%|██████████| 313/313 [00:02<00:00, 155.94it/s]\n"
     ]
    },
    {
     "name": "stdout",
     "output_type": "stream",
     "text": [
      "epoch = 3, loss = 0.24721698462963104\n",
      "epoch = 3, f_loss = 0.004056885838508606\n",
      "epoch = 3, reg_loss = 0.24316009879112244\n"
     ]
    },
    {
     "name": "stderr",
     "output_type": "stream",
     "text": [
      "100%|██████████| 313/313 [00:02<00:00, 155.32it/s]\n"
     ]
    },
    {
     "name": "stdout",
     "output_type": "stream",
     "text": [
      "epoch = 4, loss = 0.2681513726711273\n",
      "epoch = 4, f_loss = 0.029591506347060204\n",
      "epoch = 4, reg_loss = 0.23855985701084137\n"
     ]
    },
    {
     "name": "stderr",
     "output_type": "stream",
     "text": [
      "100%|██████████| 313/313 [00:02<00:00, 155.42it/s]\n"
     ]
    },
    {
     "name": "stdout",
     "output_type": "stream",
     "text": [
      "epoch = 5, loss = 0.2959621846675873\n",
      "epoch = 5, f_loss = 0.05651005357503891\n",
      "epoch = 5, reg_loss = 0.23945213854312897\n"
     ]
    },
    {
     "name": "stderr",
     "output_type": "stream",
     "text": [
      "100%|██████████| 313/313 [00:01<00:00, 156.92it/s]\n"
     ]
    },
    {
     "name": "stdout",
     "output_type": "stream",
     "text": [
      "epoch = 6, loss = 0.24079568684101105\n",
      "epoch = 6, f_loss = 0.009348560124635696\n",
      "epoch = 6, reg_loss = 0.23144713044166565\n"
     ]
    },
    {
     "name": "stderr",
     "output_type": "stream",
     "text": [
      "100%|██████████| 313/313 [00:01<00:00, 157.92it/s]\n"
     ]
    },
    {
     "name": "stdout",
     "output_type": "stream",
     "text": [
      "epoch = 7, loss = 0.2628289461135864\n",
      "epoch = 7, f_loss = 0.015859102830290794\n",
      "epoch = 7, reg_loss = 0.24696983397006989\n"
     ]
    },
    {
     "name": "stderr",
     "output_type": "stream",
     "text": [
      "100%|██████████| 313/313 [00:01<00:00, 158.12it/s]\n"
     ]
    },
    {
     "name": "stdout",
     "output_type": "stream",
     "text": [
      "epoch = 8, loss = 0.4614366888999939\n",
      "epoch = 8, f_loss = 0.17875270545482635\n",
      "epoch = 8, reg_loss = 0.28268396854400635\n"
     ]
    },
    {
     "name": "stderr",
     "output_type": "stream",
     "text": [
      "100%|██████████| 313/313 [00:01<00:00, 157.42it/s]\n"
     ]
    },
    {
     "name": "stdout",
     "output_type": "stream",
     "text": [
      "epoch = 9, loss = 0.23056145012378693\n",
      "epoch = 9, f_loss = 0.0032899724319577217\n",
      "epoch = 9, reg_loss = 0.22727148234844208\n"
     ]
    },
    {
     "name": "stderr",
     "output_type": "stream",
     "text": [
      "100%|██████████| 313/313 [00:01<00:00, 156.83it/s]\n"
     ]
    },
    {
     "name": "stdout",
     "output_type": "stream",
     "text": [
      "epoch = 10, loss = 0.22643998265266418\n",
      "epoch = 10, f_loss = 0.0011143260635435581\n",
      "epoch = 10, reg_loss = 0.22532565891742706\n"
     ]
    },
    {
     "name": "stderr",
     "output_type": "stream",
     "text": [
      "100%|██████████| 313/313 [00:01<00:00, 157.34it/s]\n"
     ]
    },
    {
     "name": "stdout",
     "output_type": "stream",
     "text": [
      "epoch = 11, loss = 0.2734936773777008\n",
      "epoch = 11, f_loss = 0.04514370113611221\n",
      "epoch = 11, reg_loss = 0.2283499836921692\n"
     ]
    },
    {
     "name": "stderr",
     "output_type": "stream",
     "text": [
      "100%|██████████| 313/313 [00:02<00:00, 156.03it/s]\n"
     ]
    },
    {
     "name": "stdout",
     "output_type": "stream",
     "text": [
      "epoch = 12, loss = 0.2990020513534546\n",
      "epoch = 12, f_loss = 0.08239203691482544\n",
      "epoch = 12, reg_loss = 0.21661002933979034\n"
     ]
    },
    {
     "name": "stderr",
     "output_type": "stream",
     "text": [
      "100%|██████████| 313/313 [00:01<00:00, 156.88it/s]\n"
     ]
    },
    {
     "name": "stdout",
     "output_type": "stream",
     "text": [
      "epoch = 13, loss = 0.7370036840438843\n",
      "epoch = 13, f_loss = 0.5262367129325867\n",
      "epoch = 13, reg_loss = 0.2107669711112976\n"
     ]
    },
    {
     "name": "stderr",
     "output_type": "stream",
     "text": [
      "100%|██████████| 313/313 [00:01<00:00, 157.23it/s]\n"
     ]
    },
    {
     "name": "stdout",
     "output_type": "stream",
     "text": [
      "epoch = 14, loss = 0.21382252871990204\n",
      "epoch = 14, f_loss = 0.001556152943521738\n",
      "epoch = 14, reg_loss = 0.21226637065410614\n"
     ]
    },
    {
     "name": "stderr",
     "output_type": "stream",
     "text": [
      "100%|██████████| 313/313 [00:02<00:00, 155.60it/s]\n"
     ]
    },
    {
     "name": "stdout",
     "output_type": "stream",
     "text": [
      "epoch = 15, loss = 0.22330345213413239\n",
      "epoch = 15, f_loss = 0.002299020765349269\n",
      "epoch = 15, reg_loss = 0.2210044264793396\n"
     ]
    },
    {
     "name": "stderr",
     "output_type": "stream",
     "text": [
      "100%|██████████| 313/313 [00:01<00:00, 157.01it/s]\n"
     ]
    },
    {
     "name": "stdout",
     "output_type": "stream",
     "text": [
      "epoch = 16, loss = 0.211394801735878\n",
      "epoch = 16, f_loss = 0.002064764266833663\n",
      "epoch = 16, reg_loss = 0.20933003723621368\n"
     ]
    },
    {
     "name": "stderr",
     "output_type": "stream",
     "text": [
      "100%|██████████| 313/313 [00:01<00:00, 157.21it/s]\n"
     ]
    },
    {
     "name": "stdout",
     "output_type": "stream",
     "text": [
      "epoch = 17, loss = 0.2668081223964691\n",
      "epoch = 17, f_loss = 0.04691645875573158\n",
      "epoch = 17, reg_loss = 0.21989166736602783\n"
     ]
    },
    {
     "name": "stderr",
     "output_type": "stream",
     "text": [
      "100%|██████████| 313/313 [00:01<00:00, 156.53it/s]\n"
     ]
    },
    {
     "name": "stdout",
     "output_type": "stream",
     "text": [
      "epoch = 18, loss = 0.21530458331108093\n",
      "epoch = 18, f_loss = 0.012925426475703716\n",
      "epoch = 18, reg_loss = 0.20237915217876434\n"
     ]
    },
    {
     "name": "stderr",
     "output_type": "stream",
     "text": [
      "100%|██████████| 313/313 [00:01<00:00, 157.03it/s]\n"
     ]
    },
    {
     "name": "stdout",
     "output_type": "stream",
     "text": [
      "epoch = 19, loss = 0.4884222745895386\n",
      "epoch = 19, f_loss = 0.2939724326133728\n",
      "epoch = 19, reg_loss = 0.19444982707500458\n"
     ]
    },
    {
     "name": "stderr",
     "output_type": "stream",
     "text": [
      "100%|██████████| 313/313 [00:02<00:00, 155.72it/s]\n"
     ]
    },
    {
     "name": "stdout",
     "output_type": "stream",
     "text": [
      "epoch = 20, loss = 0.21209457516670227\n",
      "epoch = 20, f_loss = 0.008657419122755527\n",
      "epoch = 20, reg_loss = 0.20343714952468872\n"
     ]
    },
    {
     "name": "stderr",
     "output_type": "stream",
     "text": [
      "100%|██████████| 313/313 [00:02<00:00, 156.23it/s]\n"
     ]
    },
    {
     "name": "stdout",
     "output_type": "stream",
     "text": [
      "epoch = 21, loss = 0.20720724761486053\n",
      "epoch = 21, f_loss = 0.01166442409157753\n",
      "epoch = 21, reg_loss = 0.1955428272485733\n"
     ]
    },
    {
     "name": "stderr",
     "output_type": "stream",
     "text": [
      "100%|██████████| 313/313 [00:01<00:00, 156.89it/s]\n"
     ]
    },
    {
     "name": "stdout",
     "output_type": "stream",
     "text": [
      "epoch = 22, loss = 0.19930493831634521\n",
      "epoch = 22, f_loss = 0.005136988591402769\n",
      "epoch = 22, reg_loss = 0.19416795670986176\n"
     ]
    },
    {
     "name": "stderr",
     "output_type": "stream",
     "text": [
      "100%|██████████| 313/313 [00:01<00:00, 156.81it/s]\n"
     ]
    },
    {
     "name": "stdout",
     "output_type": "stream",
     "text": [
      "epoch = 23, loss = 0.19068290293216705\n",
      "epoch = 23, f_loss = 0.0015052417293190956\n",
      "epoch = 23, reg_loss = 0.18917766213417053\n"
     ]
    },
    {
     "name": "stderr",
     "output_type": "stream",
     "text": [
      "100%|██████████| 313/313 [00:01<00:00, 157.21it/s]\n"
     ]
    },
    {
     "name": "stdout",
     "output_type": "stream",
     "text": [
      "epoch = 24, loss = 0.20488879084587097\n",
      "epoch = 24, f_loss = 0.002174540888518095\n",
      "epoch = 24, reg_loss = 0.2027142494916916\n"
     ]
    },
    {
     "name": "stderr",
     "output_type": "stream",
     "text": [
      "100%|██████████| 313/313 [00:01<00:00, 157.42it/s]\n"
     ]
    },
    {
     "name": "stdout",
     "output_type": "stream",
     "text": [
      "epoch = 25, loss = 0.19579556584358215\n",
      "epoch = 25, f_loss = 0.009014906361699104\n",
      "epoch = 25, reg_loss = 0.1867806613445282\n"
     ]
    },
    {
     "name": "stderr",
     "output_type": "stream",
     "text": [
      "100%|██████████| 313/313 [00:02<00:00, 156.24it/s]\n"
     ]
    },
    {
     "name": "stdout",
     "output_type": "stream",
     "text": [
      "epoch = 26, loss = 0.18568605184555054\n",
      "epoch = 26, f_loss = 0.003410014556720853\n",
      "epoch = 26, reg_loss = 0.18227604031562805\n"
     ]
    },
    {
     "name": "stderr",
     "output_type": "stream",
     "text": [
      "100%|██████████| 313/313 [00:02<00:00, 154.99it/s]\n"
     ]
    },
    {
     "name": "stdout",
     "output_type": "stream",
     "text": [
      "epoch = 27, loss = 0.18712638318538666\n",
      "epoch = 27, f_loss = 0.010954122059047222\n",
      "epoch = 27, reg_loss = 0.17617225646972656\n"
     ]
    },
    {
     "name": "stderr",
     "output_type": "stream",
     "text": [
      "100%|██████████| 313/313 [00:02<00:00, 155.16it/s]\n"
     ]
    },
    {
     "name": "stdout",
     "output_type": "stream",
     "text": [
      "epoch = 28, loss = 0.1755020022392273\n",
      "epoch = 28, f_loss = 0.00039091543294489384\n",
      "epoch = 28, reg_loss = 0.1751110851764679\n"
     ]
    },
    {
     "name": "stderr",
     "output_type": "stream",
     "text": [
      "100%|██████████| 313/313 [00:01<00:00, 157.22it/s]\n"
     ]
    },
    {
     "name": "stdout",
     "output_type": "stream",
     "text": [
      "epoch = 29, loss = 0.5491319894790649\n",
      "epoch = 29, f_loss = 0.33636927604675293\n",
      "epoch = 29, reg_loss = 0.212762713432312\n"
     ]
    },
    {
     "name": "stderr",
     "output_type": "stream",
     "text": [
      "100%|██████████| 313/313 [00:01<00:00, 156.79it/s]\n"
     ]
    },
    {
     "name": "stdout",
     "output_type": "stream",
     "text": [
      "epoch = 30, loss = 0.17517349123954773\n",
      "epoch = 30, f_loss = 0.004838254768401384\n",
      "epoch = 30, reg_loss = 0.17033523321151733\n"
     ]
    },
    {
     "name": "stderr",
     "output_type": "stream",
     "text": [
      "100%|██████████| 313/313 [00:02<00:00, 156.41it/s]\n"
     ]
    },
    {
     "name": "stdout",
     "output_type": "stream",
     "text": [
      "epoch = 31, loss = 0.1788756549358368\n",
      "epoch = 31, f_loss = 0.013764805160462856\n",
      "epoch = 31, reg_loss = 0.16511085629463196\n"
     ]
    },
    {
     "name": "stderr",
     "output_type": "stream",
     "text": [
      "100%|██████████| 313/313 [00:02<00:00, 156.31it/s]\n"
     ]
    },
    {
     "name": "stdout",
     "output_type": "stream",
     "text": [
      "epoch = 32, loss = 0.1634555459022522\n",
      "epoch = 32, f_loss = 0.0015013243537396193\n",
      "epoch = 32, reg_loss = 0.16195422410964966\n"
     ]
    },
    {
     "name": "stderr",
     "output_type": "stream",
     "text": [
      "100%|██████████| 313/313 [00:01<00:00, 156.91it/s]\n"
     ]
    },
    {
     "name": "stdout",
     "output_type": "stream",
     "text": [
      "epoch = 33, loss = 0.16435354948043823\n",
      "epoch = 33, f_loss = 0.005773996002972126\n",
      "epoch = 33, reg_loss = 0.15857955813407898\n"
     ]
    },
    {
     "name": "stderr",
     "output_type": "stream",
     "text": [
      "100%|██████████| 313/313 [00:01<00:00, 156.66it/s]\n"
     ]
    },
    {
     "name": "stdout",
     "output_type": "stream",
     "text": [
      "epoch = 34, loss = 0.21791453659534454\n",
      "epoch = 34, f_loss = 0.05596209689974785\n",
      "epoch = 34, reg_loss = 0.1619524359703064\n"
     ]
    },
    {
     "name": "stderr",
     "output_type": "stream",
     "text": [
      "100%|██████████| 313/313 [00:02<00:00, 156.26it/s]\n"
     ]
    },
    {
     "name": "stdout",
     "output_type": "stream",
     "text": [
      "epoch = 35, loss = 0.1523537039756775\n",
      "epoch = 35, f_loss = 0.00024314536130987108\n",
      "epoch = 35, reg_loss = 0.15211056172847748\n"
     ]
    },
    {
     "name": "stderr",
     "output_type": "stream",
     "text": [
      "100%|██████████| 313/313 [00:02<00:00, 155.99it/s]\n"
     ]
    },
    {
     "name": "stdout",
     "output_type": "stream",
     "text": [
      "epoch = 36, loss = 0.1656705141067505\n",
      "epoch = 36, f_loss = 0.01710483245551586\n",
      "epoch = 36, reg_loss = 0.14856567978858948\n"
     ]
    },
    {
     "name": "stderr",
     "output_type": "stream",
     "text": [
      "100%|██████████| 313/313 [00:01<00:00, 157.67it/s]\n"
     ]
    },
    {
     "name": "stdout",
     "output_type": "stream",
     "text": [
      "epoch = 37, loss = 0.1446373015642166\n",
      "epoch = 37, f_loss = 0.000337941397447139\n",
      "epoch = 37, reg_loss = 0.14429935812950134\n"
     ]
    },
    {
     "name": "stderr",
     "output_type": "stream",
     "text": [
      "100%|██████████| 313/313 [00:01<00:00, 158.11it/s]\n"
     ]
    },
    {
     "name": "stdout",
     "output_type": "stream",
     "text": [
      "epoch = 38, loss = 0.22772538661956787\n",
      "epoch = 38, f_loss = 0.08474815636873245\n",
      "epoch = 38, reg_loss = 0.14297722280025482\n"
     ]
    },
    {
     "name": "stderr",
     "output_type": "stream",
     "text": [
      "100%|██████████| 313/313 [00:01<00:00, 158.36it/s]\n"
     ]
    },
    {
     "name": "stdout",
     "output_type": "stream",
     "text": [
      "epoch = 39, loss = 0.2216617465019226\n",
      "epoch = 39, f_loss = 0.08389375358819962\n",
      "epoch = 39, reg_loss = 0.1377680003643036\n"
     ]
    },
    {
     "name": "stderr",
     "output_type": "stream",
     "text": [
      "100%|██████████| 313/313 [00:01<00:00, 157.85it/s]\n"
     ]
    },
    {
     "name": "stdout",
     "output_type": "stream",
     "text": [
      "epoch = 40, loss = 0.1350659877061844\n",
      "epoch = 40, f_loss = 0.001233621733263135\n",
      "epoch = 40, reg_loss = 0.13383236527442932\n"
     ]
    },
    {
     "name": "stderr",
     "output_type": "stream",
     "text": [
      "100%|██████████| 313/313 [00:01<00:00, 157.82it/s]\n"
     ]
    },
    {
     "name": "stdout",
     "output_type": "stream",
     "text": [
      "epoch = 41, loss = 0.12817072868347168\n",
      "epoch = 41, f_loss = 0.000498597277328372\n",
      "epoch = 41, reg_loss = 0.12767213582992554\n"
     ]
    },
    {
     "name": "stderr",
     "output_type": "stream",
     "text": [
      "100%|██████████| 313/313 [00:01<00:00, 158.12it/s]\n"
     ]
    },
    {
     "name": "stdout",
     "output_type": "stream",
     "text": [
      "epoch = 42, loss = 0.18703153729438782\n",
      "epoch = 42, f_loss = 0.06160349026322365\n",
      "epoch = 42, reg_loss = 0.12542805075645447\n"
     ]
    },
    {
     "name": "stderr",
     "output_type": "stream",
     "text": [
      "100%|██████████| 313/313 [00:01<00:00, 158.08it/s]\n"
     ]
    },
    {
     "name": "stdout",
     "output_type": "stream",
     "text": [
      "epoch = 43, loss = 0.13106444478034973\n",
      "epoch = 43, f_loss = 0.009892355650663376\n",
      "epoch = 43, reg_loss = 0.12117209285497665\n"
     ]
    },
    {
     "name": "stderr",
     "output_type": "stream",
     "text": [
      "100%|██████████| 313/313 [00:02<00:00, 155.58it/s]\n"
     ]
    },
    {
     "name": "stdout",
     "output_type": "stream",
     "text": [
      "epoch = 44, loss = 0.11894126236438751\n",
      "epoch = 44, f_loss = 0.006523953750729561\n",
      "epoch = 44, reg_loss = 0.1124173104763031\n"
     ]
    },
    {
     "name": "stderr",
     "output_type": "stream",
     "text": [
      "100%|██████████| 313/313 [00:02<00:00, 154.98it/s]\n"
     ]
    },
    {
     "name": "stdout",
     "output_type": "stream",
     "text": [
      "epoch = 45, loss = 0.10951339453458786\n",
      "epoch = 45, f_loss = 0.0025518303737044334\n",
      "epoch = 45, reg_loss = 0.10696156322956085\n"
     ]
    },
    {
     "name": "stderr",
     "output_type": "stream",
     "text": [
      "100%|██████████| 313/313 [00:01<00:00, 157.20it/s]\n"
     ]
    },
    {
     "name": "stdout",
     "output_type": "stream",
     "text": [
      "epoch = 46, loss = 0.14222434163093567\n",
      "epoch = 46, f_loss = 0.04214361310005188\n",
      "epoch = 46, reg_loss = 0.10008072108030319\n"
     ]
    },
    {
     "name": "stderr",
     "output_type": "stream",
     "text": [
      "100%|██████████| 313/313 [00:01<00:00, 157.66it/s]\n"
     ]
    },
    {
     "name": "stdout",
     "output_type": "stream",
     "text": [
      "epoch = 47, loss = 0.09839718788862228\n",
      "epoch = 47, f_loss = 0.004248493351042271\n",
      "epoch = 47, reg_loss = 0.09414869546890259\n"
     ]
    },
    {
     "name": "stderr",
     "output_type": "stream",
     "text": [
      "100%|██████████| 313/313 [00:01<00:00, 156.99it/s]\n"
     ]
    },
    {
     "name": "stdout",
     "output_type": "stream",
     "text": [
      "epoch = 48, loss = 0.09133515506982803\n",
      "epoch = 48, f_loss = 0.003956052474677563\n",
      "epoch = 48, reg_loss = 0.0873791053891182\n"
     ]
    },
    {
     "name": "stderr",
     "output_type": "stream",
     "text": [
      "100%|██████████| 313/313 [00:01<00:00, 157.64it/s]\n"
     ]
    },
    {
     "name": "stdout",
     "output_type": "stream",
     "text": [
      "epoch = 49, loss = 0.15988010168075562\n",
      "epoch = 49, f_loss = 0.08056966960430145\n",
      "epoch = 49, reg_loss = 0.07931043207645416\n"
     ]
    },
    {
     "name": "stderr",
     "output_type": "stream",
     "text": [
      "100%|██████████| 313/313 [00:01<00:00, 157.90it/s]\n"
     ]
    },
    {
     "name": "stdout",
     "output_type": "stream",
     "text": [
      "epoch = 50, loss = 0.0734875500202179\n",
      "epoch = 50, f_loss = 0.0010719354031607509\n",
      "epoch = 50, reg_loss = 0.07241561263799667\n"
     ]
    },
    {
     "name": "stderr",
     "output_type": "stream",
     "text": [
      "100%|██████████| 313/313 [00:01<00:00, 156.63it/s]\n"
     ]
    },
    {
     "name": "stdout",
     "output_type": "stream",
     "text": [
      "epoch = 51, loss = 0.07375584542751312\n",
      "epoch = 51, f_loss = 0.008356846868991852\n",
      "epoch = 51, reg_loss = 0.06539899855852127\n"
     ]
    },
    {
     "name": "stderr",
     "output_type": "stream",
     "text": [
      "100%|██████████| 313/313 [00:02<00:00, 155.41it/s]\n"
     ]
    },
    {
     "name": "stdout",
     "output_type": "stream",
     "text": [
      "epoch = 52, loss = 0.06660809367895126\n",
      "epoch = 52, f_loss = 0.00847072247415781\n",
      "epoch = 52, reg_loss = 0.05813736841082573\n"
     ]
    },
    {
     "name": "stderr",
     "output_type": "stream",
     "text": [
      "100%|██████████| 313/313 [00:01<00:00, 156.92it/s]\n"
     ]
    },
    {
     "name": "stdout",
     "output_type": "stream",
     "text": [
      "epoch = 53, loss = 0.05298316106200218\n",
      "epoch = 53, f_loss = 0.0014820030191913247\n",
      "epoch = 53, reg_loss = 0.051501158624887466\n"
     ]
    },
    {
     "name": "stderr",
     "output_type": "stream",
     "text": [
      "100%|██████████| 313/313 [00:01<00:00, 157.05it/s]\n"
     ]
    },
    {
     "name": "stdout",
     "output_type": "stream",
     "text": [
      "epoch = 54, loss = 0.043176475912332535\n",
      "epoch = 54, f_loss = 0.00020587362814694643\n",
      "epoch = 54, reg_loss = 0.042970601469278336\n"
     ]
    },
    {
     "name": "stderr",
     "output_type": "stream",
     "text": [
      "100%|██████████| 313/313 [00:01<00:00, 157.24it/s]\n"
     ]
    },
    {
     "name": "stdout",
     "output_type": "stream",
     "text": [
      "epoch = 55, loss = 0.038168661296367645\n",
      "epoch = 55, f_loss = 0.002488379366695881\n",
      "epoch = 55, reg_loss = 0.03568028286099434\n"
     ]
    },
    {
     "name": "stderr",
     "output_type": "stream",
     "text": [
      "100%|██████████| 313/313 [00:02<00:00, 156.20it/s]\n"
     ]
    },
    {
     "name": "stdout",
     "output_type": "stream",
     "text": [
      "epoch = 56, loss = 0.05717821419239044\n",
      "epoch = 56, f_loss = 0.029233330860733986\n",
      "epoch = 56, reg_loss = 0.027944881469011307\n"
     ]
    },
    {
     "name": "stderr",
     "output_type": "stream",
     "text": [
      "100%|██████████| 313/313 [00:02<00:00, 155.47it/s]\n"
     ]
    },
    {
     "name": "stdout",
     "output_type": "stream",
     "text": [
      "epoch = 57, loss = 0.06067952513694763\n",
      "epoch = 57, f_loss = 0.03831707313656807\n",
      "epoch = 57, reg_loss = 0.02236245386302471\n"
     ]
    },
    {
     "name": "stderr",
     "output_type": "stream",
     "text": [
      "100%|██████████| 313/313 [00:02<00:00, 155.75it/s]\n"
     ]
    },
    {
     "name": "stdout",
     "output_type": "stream",
     "text": [
      "epoch = 58, loss = 0.019517812877893448\n",
      "epoch = 58, f_loss = 0.0009667181293480098\n",
      "epoch = 58, reg_loss = 0.018551094457507133\n"
     ]
    },
    {
     "name": "stderr",
     "output_type": "stream",
     "text": [
      "100%|██████████| 313/313 [00:02<00:00, 156.03it/s]\n"
     ]
    },
    {
     "name": "stdout",
     "output_type": "stream",
     "text": [
      "epoch = 59, loss = 0.21824467182159424\n",
      "epoch = 59, f_loss = 0.20376107096672058\n",
      "epoch = 59, reg_loss = 0.014483606442809105\n"
     ]
    },
    {
     "name": "stderr",
     "output_type": "stream",
     "text": [
      "100%|██████████| 313/313 [00:02<00:00, 154.65it/s]\n"
     ]
    },
    {
     "name": "stdout",
     "output_type": "stream",
     "text": [
      "epoch = 60, loss = 0.0139386635273695\n",
      "epoch = 60, f_loss = 0.0027271010912954807\n",
      "epoch = 60, reg_loss = 0.011211562901735306\n"
     ]
    },
    {
     "name": "stderr",
     "output_type": "stream",
     "text": [
      "100%|██████████| 313/313 [00:02<00:00, 155.57it/s]\n"
     ]
    },
    {
     "name": "stdout",
     "output_type": "stream",
     "text": [
      "epoch = 61, loss = 0.008884552866220474\n",
      "epoch = 61, f_loss = 0.0005292647401802242\n",
      "epoch = 61, reg_loss = 0.008355287835001945\n"
     ]
    },
    {
     "name": "stderr",
     "output_type": "stream",
     "text": [
      "100%|██████████| 313/313 [00:02<00:00, 155.91it/s]\n"
     ]
    },
    {
     "name": "stdout",
     "output_type": "stream",
     "text": [
      "epoch = 62, loss = 0.07066679000854492\n",
      "epoch = 62, f_loss = 0.06273234635591507\n",
      "epoch = 62, reg_loss = 0.00793444737792015\n"
     ]
    },
    {
     "name": "stderr",
     "output_type": "stream",
     "text": [
      "100%|██████████| 313/313 [00:02<00:00, 155.83it/s]\n"
     ]
    },
    {
     "name": "stdout",
     "output_type": "stream",
     "text": [
      "epoch = 63, loss = 0.005394676700234413\n",
      "epoch = 63, f_loss = 0.000444275327026844\n",
      "epoch = 63, reg_loss = 0.004950401373207569\n"
     ]
    },
    {
     "name": "stderr",
     "output_type": "stream",
     "text": [
      "100%|██████████| 313/313 [00:02<00:00, 155.81it/s]\n"
     ]
    },
    {
     "name": "stdout",
     "output_type": "stream",
     "text": [
      "epoch = 64, loss = 0.00509214773774147\n",
      "epoch = 64, f_loss = 0.0013400849420577288\n",
      "epoch = 64, reg_loss = 0.0037520630285143852\n"
     ]
    },
    {
     "name": "stderr",
     "output_type": "stream",
     "text": [
      "100%|██████████| 313/313 [00:01<00:00, 157.36it/s]\n"
     ]
    },
    {
     "name": "stdout",
     "output_type": "stream",
     "text": [
      "epoch = 65, loss = 0.03744436427950859\n",
      "epoch = 65, f_loss = 0.03442680463194847\n",
      "epoch = 65, reg_loss = 0.003017559414729476\n"
     ]
    },
    {
     "name": "stderr",
     "output_type": "stream",
     "text": [
      "100%|██████████| 313/313 [00:01<00:00, 157.26it/s]\n"
     ]
    },
    {
     "name": "stdout",
     "output_type": "stream",
     "text": [
      "epoch = 66, loss = 0.001779962913133204\n",
      "epoch = 66, f_loss = 7.869934051996097e-05\n",
      "epoch = 66, reg_loss = 0.0017012635944411159\n"
     ]
    },
    {
     "name": "stderr",
     "output_type": "stream",
     "text": [
      "100%|██████████| 313/313 [00:01<00:00, 157.06it/s]\n"
     ]
    },
    {
     "name": "stdout",
     "output_type": "stream",
     "text": [
      "epoch = 67, loss = 0.0036200368776917458\n",
      "epoch = 67, f_loss = 0.002540700137615204\n",
      "epoch = 67, reg_loss = 0.00107933662366122\n"
     ]
    },
    {
     "name": "stderr",
     "output_type": "stream",
     "text": [
      "100%|██████████| 313/313 [00:02<00:00, 151.93it/s]\n"
     ]
    },
    {
     "name": "stdout",
     "output_type": "stream",
     "text": [
      "epoch = 68, loss = 0.0013603443512693048\n",
      "epoch = 68, f_loss = 0.0001696400431683287\n",
      "epoch = 68, reg_loss = 0.0011907042935490608\n"
     ]
    },
    {
     "name": "stderr",
     "output_type": "stream",
     "text": [
      "100%|██████████| 313/313 [00:02<00:00, 154.69it/s]\n"
     ]
    },
    {
     "name": "stdout",
     "output_type": "stream",
     "text": [
      "epoch = 69, loss = 0.0006027452182024717\n",
      "epoch = 69, f_loss = 7.386875950032845e-05\n",
      "epoch = 69, reg_loss = 0.0005288764368742704\n"
     ]
    },
    {
     "name": "stderr",
     "output_type": "stream",
     "text": [
      "100%|██████████| 313/313 [00:02<00:00, 156.01it/s]\n"
     ]
    },
    {
     "name": "stdout",
     "output_type": "stream",
     "text": [
      "epoch = 70, loss = 0.0004227996396366507\n",
      "epoch = 70, f_loss = 2.821153793775011e-05\n",
      "epoch = 70, reg_loss = 0.00039458810351789\n"
     ]
    },
    {
     "name": "stderr",
     "output_type": "stream",
     "text": [
      "100%|██████████| 313/313 [00:02<00:00, 155.82it/s]\n"
     ]
    },
    {
     "name": "stdout",
     "output_type": "stream",
     "text": [
      "epoch = 71, loss = 0.0008850534213706851\n",
      "epoch = 71, f_loss = 0.0005568991182371974\n",
      "epoch = 71, reg_loss = 0.00032815427402965724\n"
     ]
    },
    {
     "name": "stderr",
     "output_type": "stream",
     "text": [
      "100%|██████████| 313/313 [00:02<00:00, 156.33it/s]\n"
     ]
    },
    {
     "name": "stdout",
     "output_type": "stream",
     "text": [
      "epoch = 72, loss = 0.005516217090189457\n",
      "epoch = 72, f_loss = 0.005263376049697399\n",
      "epoch = 72, reg_loss = 0.00025284115690737963\n"
     ]
    },
    {
     "name": "stderr",
     "output_type": "stream",
     "text": [
      "100%|██████████| 313/313 [00:02<00:00, 155.93it/s]\n"
     ]
    },
    {
     "name": "stdout",
     "output_type": "stream",
     "text": [
      "epoch = 73, loss = 0.0015954590635374188\n",
      "epoch = 73, f_loss = 0.0011721777264028788\n",
      "epoch = 73, reg_loss = 0.00042328136623837054\n"
     ]
    },
    {
     "name": "stderr",
     "output_type": "stream",
     "text": [
      "100%|██████████| 313/313 [00:02<00:00, 153.61it/s]\n"
     ]
    },
    {
     "name": "stdout",
     "output_type": "stream",
     "text": [
      "epoch = 74, loss = 0.004549804143607616\n",
      "epoch = 74, f_loss = 0.0042298901826143265\n",
      "epoch = 74, reg_loss = 0.0003199138445779681\n"
     ]
    },
    {
     "name": "stderr",
     "output_type": "stream",
     "text": [
      "100%|██████████| 313/313 [00:02<00:00, 152.96it/s]\n"
     ]
    },
    {
     "name": "stdout",
     "output_type": "stream",
     "text": [
      "epoch = 75, loss = 0.0456838421523571\n",
      "epoch = 75, f_loss = 0.04358494654297829\n",
      "epoch = 75, reg_loss = 0.0020988963078707457\n"
     ]
    },
    {
     "name": "stderr",
     "output_type": "stream",
     "text": [
      "100%|██████████| 313/313 [00:02<00:00, 155.66it/s]\n"
     ]
    },
    {
     "name": "stdout",
     "output_type": "stream",
     "text": [
      "epoch = 76, loss = 0.0005867975996807218\n",
      "epoch = 76, f_loss = 0.00036953779635950923\n",
      "epoch = 76, reg_loss = 0.00021725977421738207\n"
     ]
    },
    {
     "name": "stderr",
     "output_type": "stream",
     "text": [
      "100%|██████████| 313/313 [00:02<00:00, 154.55it/s]\n"
     ]
    },
    {
     "name": "stdout",
     "output_type": "stream",
     "text": [
      "epoch = 77, loss = 0.000747878453694284\n",
      "epoch = 77, f_loss = 0.0005812807939946651\n",
      "epoch = 77, reg_loss = 0.00016659763059578836\n"
     ]
    },
    {
     "name": "stderr",
     "output_type": "stream",
     "text": [
      "100%|██████████| 313/313 [00:01<00:00, 156.79it/s]\n"
     ]
    },
    {
     "name": "stdout",
     "output_type": "stream",
     "text": [
      "epoch = 78, loss = 0.0009778530802577734\n",
      "epoch = 78, f_loss = 0.0008135400130413473\n",
      "epoch = 78, reg_loss = 0.0001643130963202566\n"
     ]
    },
    {
     "name": "stderr",
     "output_type": "stream",
     "text": [
      "100%|██████████| 313/313 [00:01<00:00, 156.70it/s]\n"
     ]
    },
    {
     "name": "stdout",
     "output_type": "stream",
     "text": [
      "epoch = 79, loss = 0.0007962012896314263\n",
      "epoch = 79, f_loss = 0.00046558998292312026\n",
      "epoch = 79, reg_loss = 0.0003306113067083061\n"
     ]
    },
    {
     "name": "stderr",
     "output_type": "stream",
     "text": [
      "100%|██████████| 313/313 [00:01<00:00, 156.81it/s]\n"
     ]
    },
    {
     "name": "stdout",
     "output_type": "stream",
     "text": [
      "epoch = 80, loss = 0.0004236398381181061\n",
      "epoch = 80, f_loss = 0.00023840743233449757\n",
      "epoch = 80, reg_loss = 0.00018523239123169333\n"
     ]
    },
    {
     "name": "stderr",
     "output_type": "stream",
     "text": [
      "100%|██████████| 313/313 [00:02<00:00, 155.12it/s]\n"
     ]
    },
    {
     "name": "stdout",
     "output_type": "stream",
     "text": [
      "epoch = 81, loss = 0.00030387809965759516\n",
      "epoch = 81, f_loss = 0.00014954188372939825\n",
      "epoch = 81, reg_loss = 0.00015433623048011214\n"
     ]
    },
    {
     "name": "stderr",
     "output_type": "stream",
     "text": [
      "100%|██████████| 313/313 [00:01<00:00, 156.59it/s]\n"
     ]
    },
    {
     "name": "stdout",
     "output_type": "stream",
     "text": [
      "epoch = 82, loss = 0.04369845241308212\n",
      "epoch = 82, f_loss = 0.04015979915857315\n",
      "epoch = 82, reg_loss = 0.003538653254508972\n"
     ]
    },
    {
     "name": "stderr",
     "output_type": "stream",
     "text": [
      "100%|██████████| 313/313 [00:01<00:00, 156.52it/s]\n"
     ]
    },
    {
     "name": "stdout",
     "output_type": "stream",
     "text": [
      "epoch = 83, loss = 0.0004409939865581691\n",
      "epoch = 83, f_loss = 0.00014918854867573828\n",
      "epoch = 83, reg_loss = 0.0002918054233305156\n"
     ]
    },
    {
     "name": "stderr",
     "output_type": "stream",
     "text": [
      "100%|██████████| 313/313 [00:02<00:00, 156.24it/s]\n"
     ]
    },
    {
     "name": "stdout",
     "output_type": "stream",
     "text": [
      "epoch = 84, loss = 0.0003348980098962784\n",
      "epoch = 84, f_loss = 9.912725363392383e-05\n",
      "epoch = 84, reg_loss = 0.00023577075626235455\n"
     ]
    },
    {
     "name": "stderr",
     "output_type": "stream",
     "text": [
      "100%|██████████| 313/313 [00:02<00:00, 156.21it/s]\n"
     ]
    },
    {
     "name": "stdout",
     "output_type": "stream",
     "text": [
      "epoch = 85, loss = 0.002452548360452056\n",
      "epoch = 85, f_loss = 0.002150268293917179\n",
      "epoch = 85, reg_loss = 0.0003022800665348768\n"
     ]
    },
    {
     "name": "stderr",
     "output_type": "stream",
     "text": [
      "100%|██████████| 313/313 [00:02<00:00, 156.17it/s]\n"
     ]
    },
    {
     "name": "stdout",
     "output_type": "stream",
     "text": [
      "epoch = 86, loss = 0.024262597784399986\n",
      "epoch = 86, f_loss = 0.021425791084766388\n",
      "epoch = 86, reg_loss = 0.0028368064668029547\n"
     ]
    },
    {
     "name": "stderr",
     "output_type": "stream",
     "text": [
      "100%|██████████| 313/313 [00:02<00:00, 155.55it/s]\n"
     ]
    },
    {
     "name": "stdout",
     "output_type": "stream",
     "text": [
      "epoch = 87, loss = 0.00035341104376129806\n",
      "epoch = 87, f_loss = 1.2769290151481982e-05\n",
      "epoch = 87, reg_loss = 0.0003406417672522366\n"
     ]
    },
    {
     "name": "stderr",
     "output_type": "stream",
     "text": [
      "100%|██████████| 313/313 [00:02<00:00, 156.10it/s]\n"
     ]
    },
    {
     "name": "stdout",
     "output_type": "stream",
     "text": [
      "epoch = 88, loss = 0.0002929764741566032\n",
      "epoch = 88, f_loss = 2.3142612917581573e-05\n",
      "epoch = 88, reg_loss = 0.00026983386487700045\n"
     ]
    },
    {
     "name": "stderr",
     "output_type": "stream",
     "text": [
      "100%|██████████| 313/313 [00:02<00:00, 154.83it/s]\n"
     ]
    },
    {
     "name": "stdout",
     "output_type": "stream",
     "text": [
      "epoch = 89, loss = 0.011568040587008\n",
      "epoch = 89, f_loss = 0.010453402996063232\n",
      "epoch = 89, reg_loss = 0.0011146377073600888\n"
     ]
    },
    {
     "name": "stderr",
     "output_type": "stream",
     "text": [
      "100%|██████████| 313/313 [00:02<00:00, 155.09it/s]\n"
     ]
    },
    {
     "name": "stdout",
     "output_type": "stream",
     "text": [
      "epoch = 90, loss = 0.0009052632958628237\n",
      "epoch = 90, f_loss = 0.0006251073209568858\n",
      "epoch = 90, reg_loss = 0.0002801559749059379\n"
     ]
    },
    {
     "name": "stderr",
     "output_type": "stream",
     "text": [
      "100%|██████████| 313/313 [00:01<00:00, 157.05it/s]\n"
     ]
    },
    {
     "name": "stdout",
     "output_type": "stream",
     "text": [
      "epoch = 91, loss = 0.0015864805318415165\n",
      "epoch = 91, f_loss = 0.0013437599409371614\n",
      "epoch = 91, reg_loss = 0.00024272054724860936\n"
     ]
    },
    {
     "name": "stderr",
     "output_type": "stream",
     "text": [
      "100%|██████████| 313/313 [00:01<00:00, 156.52it/s]\n"
     ]
    },
    {
     "name": "stdout",
     "output_type": "stream",
     "text": [
      "epoch = 92, loss = 0.0012324193958193064\n",
      "epoch = 92, f_loss = 0.0005596769042313099\n",
      "epoch = 92, reg_loss = 0.0006727425497956574\n"
     ]
    },
    {
     "name": "stderr",
     "output_type": "stream",
     "text": [
      "100%|██████████| 313/313 [00:02<00:00, 155.45it/s]\n"
     ]
    },
    {
     "name": "stdout",
     "output_type": "stream",
     "text": [
      "epoch = 93, loss = 0.0004900750354863703\n",
      "epoch = 93, f_loss = 0.00017214090621564537\n",
      "epoch = 93, reg_loss = 0.0003179341438226402\n"
     ]
    },
    {
     "name": "stderr",
     "output_type": "stream",
     "text": [
      "100%|██████████| 313/313 [00:02<00:00, 155.38it/s]\n"
     ]
    },
    {
     "name": "stdout",
     "output_type": "stream",
     "text": [
      "epoch = 94, loss = 0.0009012977825477719\n",
      "epoch = 94, f_loss = 0.0006301191169768572\n",
      "epoch = 94, reg_loss = 0.0002711786946747452\n"
     ]
    },
    {
     "name": "stderr",
     "output_type": "stream",
     "text": [
      "100%|██████████| 313/313 [00:02<00:00, 156.06it/s]\n"
     ]
    },
    {
     "name": "stdout",
     "output_type": "stream",
     "text": [
      "epoch = 95, loss = 0.0010207562008872628\n",
      "epoch = 95, f_loss = 0.0007336864364333451\n",
      "epoch = 95, reg_loss = 0.00028706976445391774\n"
     ]
    },
    {
     "name": "stderr",
     "output_type": "stream",
     "text": [
      "100%|██████████| 313/313 [00:02<00:00, 155.77it/s]\n"
     ]
    },
    {
     "name": "stdout",
     "output_type": "stream",
     "text": [
      "epoch = 96, loss = 0.008546032011508942\n",
      "epoch = 96, f_loss = 0.007919500581920147\n",
      "epoch = 96, reg_loss = 0.000626531895250082\n"
     ]
    },
    {
     "name": "stderr",
     "output_type": "stream",
     "text": [
      "100%|██████████| 313/313 [00:02<00:00, 153.75it/s]\n"
     ]
    },
    {
     "name": "stdout",
     "output_type": "stream",
     "text": [
      "epoch = 97, loss = 0.0015833277720957994\n",
      "epoch = 97, f_loss = 0.001259121811017394\n",
      "epoch = 97, reg_loss = 0.00032420590287074447\n"
     ]
    },
    {
     "name": "stderr",
     "output_type": "stream",
     "text": [
      "100%|██████████| 313/313 [00:02<00:00, 155.00it/s]\n"
     ]
    },
    {
     "name": "stdout",
     "output_type": "stream",
     "text": [
      "epoch = 98, loss = 0.0004458143375813961\n",
      "epoch = 98, f_loss = 0.00016208940360229462\n",
      "epoch = 98, reg_loss = 0.00028372491942718625\n"
     ]
    },
    {
     "name": "stderr",
     "output_type": "stream",
     "text": [
      "100%|██████████| 313/313 [00:02<00:00, 156.36it/s]"
     ]
    },
    {
     "name": "stdout",
     "output_type": "stream",
     "text": [
      "epoch = 99, loss = 0.0006153727881610394\n",
      "epoch = 99, f_loss = 0.0002828901633620262\n",
      "epoch = 99, reg_loss = 0.0003324825956951827\n"
     ]
    },
    {
     "name": "stderr",
     "output_type": "stream",
     "text": [
      "\n"
     ]
    }
   ],
   "source": [
    "# Training the PINN\n",
    "n_epoch = 100\n",
    "f_model = f_t()\n",
    "paras = list(model.parameters()) + list(f_model.parameters())\n",
    "optimizer_x = optim.Adam(paras, lr=1e-3)\n",
    "Alpha_k = np.zeros(n_epoch,)\n",
    "Alpha_m = np.zeros(n_epoch,)\n",
    "Alpha_n = np.zeros(n_epoch,)\n",
    "\n",
    "for epoch in range(n_epoch):\n",
    "    for x, t in tqdm(f_data_loader_x):\n",
    "\n",
    "        optimizer_x.zero_grad()\n",
    "        pred = model(reg_in)\n",
    "        reg_loss = torch.mean((reg_label - pred) ** 2)\n",
    "        \n",
    "        f_loss = torch.mean(f_model(t) ** 2)\n",
    "\n",
    "        loss =  reg_loss +f_loss   # adjust the coefficients between two losses\n",
    "        loss.backward(retain_graph=True)\n",
    "        optimizer_x.step()\n",
    "\n",
    "    print(\"epoch = {}, loss = {}\".format(epoch, loss))\n",
    "    print(\"epoch = {}, f_loss = {}\".format(epoch, f_loss))\n",
    "    print(\"epoch = {}, reg_loss = {}\".format(epoch, reg_loss))\n",
    "\n",
    "    Alpha_k[epoch] = f_model.k.detach().numpy().item()\n",
    "    #Alpha_m[epoch] = f_model.m.detach().numpy().item()\n",
    "    #Alpha_n[epoch] = f_model.n.detach().numpy().item()\n"
   ]
  },
  {
   "cell_type": "code",
   "execution_count": 31,
   "metadata": {},
   "outputs": [
    {
     "name": "stdout",
     "output_type": "stream",
     "text": [
      "epoch = 0, loss = 29.83407211303711\n",
      "epoch = 1, loss = 26.900829315185547\n",
      "epoch = 2, loss = 24.080917358398438\n",
      "epoch = 3, loss = 21.334796905517578\n",
      "epoch = 4, loss = 18.659440994262695\n",
      "epoch = 5, loss = 16.083890914916992\n",
      "epoch = 6, loss = 13.656022071838379\n",
      "epoch = 7, loss = 11.428461074829102\n",
      "epoch = 8, loss = 9.446744918823242\n",
      "epoch = 9, loss = 7.740114688873291\n",
      "epoch = 10, loss = 6.317044258117676\n",
      "epoch = 11, loss = 5.166329860687256\n",
      "epoch = 12, loss = 4.26223611831665\n",
      "epoch = 13, loss = 3.5710668563842773\n",
      "epoch = 14, loss = 3.0569827556610107\n",
      "epoch = 15, loss = 2.685887098312378\n",
      "epoch = 16, loss = 2.427388906478882\n",
      "epoch = 17, loss = 2.255403995513916\n",
      "epoch = 18, loss = 2.148098945617676\n",
      "epoch = 19, loss = 2.087658643722534\n",
      "epoch = 20, loss = 2.059999942779541\n",
      "epoch = 21, loss = 2.054354190826416\n",
      "epoch = 22, loss = 2.0627124309539795\n",
      "epoch = 23, loss = 2.079238176345825\n",
      "epoch = 24, loss = 2.099741220474243\n",
      "epoch = 25, loss = 2.1212570667266846\n",
      "epoch = 26, loss = 2.141714096069336\n",
      "epoch = 27, loss = 2.159666061401367\n",
      "epoch = 28, loss = 2.1740663051605225\n",
      "epoch = 29, loss = 2.184094190597534\n",
      "epoch = 30, loss = 2.189042091369629\n",
      "epoch = 31, loss = 2.1882855892181396\n",
      "epoch = 32, loss = 2.1813435554504395\n",
      "epoch = 33, loss = 2.1679978370666504\n",
      "epoch = 34, loss = 2.148437261581421\n",
      "epoch = 35, loss = 2.1233489513397217\n",
      "epoch = 36, loss = 2.0939340591430664\n",
      "epoch = 37, loss = 2.0618197917938232\n",
      "epoch = 38, loss = 2.028873920440674\n",
      "epoch = 39, loss = 1.9969189167022705\n",
      "epoch = 40, loss = 1.9673837423324585\n",
      "epoch = 41, loss = 1.9409799575805664\n",
      "epoch = 42, loss = 1.917564034461975\n",
      "epoch = 43, loss = 1.8963016271591187\n",
      "epoch = 44, loss = 1.8760877847671509\n",
      "epoch = 45, loss = 1.8559913635253906\n",
      "epoch = 46, loss = 1.8354841470718384\n",
      "epoch = 47, loss = 1.8144067525863647\n",
      "epoch = 48, loss = 1.7927863597869873\n",
      "epoch = 49, loss = 1.770646095275879\n",
      "epoch = 50, loss = 1.7478818893432617\n",
      "epoch = 51, loss = 1.7242403030395508\n",
      "epoch = 52, loss = 1.6993811130523682\n",
      "epoch = 53, loss = 1.673000454902649\n",
      "epoch = 54, loss = 1.644960641860962\n",
      "epoch = 55, loss = 1.6153756380081177\n",
      "epoch = 56, loss = 1.584606647491455\n",
      "epoch = 57, loss = 1.5531500577926636\n",
      "epoch = 58, loss = 1.5214365720748901\n",
      "epoch = 59, loss = 1.489617943763733\n",
      "epoch = 60, loss = 1.4574601650238037\n",
      "epoch = 61, loss = 1.4244226217269897\n",
      "epoch = 62, loss = 1.3898859024047852\n",
      "epoch = 63, loss = 1.3533825874328613\n",
      "epoch = 64, loss = 1.3147282600402832\n",
      "epoch = 65, loss = 1.274033546447754\n",
      "epoch = 66, loss = 1.2316309213638306\n",
      "epoch = 67, loss = 1.1879653930664062\n",
      "epoch = 68, loss = 1.1434913873672485\n",
      "epoch = 69, loss = 1.098603367805481\n",
      "epoch = 70, loss = 1.0535966157913208\n",
      "epoch = 71, loss = 1.008661150932312\n",
      "epoch = 72, loss = 0.963886559009552\n",
      "epoch = 73, loss = 0.9192802309989929\n",
      "epoch = 74, loss = 0.8747938275337219\n",
      "epoch = 75, loss = 0.8303550481796265\n",
      "epoch = 76, loss = 0.7859028577804565\n",
      "epoch = 77, loss = 0.7414167523384094\n",
      "epoch = 78, loss = 0.6969354152679443\n",
      "epoch = 79, loss = 0.6525632739067078\n",
      "epoch = 80, loss = 0.608468234539032\n",
      "epoch = 81, loss = 0.5648705959320068\n",
      "epoch = 82, loss = 0.522026538848877\n",
      "epoch = 83, loss = 0.4802117943763733\n",
      "epoch = 84, loss = 0.4397033751010895\n",
      "epoch = 85, loss = 0.4007627069950104\n",
      "epoch = 86, loss = 0.36362242698669434\n",
      "epoch = 87, loss = 0.3284764587879181\n",
      "epoch = 88, loss = 0.2954748868942261\n",
      "epoch = 89, loss = 0.2647252678871155\n",
      "epoch = 90, loss = 0.23629699647426605\n",
      "epoch = 91, loss = 0.21022741496562958\n",
      "epoch = 92, loss = 0.18653033673763275\n",
      "epoch = 93, loss = 0.16519898176193237\n",
      "epoch = 94, loss = 0.14620815217494965\n",
      "epoch = 95, loss = 0.12951470911502838\n",
      "epoch = 96, loss = 0.11505261063575745\n",
      "epoch = 97, loss = 0.10273147374391556\n",
      "epoch = 98, loss = 0.09243271499872208\n",
      "epoch = 99, loss = 0.08400779962539673\n",
      "epoch = 100, loss = 0.07727918028831482\n",
      "epoch = 101, loss = 0.07204335182905197\n",
      "epoch = 102, loss = 0.0680764764547348\n",
      "epoch = 103, loss = 0.06514250487089157\n",
      "epoch = 104, loss = 0.0630030408501625\n",
      "epoch = 105, loss = 0.061428382992744446\n",
      "epoch = 106, loss = 0.060207996517419815\n",
      "epoch = 107, loss = 0.05915993079543114\n",
      "epoch = 108, loss = 0.05813758820295334\n",
      "epoch = 109, loss = 0.05703350156545639\n",
      "epoch = 110, loss = 0.05577971786260605\n",
      "epoch = 111, loss = 0.05434469133615494\n",
      "epoch = 112, loss = 0.052728019654750824\n",
      "epoch = 113, loss = 0.050953127443790436\n",
      "epoch = 114, loss = 0.04905933514237404\n",
      "epoch = 115, loss = 0.04709431156516075\n",
      "epoch = 116, loss = 0.045107074081897736\n",
      "epoch = 117, loss = 0.04314301535487175\n",
      "epoch = 118, loss = 0.04124012589454651\n",
      "epoch = 119, loss = 0.039426907896995544\n",
      "epoch = 120, loss = 0.037721745669841766\n",
      "epoch = 121, loss = 0.03613332286477089\n",
      "epoch = 122, loss = 0.03466161713004112\n",
      "epoch = 123, loss = 0.03329954296350479\n",
      "epoch = 124, loss = 0.032034777104854584\n",
      "epoch = 125, loss = 0.030851781368255615\n",
      "epoch = 126, loss = 0.029733698815107346\n",
      "epoch = 127, loss = 0.02866419591009617\n",
      "epoch = 128, loss = 0.027628984302282333\n",
      "epoch = 129, loss = 0.026616936549544334\n",
      "epoch = 130, loss = 0.025620732456445694\n",
      "epoch = 131, loss = 0.024637015536427498\n",
      "epoch = 132, loss = 0.023665862157940865\n",
      "epoch = 133, loss = 0.022709982469677925\n",
      "epoch = 134, loss = 0.021773625165224075\n",
      "epoch = 135, loss = 0.020861446857452393\n",
      "epoch = 136, loss = 0.019977381452918053\n",
      "epoch = 137, loss = 0.019123978912830353\n",
      "epoch = 138, loss = 0.01830199360847473\n",
      "epoch = 139, loss = 0.017510423436760902\n",
      "epoch = 140, loss = 0.016746902838349342\n",
      "epoch = 141, loss = 0.016008397564291954\n",
      "epoch = 142, loss = 0.01529188547283411\n",
      "epoch = 143, loss = 0.01459513045847416\n",
      "epoch = 144, loss = 0.013917145319283009\n",
      "epoch = 145, loss = 0.013258438557386398\n",
      "epoch = 146, loss = 0.01262090913951397\n",
      "epoch = 147, loss = 0.012007543817162514\n",
      "epoch = 148, loss = 0.011421872302889824\n",
      "epoch = 149, loss = 0.010867420583963394\n",
      "epoch = 150, loss = 0.010347174480557442\n",
      "epoch = 151, loss = 0.00986312422901392\n",
      "epoch = 152, loss = 0.009416027925908566\n",
      "epoch = 153, loss = 0.00900538545101881\n",
      "epoch = 154, loss = 0.00862947665154934\n",
      "epoch = 155, loss = 0.00828556064516306\n",
      "epoch = 156, loss = 0.00797022320330143\n",
      "epoch = 157, loss = 0.007679620757699013\n",
      "epoch = 158, loss = 0.007409850135445595\n",
      "epoch = 159, loss = 0.00715714693069458\n",
      "epoch = 160, loss = 0.0069181364960968494\n",
      "epoch = 161, loss = 0.006689951289445162\n",
      "epoch = 162, loss = 0.006470302119851112\n",
      "epoch = 163, loss = 0.006257516797631979\n",
      "epoch = 164, loss = 0.006050459574908018\n",
      "epoch = 165, loss = 0.0058485716581344604\n",
      "epoch = 166, loss = 0.005651665851473808\n",
      "epoch = 167, loss = 0.005459880921989679\n",
      "epoch = 168, loss = 0.005273493938148022\n",
      "epoch = 169, loss = 0.005092875566333532\n",
      "epoch = 170, loss = 0.004918328952044249\n",
      "epoch = 171, loss = 0.0047500296495854855\n",
      "epoch = 172, loss = 0.0045880405232310295\n",
      "epoch = 173, loss = 0.004432244226336479\n",
      "epoch = 174, loss = 0.004282435867935419\n",
      "epoch = 175, loss = 0.004138313699513674\n",
      "epoch = 176, loss = 0.0039995755068957806\n",
      "epoch = 177, loss = 0.003865971229970455\n",
      "epoch = 178, loss = 0.0037372710648924112\n",
      "epoch = 179, loss = 0.003613340901210904\n",
      "epoch = 180, loss = 0.0034940573386847973\n",
      "epoch = 181, loss = 0.0033793810289353132\n",
      "epoch = 182, loss = 0.003269237233325839\n",
      "epoch = 183, loss = 0.003163568675518036\n",
      "epoch = 184, loss = 0.0030622733756899834\n",
      "epoch = 185, loss = 0.0029651778750121593\n",
      "epoch = 186, loss = 0.002872110577300191\n",
      "epoch = 187, loss = 0.0027828628662973642\n",
      "epoch = 188, loss = 0.0026971877086907625\n",
      "epoch = 189, loss = 0.002614902565255761\n",
      "epoch = 190, loss = 0.002535799751058221\n",
      "epoch = 191, loss = 0.0024597258307039738\n",
      "epoch = 192, loss = 0.0023865506518632174\n",
      "epoch = 193, loss = 0.002316182479262352\n",
      "epoch = 194, loss = 0.002248546341434121\n",
      "epoch = 195, loss = 0.0021835844963788986\n",
      "epoch = 196, loss = 0.0021212464198470116\n",
      "epoch = 197, loss = 0.002061489038169384\n",
      "epoch = 198, loss = 0.002004241105169058\n",
      "epoch = 199, loss = 0.0019494335865601897\n",
      "epoch = 200, loss = 0.0018969802185893059\n",
      "epoch = 201, loss = 0.0018467860063537955\n",
      "epoch = 202, loss = 0.0017987479222938418\n",
      "epoch = 203, loss = 0.0017527616582810879\n",
      "epoch = 204, loss = 0.001708703930489719\n",
      "epoch = 205, loss = 0.0016664826544001698\n",
      "epoch = 206, loss = 0.001625990611501038\n",
      "epoch = 207, loss = 0.0015871269861236215\n",
      "epoch = 208, loss = 0.0015498154098168015\n",
      "epoch = 209, loss = 0.0015139871975407004\n",
      "epoch = 210, loss = 0.001479573082178831\n",
      "epoch = 211, loss = 0.0014465143904089928\n",
      "epoch = 212, loss = 0.001414758968167007\n",
      "epoch = 213, loss = 0.001384256174787879\n",
      "epoch = 214, loss = 0.0013549525756388903\n",
      "epoch = 215, loss = 0.001326805679127574\n",
      "epoch = 216, loss = 0.0012997592566534877\n",
      "epoch = 217, loss = 0.0012737708166241646\n",
      "epoch = 218, loss = 0.0012487840140238404\n",
      "epoch = 219, loss = 0.0012247664853930473\n",
      "epoch = 220, loss = 0.0012016723630949855\n",
      "epoch = 221, loss = 0.001179464627057314\n",
      "epoch = 222, loss = 0.0011581068392843008\n",
      "epoch = 223, loss = 0.0011375666363164783\n",
      "epoch = 224, loss = 0.0011178170097991824\n",
      "epoch = 225, loss = 0.0010988186113536358\n",
      "epoch = 226, loss = 0.001080547459423542\n",
      "epoch = 227, loss = 0.0010629742173478007\n",
      "epoch = 228, loss = 0.001046059769578278\n",
      "epoch = 229, loss = 0.0010297871194779873\n",
      "epoch = 230, loss = 0.0010141176171600819\n",
      "epoch = 231, loss = 0.0009990250691771507\n",
      "epoch = 232, loss = 0.0009844863088801503\n",
      "epoch = 233, loss = 0.0009704731637611985\n",
      "epoch = 234, loss = 0.0009569628746248782\n",
      "epoch = 235, loss = 0.00094392872415483\n",
      "epoch = 236, loss = 0.00093135389033705\n",
      "epoch = 237, loss = 0.0009192191064357758\n",
      "epoch = 238, loss = 0.0009074995177797973\n",
      "epoch = 239, loss = 0.0008961819694377482\n",
      "epoch = 240, loss = 0.0008852520841173828\n",
      "epoch = 241, loss = 0.0008746866369619966\n",
      "epoch = 242, loss = 0.0008644737536087632\n",
      "epoch = 243, loss = 0.0008546023746021092\n",
      "epoch = 244, loss = 0.0008450539316982031\n",
      "epoch = 245, loss = 0.0008358100312761962\n",
      "epoch = 246, loss = 0.0008268669480457902\n",
      "epoch = 247, loss = 0.0008182059391401708\n",
      "epoch = 248, loss = 0.0008098118705675006\n",
      "epoch = 249, loss = 0.0008016797946766019\n",
      "epoch = 250, loss = 0.0007937969057820737\n",
      "epoch = 251, loss = 0.0007861528429202735\n",
      "epoch = 252, loss = 0.0007787352078594267\n",
      "epoch = 253, loss = 0.000771536841057241\n",
      "epoch = 254, loss = 0.0007645466830581427\n",
      "epoch = 255, loss = 0.0007577573996968567\n",
      "epoch = 256, loss = 0.0007511643343605101\n",
      "epoch = 257, loss = 0.0007447508978657424\n",
      "epoch = 258, loss = 0.0007385143544524908\n",
      "epoch = 259, loss = 0.0007324462640099227\n",
      "epoch = 260, loss = 0.0007265430758707225\n",
      "epoch = 261, loss = 0.0007207922171801329\n",
      "epoch = 262, loss = 0.000715192873030901\n",
      "epoch = 263, loss = 0.0007097335183061659\n",
      "epoch = 264, loss = 0.0007044143276289105\n",
      "epoch = 265, loss = 0.0006992226117290556\n",
      "epoch = 266, loss = 0.0006941617466509342\n",
      "epoch = 267, loss = 0.000689219159539789\n",
      "epoch = 268, loss = 0.0006843962473794818\n",
      "epoch = 269, loss = 0.0006796844536438584\n",
      "epoch = 270, loss = 0.0006750813918188214\n",
      "epoch = 271, loss = 0.0006705774576403201\n",
      "epoch = 272, loss = 0.0006661761435680091\n",
      "epoch = 273, loss = 0.0006618701154366136\n",
      "epoch = 274, loss = 0.0006576559972018003\n",
      "epoch = 275, loss = 0.0006535303546115756\n",
      "epoch = 276, loss = 0.0006494887638837099\n",
      "epoch = 277, loss = 0.0006455290131270885\n",
      "epoch = 278, loss = 0.000641647435259074\n",
      "epoch = 279, loss = 0.0006378429243341088\n",
      "epoch = 280, loss = 0.0006341098342090845\n",
      "epoch = 281, loss = 0.0006304478156380355\n",
      "epoch = 282, loss = 0.0006268522702157497\n",
      "epoch = 283, loss = 0.0006233261665329337\n",
      "epoch = 284, loss = 0.0006198579794727266\n",
      "epoch = 285, loss = 0.0006164528313092887\n",
      "epoch = 286, loss = 0.0006131036207079887\n",
      "epoch = 287, loss = 0.0006098157027736306\n",
      "epoch = 288, loss = 0.0006065788329578936\n",
      "epoch = 289, loss = 0.0006033949321135879\n",
      "epoch = 290, loss = 0.0006002644659020007\n",
      "epoch = 291, loss = 0.0005971802747808397\n",
      "epoch = 292, loss = 0.000594143639318645\n",
      "epoch = 293, loss = 0.0005911564221605659\n",
      "epoch = 294, loss = 0.0005882111727260053\n",
      "epoch = 295, loss = 0.0005853103939443827\n",
      "epoch = 296, loss = 0.0005824492545798421\n",
      "epoch = 297, loss = 0.0005796309560537338\n",
      "epoch = 298, loss = 0.0005768500850535929\n",
      "epoch = 299, loss = 0.0005741094937548041\n",
      "epoch = 300, loss = 0.0005714053404517472\n",
      "epoch = 301, loss = 0.000568736344575882\n",
      "epoch = 302, loss = 0.0005661017494276166\n",
      "epoch = 303, loss = 0.0005635008565150201\n",
      "epoch = 304, loss = 0.000560934015084058\n",
      "epoch = 305, loss = 0.0005583981401287019\n",
      "epoch = 306, loss = 0.0005558945704251528\n",
      "epoch = 307, loss = 0.0005534186493605375\n",
      "epoch = 308, loss = 0.0005509741022251546\n",
      "epoch = 309, loss = 0.0005485577275976539\n",
      "epoch = 310, loss = 0.0005461672553792596\n",
      "epoch = 311, loss = 0.0005438055959530175\n",
      "epoch = 312, loss = 0.0005414707120507956\n",
      "epoch = 313, loss = 0.0005391612066887319\n",
      "epoch = 314, loss = 0.0005368780111894011\n",
      "epoch = 315, loss = 0.000534617982339114\n",
      "epoch = 316, loss = 0.0005323807126842439\n",
      "epoch = 317, loss = 0.0005301678320392966\n",
      "epoch = 318, loss = 0.0005279793404042721\n",
      "epoch = 319, loss = 0.0005258115706965327\n",
      "epoch = 320, loss = 0.0005236665019765496\n",
      "epoch = 321, loss = 0.0005215420387685299\n",
      "epoch = 322, loss = 0.0005194396944716573\n",
      "epoch = 323, loss = 0.0005173562094569206\n",
      "epoch = 324, loss = 0.0005152926314622164\n",
      "epoch = 325, loss = 0.0005132507067173719\n",
      "epoch = 326, loss = 0.0005112256039865315\n",
      "epoch = 327, loss = 0.000509221397805959\n",
      "epoch = 328, loss = 0.0005072340136393905\n",
      "epoch = 329, loss = 0.0005052655469626188\n",
      "epoch = 330, loss = 0.0005033150082454085\n",
      "epoch = 331, loss = 0.0005013810005038977\n",
      "epoch = 332, loss = 0.0004994654445908964\n",
      "epoch = 333, loss = 0.0004975661868229508\n",
      "epoch = 334, loss = 0.0004956825287081301\n",
      "epoch = 335, loss = 0.0004938162746839225\n",
      "epoch = 336, loss = 0.0004919652710668743\n",
      "epoch = 337, loss = 0.0004901313222944736\n",
      "epoch = 338, loss = 0.0004883120418526232\n",
      "epoch = 339, loss = 0.0004865073424298316\n",
      "epoch = 340, loss = 0.00048471748596057296\n",
      "epoch = 341, loss = 0.0004829420940950513\n",
      "epoch = 342, loss = 0.00048118195263668895\n",
      "epoch = 343, loss = 0.0004794359556399286\n",
      "epoch = 344, loss = 0.000477705238154158\n",
      "epoch = 345, loss = 0.0004759858420584351\n",
      "epoch = 346, loss = 0.00047428105608560145\n",
      "epoch = 347, loss = 0.00047259090933948755\n",
      "epoch = 348, loss = 0.0004709124332293868\n",
      "epoch = 349, loss = 0.00046924949856474996\n",
      "epoch = 350, loss = 0.00046759634278714657\n",
      "epoch = 351, loss = 0.0004659567784983665\n",
      "epoch = 352, loss = 0.00046433034003712237\n",
      "epoch = 353, loss = 0.0004627181915566325\n",
      "epoch = 354, loss = 0.0004611148324329406\n",
      "epoch = 355, loss = 0.0004595246573444456\n",
      "epoch = 356, loss = 0.0004579463566187769\n",
      "epoch = 357, loss = 0.0004563816182781011\n",
      "epoch = 358, loss = 0.00045482610585168004\n",
      "epoch = 359, loss = 0.0004532830498646945\n",
      "epoch = 360, loss = 0.00045175207196734846\n",
      "epoch = 361, loss = 0.00045023104758001864\n",
      "epoch = 362, loss = 0.0004487215483095497\n",
      "epoch = 363, loss = 0.00044722211896441877\n",
      "epoch = 364, loss = 0.00044573633931577206\n",
      "epoch = 365, loss = 0.00044425882515497506\n",
      "epoch = 366, loss = 0.0004427917010616511\n",
      "epoch = 367, loss = 0.00044133688788861036\n",
      "epoch = 368, loss = 0.00043989240657538176\n",
      "epoch = 369, loss = 0.00043845607433468103\n",
      "epoch = 370, loss = 0.00043703083065338433\n",
      "epoch = 371, loss = 0.00043561600614339113\n",
      "epoch = 372, loss = 0.00043421160080470145\n",
      "epoch = 373, loss = 0.00043281581019982696\n",
      "epoch = 374, loss = 0.0004314307007007301\n",
      "epoch = 375, loss = 0.0004300555447116494\n",
      "epoch = 376, loss = 0.0004286874318495393\n",
      "epoch = 377, loss = 0.0004273301747161895\n",
      "epoch = 378, loss = 0.000425984151661396\n",
      "epoch = 379, loss = 0.0004246454336680472\n",
      "epoch = 380, loss = 0.00042331646545790136\n",
      "epoch = 381, loss = 0.000421995937358588\n",
      "epoch = 382, loss = 0.0004206845769658685\n",
      "epoch = 383, loss = 0.00041938250069506466\n",
      "epoch = 384, loss = 0.00041808889363892376\n",
      "epoch = 385, loss = 0.0004168047453276813\n",
      "epoch = 386, loss = 0.000415528571465984\n",
      "epoch = 387, loss = 0.00041426156531088054\n",
      "epoch = 388, loss = 0.00041300247539766133\n",
      "epoch = 389, loss = 0.0004117511271033436\n",
      "epoch = 390, loss = 0.00041050955769605935\n",
      "epoch = 391, loss = 0.00040927607915364206\n",
      "epoch = 392, loss = 0.00040805069147609174\n",
      "epoch = 393, loss = 0.0004068325215484947\n",
      "epoch = 394, loss = 0.00040562308277003467\n",
      "epoch = 395, loss = 0.00040442089084535837\n",
      "epoch = 396, loss = 0.00040322812856175005\n",
      "epoch = 397, loss = 0.00040204200195148587\n",
      "epoch = 398, loss = 0.00040086303488351405\n",
      "epoch = 399, loss = 0.00039969274075701833\n",
      "epoch = 400, loss = 0.0003985314106103033\n",
      "epoch = 401, loss = 0.0003973754355683923\n",
      "epoch = 402, loss = 0.0003962276387028396\n",
      "epoch = 403, loss = 0.00039508790359832346\n",
      "epoch = 404, loss = 0.00039395413477905095\n",
      "epoch = 405, loss = 0.0003928294754587114\n",
      "epoch = 406, loss = 0.0003917109570465982\n",
      "epoch = 407, loss = 0.0003905990452039987\n",
      "epoch = 408, loss = 0.00038949563167989254\n",
      "epoch = 409, loss = 0.00038839818444103\n",
      "epoch = 410, loss = 0.0003873087407555431\n",
      "epoch = 411, loss = 0.0003862260782625526\n",
      "epoch = 412, loss = 0.00038515060441568494\n",
      "epoch = 413, loss = 0.00038408124237321317\n",
      "epoch = 414, loss = 0.00038301933091133833\n",
      "epoch = 415, loss = 0.00038196187233552337\n",
      "epoch = 416, loss = 0.00038091468741185963\n",
      "epoch = 417, loss = 0.0003798718680627644\n",
      "epoch = 418, loss = 0.000378836237359792\n",
      "epoch = 419, loss = 0.00037780628190375865\n",
      "epoch = 420, loss = 0.00037678427179344\n",
      "epoch = 421, loss = 0.0003757669765036553\n",
      "epoch = 422, loss = 0.0003747572482097894\n",
      "epoch = 423, loss = 0.00037375319516286254\n",
      "epoch = 424, loss = 0.0003727555740624666\n",
      "epoch = 425, loss = 0.00037176444311626256\n",
      "epoch = 426, loss = 0.0003707794821821153\n",
      "epoch = 427, loss = 0.00036979999276809394\n",
      "epoch = 428, loss = 0.00036882766289636493\n",
      "epoch = 429, loss = 0.00036786121199838817\n",
      "epoch = 430, loss = 0.0003668998251669109\n",
      "epoch = 431, loss = 0.0003659448411781341\n",
      "epoch = 432, loss = 0.00036499559064395726\n",
      "epoch = 433, loss = 0.00036405239370651543\n",
      "epoch = 434, loss = 0.00036311394069343805\n",
      "epoch = 435, loss = 0.0003621828800532967\n",
      "epoch = 436, loss = 0.0003612559230532497\n",
      "epoch = 437, loss = 0.00036033644573763013\n",
      "epoch = 438, loss = 0.000359421712346375\n",
      "epoch = 439, loss = 0.00035851195571012795\n",
      "epoch = 440, loss = 0.0003576079325284809\n",
      "epoch = 441, loss = 0.00035671002115122974\n",
      "epoch = 442, loss = 0.0003558167372830212\n",
      "epoch = 443, loss = 0.0003549301763996482\n",
      "epoch = 444, loss = 0.0003540478355716914\n",
      "epoch = 445, loss = 0.0003531714901328087\n",
      "epoch = 446, loss = 0.00035229913191869855\n",
      "epoch = 447, loss = 0.00035143259447067976\n",
      "epoch = 448, loss = 0.0003505710046738386\n",
      "epoch = 449, loss = 0.0003497163124848157\n",
      "epoch = 450, loss = 0.00034886470530182123\n",
      "epoch = 451, loss = 0.0003480179875623435\n",
      "epoch = 452, loss = 0.00034717778908088803\n",
      "epoch = 453, loss = 0.00034634198527783155\n",
      "epoch = 454, loss = 0.00034551144926808774\n",
      "epoch = 455, loss = 0.0003446864429861307\n",
      "epoch = 456, loss = 0.00034386361949145794\n",
      "epoch = 457, loss = 0.0003430474898777902\n",
      "epoch = 458, loss = 0.0003422368026804179\n",
      "epoch = 459, loss = 0.0003414298116695136\n",
      "epoch = 460, loss = 0.00034062779741361737\n",
      "epoch = 461, loss = 0.00033983070170506835\n",
      "epoch = 462, loss = 0.0003390383208170533\n",
      "epoch = 463, loss = 0.0003382506547495723\n",
      "epoch = 464, loss = 0.000337467179633677\n",
      "epoch = 465, loss = 0.0003366887103766203\n",
      "epoch = 466, loss = 0.000335913646267727\n",
      "epoch = 467, loss = 0.0003351444029249251\n",
      "epoch = 468, loss = 0.0003343791177030653\n",
      "epoch = 469, loss = 0.0003336187219247222\n",
      "epoch = 470, loss = 0.0003328615566715598\n",
      "epoch = 471, loss = 0.0003321103285998106\n",
      "epoch = 472, loss = 0.0003313617780804634\n",
      "epoch = 473, loss = 0.00033061913563869894\n",
      "epoch = 474, loss = 0.0003298802184872329\n",
      "epoch = 475, loss = 0.00032914456096477807\n",
      "epoch = 476, loss = 0.00032841385109350085\n",
      "epoch = 477, loss = 0.0003276870120316744\n",
      "epoch = 478, loss = 0.0003269644221290946\n",
      "epoch = 479, loss = 0.0003262466925662011\n",
      "epoch = 480, loss = 0.00032553329947404563\n",
      "epoch = 481, loss = 0.00032482296228408813\n",
      "epoch = 482, loss = 0.00032411591382697225\n",
      "epoch = 483, loss = 0.0003234149480704218\n",
      "epoch = 484, loss = 0.00032271648524329066\n",
      "epoch = 485, loss = 0.00032202256261371076\n",
      "epoch = 486, loss = 0.0003213330637663603\n",
      "epoch = 487, loss = 0.00032064609695225954\n",
      "epoch = 488, loss = 0.0003199630882591009\n",
      "epoch = 489, loss = 0.0003192840958945453\n",
      "epoch = 490, loss = 0.00031860917806625366\n",
      "epoch = 491, loss = 0.0003179385093972087\n",
      "epoch = 492, loss = 0.00031727037276141346\n",
      "epoch = 493, loss = 0.00031660692184232175\n",
      "epoch = 494, loss = 0.0003159470215905458\n",
      "epoch = 495, loss = 0.0003152916324324906\n",
      "epoch = 496, loss = 0.000314638193231076\n",
      "epoch = 497, loss = 0.00031398871215060353\n",
      "epoch = 498, loss = 0.0003133435093332082\n",
      "epoch = 499, loss = 0.0003127016534563154\n",
      "epoch = 500, loss = 0.0003120634937658906\n",
      "epoch = 501, loss = 0.00031142745865508914\n",
      "epoch = 502, loss = 0.00031079715699888766\n",
      "epoch = 503, loss = 0.0003101691836491227\n",
      "epoch = 504, loss = 0.0003095439460594207\n",
      "epoch = 505, loss = 0.0003089234232902527\n",
      "epoch = 506, loss = 0.00030830572359263897\n",
      "epoch = 507, loss = 0.0003076912835240364\n",
      "epoch = 508, loss = 0.0003070807142648846\n",
      "epoch = 509, loss = 0.0003064718912355602\n",
      "epoch = 510, loss = 0.0003058681031689048\n",
      "epoch = 511, loss = 0.0003052669344469905\n",
      "epoch = 512, loss = 0.0003046694037038833\n",
      "epoch = 513, loss = 0.00030407446320168674\n",
      "epoch = 514, loss = 0.00030348318978212774\n",
      "epoch = 515, loss = 0.00030289505957625806\n",
      "epoch = 516, loss = 0.0003023100725840777\n",
      "epoch = 517, loss = 0.00030172718106769025\n",
      "epoch = 518, loss = 0.0003011487133335322\n",
      "epoch = 519, loss = 0.0003005721664521843\n",
      "epoch = 520, loss = 0.00030000091646797955\n",
      "epoch = 521, loss = 0.0002994308015331626\n",
      "epoch = 522, loss = 0.0002988636551890522\n",
      "epoch = 523, loss = 0.0002983002632390708\n",
      "epoch = 524, loss = 0.00029773858841508627\n",
      "epoch = 525, loss = 0.00029718136647716165\n",
      "epoch = 526, loss = 0.0002966269967146218\n",
      "epoch = 527, loss = 0.000296075246296823\n",
      "epoch = 528, loss = 0.0002955258241854608\n",
      "epoch = 529, loss = 0.0002949795452877879\n",
      "epoch = 530, loss = 0.000294437981210649\n",
      "epoch = 531, loss = 0.0002938967663794756\n",
      "epoch = 532, loss = 0.0002933603245764971\n",
      "epoch = 533, loss = 0.0002928245812654495\n",
      "epoch = 534, loss = 0.00029229221399873495\n",
      "epoch = 535, loss = 0.0002917623787652701\n",
      "epoch = 536, loss = 0.00029123667627573013\n",
      "epoch = 537, loss = 0.000290713767753914\n",
      "epoch = 538, loss = 0.0002901920524891466\n",
      "epoch = 539, loss = 0.0002896737423725426\n",
      "epoch = 540, loss = 0.00028915810980834067\n",
      "epoch = 541, loss = 0.0002886441652663052\n",
      "epoch = 542, loss = 0.00028813493554480374\n",
      "epoch = 543, loss = 0.00028762660804204643\n",
      "epoch = 544, loss = 0.0002871219767257571\n",
      "epoch = 545, loss = 0.00028661894612014294\n",
      "epoch = 546, loss = 0.00028611961170099676\n",
      "epoch = 547, loss = 0.0002856224309653044\n",
      "epoch = 548, loss = 0.00028512670542113483\n",
      "epoch = 549, loss = 0.00028463389026001096\n",
      "epoch = 550, loss = 0.0002841447712853551\n",
      "epoch = 551, loss = 0.00028365766047500074\n",
      "epoch = 552, loss = 0.0002831729070749134\n",
      "epoch = 553, loss = 0.00028268949245102704\n",
      "epoch = 554, loss = 0.00028221000684425235\n",
      "epoch = 555, loss = 0.0002817320928443223\n",
      "epoch = 556, loss = 0.0002812565362546593\n",
      "epoch = 557, loss = 0.0002807840646710247\n",
      "epoch = 558, loss = 0.0002803125244099647\n",
      "epoch = 559, loss = 0.00027984497137367725\n",
      "epoch = 560, loss = 0.0002793790481518954\n",
      "epoch = 561, loss = 0.0002789158606901765\n",
      "epoch = 562, loss = 0.00027845465228892863\n",
      "epoch = 563, loss = 0.00027799481176771224\n",
      "epoch = 564, loss = 0.0002775389002636075\n",
      "epoch = 565, loss = 0.0002770840364973992\n",
      "epoch = 566, loss = 0.00027663185028359294\n",
      "epoch = 567, loss = 0.0002761815267149359\n",
      "epoch = 568, loss = 0.00027573370607569814\n",
      "epoch = 569, loss = 0.00027528853388503194\n",
      "epoch = 570, loss = 0.00027484484598971903\n",
      "epoch = 571, loss = 0.0002744034572970122\n",
      "epoch = 572, loss = 0.0002739647461567074\n",
      "epoch = 573, loss = 0.0002735277230385691\n",
      "epoch = 574, loss = 0.00027309294091537595\n",
      "epoch = 575, loss = 0.0002726600505411625\n",
      "epoch = 576, loss = 0.00027222881908528507\n",
      "epoch = 577, loss = 0.0002718003233894706\n",
      "epoch = 578, loss = 0.00027137473807670176\n",
      "epoch = 579, loss = 0.0002709489781409502\n",
      "epoch = 580, loss = 0.0002705263323150575\n",
      "epoch = 581, loss = 0.0002701074699871242\n",
      "epoch = 582, loss = 0.0002696882584132254\n",
      "epoch = 583, loss = 0.0002692715497687459\n",
      "epoch = 584, loss = 0.0002688573149498552\n",
      "epoch = 585, loss = 0.00026844488456845284\n",
      "epoch = 586, loss = 0.00026803420041687787\n",
      "epoch = 587, loss = 0.00026762543711811304\n",
      "epoch = 588, loss = 0.0002672197879292071\n",
      "epoch = 589, loss = 0.00026681451709009707\n",
      "epoch = 590, loss = 0.0002664116909727454\n",
      "epoch = 591, loss = 0.0002660112513694912\n",
      "epoch = 592, loss = 0.00026561185950413346\n",
      "epoch = 593, loss = 0.0002652142138686031\n",
      "epoch = 594, loss = 0.0002648192166816443\n",
      "epoch = 595, loss = 0.0002644258493091911\n",
      "epoch = 596, loss = 0.0002640344318933785\n",
      "epoch = 597, loss = 0.000263644615188241\n",
      "epoch = 598, loss = 0.0002632569521665573\n",
      "epoch = 599, loss = 0.0002628699585329741\n",
      "epoch = 600, loss = 0.0002624859334900975\n",
      "epoch = 601, loss = 0.0002621039457153529\n",
      "epoch = 602, loss = 0.00026172256912104785\n",
      "epoch = 603, loss = 0.00026134366635233164\n",
      "epoch = 604, loss = 0.00026096601504832506\n",
      "epoch = 605, loss = 0.00026058973162434995\n",
      "epoch = 606, loss = 0.0002602163003757596\n",
      "epoch = 607, loss = 0.00025984388776123524\n",
      "epoch = 608, loss = 0.00025947316316887736\n",
      "epoch = 609, loss = 0.00025910494150593877\n",
      "epoch = 610, loss = 0.0002587366907391697\n",
      "epoch = 611, loss = 0.00025837140856310725\n",
      "epoch = 612, loss = 0.00025800784351304173\n",
      "epoch = 613, loss = 0.00025764541351236403\n",
      "epoch = 614, loss = 0.0002572847588453442\n",
      "epoch = 615, loss = 0.0002569262287579477\n",
      "epoch = 616, loss = 0.00025656784418970346\n",
      "epoch = 617, loss = 0.00025621248641982675\n",
      "epoch = 618, loss = 0.00025585771072655916\n",
      "epoch = 619, loss = 0.00025550552527420223\n",
      "epoch = 620, loss = 0.00025515479501336813\n",
      "epoch = 621, loss = 0.000254804763244465\n",
      "epoch = 622, loss = 0.0002544568560551852\n",
      "epoch = 623, loss = 0.0002541094727348536\n",
      "epoch = 624, loss = 0.0002537650871090591\n",
      "epoch = 625, loss = 0.00025342218577861786\n",
      "epoch = 626, loss = 0.00025307995383627713\n",
      "epoch = 627, loss = 0.00025273964274674654\n",
      "epoch = 628, loss = 0.000252400292083621\n",
      "epoch = 629, loss = 0.00025206361897289753\n",
      "epoch = 630, loss = 0.00025172767345793545\n",
      "epoch = 631, loss = 0.00025139295030385256\n",
      "epoch = 632, loss = 0.00025105959502980113\n",
      "epoch = 633, loss = 0.0002507281897123903\n",
      "epoch = 634, loss = 0.0002503971627447754\n",
      "epoch = 635, loss = 0.00025006887153722346\n",
      "epoch = 636, loss = 0.000249741249717772\n",
      "epoch = 637, loss = 0.0002494160726200789\n",
      "epoch = 638, loss = 0.00024909040075726807\n",
      "epoch = 639, loss = 0.00024876752286218107\n",
      "epoch = 640, loss = 0.0002484450815245509\n",
      "epoch = 641, loss = 0.0002481252886354923\n",
      "epoch = 642, loss = 0.0002478057285770774\n",
      "epoch = 643, loss = 0.00024748797295615077\n",
      "epoch = 644, loss = 0.00024717170163057745\n",
      "epoch = 645, loss = 0.0002468565944582224\n",
      "epoch = 646, loss = 0.0002465427969582379\n",
      "epoch = 647, loss = 0.0002462297852616757\n",
      "epoch = 648, loss = 0.0002459197712596506\n",
      "epoch = 649, loss = 0.0002456096699461341\n",
      "epoch = 650, loss = 0.0002453005581628531\n",
      "epoch = 651, loss = 0.0002449938328936696\n",
      "epoch = 652, loss = 0.00024468713672831655\n",
      "epoch = 653, loss = 0.0002443827979732305\n",
      "epoch = 654, loss = 0.00024407857563346624\n",
      "epoch = 655, loss = 0.00024377602676395327\n",
      "epoch = 656, loss = 0.00024347603903152049\n",
      "epoch = 657, loss = 0.00024317577481269836\n",
      "epoch = 658, loss = 0.00024287741689477116\n",
      "epoch = 659, loss = 0.00024258001940324903\n",
      "epoch = 660, loss = 0.000242283393163234\n",
      "epoch = 661, loss = 0.00024198900791816413\n",
      "epoch = 662, loss = 0.00024169516109395772\n",
      "epoch = 663, loss = 0.00024140240566339344\n",
      "epoch = 664, loss = 0.00024111111997626722\n",
      "epoch = 665, loss = 0.00024082059098873287\n",
      "epoch = 666, loss = 0.00024053180823102593\n",
      "epoch = 667, loss = 0.0002402436948614195\n",
      "epoch = 668, loss = 0.00023995788069441915\n",
      "epoch = 669, loss = 0.00023967126617208123\n",
      "epoch = 670, loss = 0.00023938667436596006\n",
      "epoch = 671, loss = 0.00023910374147817492\n",
      "epoch = 672, loss = 0.00023882050300017\n",
      "epoch = 673, loss = 0.000238540000282228\n",
      "epoch = 674, loss = 0.0002382602688157931\n",
      "epoch = 675, loss = 0.00023798133770469576\n",
      "epoch = 676, loss = 0.00023770291591063142\n",
      "epoch = 677, loss = 0.00023742766643408686\n",
      "epoch = 678, loss = 0.00023714987037237734\n",
      "epoch = 679, loss = 0.00023687649809289724\n",
      "epoch = 680, loss = 0.0002366025873925537\n",
      "epoch = 681, loss = 0.00023632997181266546\n",
      "epoch = 682, loss = 0.00023605827300343663\n",
      "epoch = 683, loss = 0.00023578897526022047\n",
      "epoch = 684, loss = 0.00023551877529826015\n",
      "epoch = 685, loss = 0.00023525039432570338\n",
      "epoch = 686, loss = 0.00023498306109104306\n",
      "epoch = 687, loss = 0.00023471718304790556\n",
      "epoch = 688, loss = 0.00023445206170435995\n",
      "epoch = 689, loss = 0.0002341873914701864\n",
      "epoch = 690, loss = 0.00023392456932924688\n",
      "epoch = 691, loss = 0.0002336613688385114\n",
      "epoch = 692, loss = 0.00023340023471973836\n",
      "epoch = 693, loss = 0.00023314039572142065\n",
      "epoch = 694, loss = 0.00023288004740606993\n",
      "epoch = 695, loss = 0.0002326225658180192\n",
      "epoch = 696, loss = 0.00023236492415890098\n",
      "epoch = 697, loss = 0.00023210835934150964\n",
      "epoch = 698, loss = 0.00023185294412542135\n",
      "epoch = 699, loss = 0.00023159838747233152\n",
      "epoch = 700, loss = 0.0002313441364094615\n",
      "epoch = 701, loss = 0.0002310915442649275\n",
      "epoch = 702, loss = 0.00023083959240466356\n",
      "epoch = 703, loss = 0.00023058928491082042\n",
      "epoch = 704, loss = 0.00023033942852634937\n",
      "epoch = 705, loss = 0.00023008955758996308\n",
      "epoch = 706, loss = 0.00022984262614045292\n",
      "epoch = 707, loss = 0.00022959505440667272\n",
      "epoch = 708, loss = 0.0002293489087605849\n",
      "epoch = 709, loss = 0.0002291027776664123\n",
      "epoch = 710, loss = 0.00022885840735398233\n",
      "epoch = 711, loss = 0.00022861507022753358\n",
      "epoch = 712, loss = 0.0002283721842104569\n",
      "epoch = 713, loss = 0.00022812954557593912\n",
      "epoch = 714, loss = 0.0002278882311657071\n",
      "epoch = 715, loss = 0.000227648502914235\n",
      "epoch = 716, loss = 0.00022740867279935628\n",
      "epoch = 717, loss = 0.00022717074898537248\n",
      "epoch = 718, loss = 0.00022693202481605113\n",
      "epoch = 719, loss = 0.00022669608006253839\n",
      "epoch = 720, loss = 0.00022645961144007742\n",
      "epoch = 721, loss = 0.00022622452524956316\n",
      "epoch = 722, loss = 0.0002259891334688291\n",
      "epoch = 723, loss = 0.00022575637558475137\n",
      "epoch = 724, loss = 0.00022552181326318532\n",
      "epoch = 725, loss = 0.00022529083071276546\n",
      "epoch = 726, loss = 0.0002250593388453126\n",
      "epoch = 727, loss = 0.0002248290547868237\n",
      "epoch = 728, loss = 0.0002245989307994023\n",
      "epoch = 729, loss = 0.00022437058214563876\n",
      "epoch = 730, loss = 0.00022414224804379046\n",
      "epoch = 731, loss = 0.0002239146997453645\n",
      "epoch = 732, loss = 0.0002236877044197172\n",
      "epoch = 733, loss = 0.0002234617422800511\n",
      "epoch = 734, loss = 0.00022323636221699417\n",
      "epoch = 735, loss = 0.00022301265562418848\n",
      "epoch = 736, loss = 0.00022278841061051935\n",
      "epoch = 737, loss = 0.00022256598458625376\n",
      "epoch = 738, loss = 0.00022234416974242777\n",
      "epoch = 739, loss = 0.00022212244221009314\n",
      "epoch = 740, loss = 0.00022190256277099252\n",
      "epoch = 741, loss = 0.00022168245050124824\n",
      "epoch = 742, loss = 0.00022146299306768924\n",
      "epoch = 743, loss = 0.00022124426322989166\n",
      "epoch = 744, loss = 0.00022102566435933113\n",
      "epoch = 745, loss = 0.00022080907365307212\n",
      "epoch = 746, loss = 0.00022059313778299838\n",
      "epoch = 747, loss = 0.0002203766198363155\n",
      "epoch = 748, loss = 0.00022016178991179913\n",
      "epoch = 749, loss = 0.00021994844428263605\n",
      "epoch = 750, loss = 0.00021973371622152627\n",
      "epoch = 751, loss = 0.00021952064707875252\n",
      "epoch = 752, loss = 0.0002193083637394011\n",
      "epoch = 753, loss = 0.00021909608040004969\n",
      "epoch = 754, loss = 0.00021888688206672668\n",
      "epoch = 755, loss = 0.00021867566101718694\n",
      "epoch = 756, loss = 0.0002184653130825609\n",
      "epoch = 757, loss = 0.00021825805015396327\n",
      "epoch = 758, loss = 0.00021804898278787732\n",
      "epoch = 759, loss = 0.0002178409486077726\n",
      "epoch = 760, loss = 0.00021763496624771506\n",
      "epoch = 761, loss = 0.0002174274268327281\n",
      "epoch = 762, loss = 0.0002172219246858731\n",
      "epoch = 763, loss = 0.00021701684454455972\n",
      "epoch = 764, loss = 0.00021681241923943162\n",
      "epoch = 765, loss = 0.00021660761558450758\n",
      "epoch = 766, loss = 0.0002164042234653607\n",
      "epoch = 767, loss = 0.00021620243205688894\n",
      "epoch = 768, loss = 0.00021600088803097606\n",
      "epoch = 769, loss = 0.0002157984854420647\n",
      "epoch = 770, loss = 0.00021559812012128532\n",
      "epoch = 771, loss = 0.0002153968089260161\n",
      "epoch = 772, loss = 0.00021519737492781132\n",
      "epoch = 773, loss = 0.00021499971626326442\n",
      "epoch = 774, loss = 0.00021480076247826219\n",
      "epoch = 775, loss = 0.00021460182324517518\n",
      "epoch = 776, loss = 0.00021440502314362675\n",
      "epoch = 777, loss = 0.00021420937264338136\n",
      "epoch = 778, loss = 0.00021401263074949384\n",
      "epoch = 779, loss = 0.0002138167037628591\n",
      "epoch = 780, loss = 0.00021362144616432488\n",
      "epoch = 781, loss = 0.00021342706168070436\n",
      "epoch = 782, loss = 0.00021323291002772748\n",
      "epoch = 783, loss = 0.00021303996618371457\n",
      "epoch = 784, loss = 0.0002128463238477707\n",
      "epoch = 785, loss = 0.00021265434043016285\n",
      "epoch = 786, loss = 0.00021246349206194282\n",
      "epoch = 787, loss = 0.00021227124670986086\n",
      "epoch = 788, loss = 0.00021208073303569108\n",
      "epoch = 789, loss = 0.0002118921693181619\n",
      "epoch = 790, loss = 0.0002117023104801774\n",
      "epoch = 791, loss = 0.00021151278633624315\n",
      "epoch = 792, loss = 0.0002113234659191221\n",
      "epoch = 793, loss = 0.00021113608090672642\n",
      "epoch = 794, loss = 0.00021094921976327896\n",
      "epoch = 795, loss = 0.0002107616455759853\n",
      "epoch = 796, loss = 0.00021057575941085815\n",
      "epoch = 797, loss = 0.0002103898295899853\n",
      "epoch = 798, loss = 0.0002102033031405881\n",
      "epoch = 799, loss = 0.00021001942513976246\n",
      "epoch = 800, loss = 0.00020983474678359926\n",
      "epoch = 801, loss = 0.00020965073781553656\n",
      "epoch = 802, loss = 0.0002094665396725759\n",
      "epoch = 803, loss = 0.0002092842332785949\n",
      "epoch = 804, loss = 0.00020910162129439414\n",
      "epoch = 805, loss = 0.00020891994063276798\n",
      "epoch = 806, loss = 0.00020873792527709156\n",
      "epoch = 807, loss = 0.00020855724869761616\n",
      "epoch = 808, loss = 0.00020837604824919254\n",
      "epoch = 809, loss = 0.00020819650671910495\n",
      "epoch = 810, loss = 0.0002080177509924397\n",
      "epoch = 811, loss = 0.00020783839863725007\n",
      "epoch = 812, loss = 0.00020765961380675435\n",
      "epoch = 813, loss = 0.0002074811200145632\n",
      "epoch = 814, loss = 0.0002073039795504883\n",
      "epoch = 815, loss = 0.00020712539844680578\n",
      "epoch = 816, loss = 0.00020694926206488162\n",
      "epoch = 817, loss = 0.00020677321299444884\n",
      "epoch = 818, loss = 0.00020659586880356073\n",
      "epoch = 819, loss = 0.00020642139133997262\n",
      "epoch = 820, loss = 0.00020624612807296216\n",
      "epoch = 821, loss = 0.00020607156329788268\n",
      "epoch = 822, loss = 0.00020589836640283465\n",
      "epoch = 823, loss = 0.00020572329231072217\n",
      "epoch = 824, loss = 0.00020555051742121577\n",
      "epoch = 825, loss = 0.00020537700038403273\n",
      "epoch = 826, loss = 0.00020520563703030348\n",
      "epoch = 827, loss = 0.00020503185805864632\n",
      "epoch = 828, loss = 0.00020486161520238966\n",
      "epoch = 829, loss = 0.00020468984439503402\n",
      "epoch = 830, loss = 0.00020451899035833776\n",
      "epoch = 831, loss = 0.0002043495769612491\n",
      "epoch = 832, loss = 0.00020417902851477265\n",
      "epoch = 833, loss = 0.0002040098625002429\n",
      "epoch = 834, loss = 0.00020384028903208673\n",
      "epoch = 835, loss = 0.00020367145771160722\n",
      "epoch = 836, loss = 0.0002035022189375013\n",
      "epoch = 837, loss = 0.0002033362543443218\n",
      "epoch = 838, loss = 0.00020316708832979202\n",
      "epoch = 839, loss = 0.00020300126925576478\n",
      "epoch = 840, loss = 0.00020283489720895886\n",
      "epoch = 841, loss = 0.0002026680886046961\n",
      "epoch = 842, loss = 0.00020250160014256835\n",
      "epoch = 843, loss = 0.00020233563554938883\n",
      "epoch = 844, loss = 0.00020217042765580118\n",
      "epoch = 845, loss = 0.0002020063402596861\n",
      "epoch = 846, loss = 0.00020184123422950506\n",
      "epoch = 847, loss = 0.00020167705952189863\n",
      "epoch = 848, loss = 0.0002015133504755795\n",
      "epoch = 849, loss = 0.00020134952501393855\n",
      "epoch = 850, loss = 0.00020118680549785495\n",
      "epoch = 851, loss = 0.0002010246244026348\n",
      "epoch = 852, loss = 0.0002008618030231446\n",
      "epoch = 853, loss = 0.00020069986931048334\n",
      "epoch = 854, loss = 0.00020053857588209212\n",
      "epoch = 855, loss = 0.0002003782574320212\n",
      "epoch = 856, loss = 0.0002002166584134102\n",
      "epoch = 857, loss = 0.0002000571257667616\n",
      "epoch = 858, loss = 0.00019989590509794652\n",
      "epoch = 859, loss = 0.00019973664893768728\n",
      "epoch = 860, loss = 0.00019957698532380164\n",
      "epoch = 861, loss = 0.00019941770005971193\n",
      "epoch = 862, loss = 0.00019925908418372273\n",
      "epoch = 863, loss = 0.00019909985712729394\n",
      "epoch = 864, loss = 0.00019894278375431895\n",
      "epoch = 865, loss = 0.00019878453167621046\n",
      "epoch = 866, loss = 0.00019862761837430298\n",
      "epoch = 867, loss = 0.0001984710688702762\n",
      "epoch = 868, loss = 0.0001983138790819794\n",
      "epoch = 869, loss = 0.00019815724226646125\n",
      "epoch = 870, loss = 0.00019800098380073905\n",
      "epoch = 871, loss = 0.00019784538017120212\n",
      "epoch = 872, loss = 0.00019769046048168093\n",
      "epoch = 873, loss = 0.0001975352643057704\n",
      "epoch = 874, loss = 0.00019737999537028372\n",
      "epoch = 875, loss = 0.00019722618162631989\n",
      "epoch = 876, loss = 0.0001970710582099855\n",
      "epoch = 877, loss = 0.0001969177246792242\n",
      "epoch = 878, loss = 0.00019676293595694005\n",
      "epoch = 879, loss = 0.0001966117270058021\n",
      "epoch = 880, loss = 0.0001964584516827017\n",
      "epoch = 881, loss = 0.00019630514725577086\n",
      "epoch = 882, loss = 0.00019615318160504103\n",
      "epoch = 883, loss = 0.00019600093946792185\n",
      "epoch = 884, loss = 0.00019584939582273364\n",
      "epoch = 885, loss = 0.0001956977357622236\n",
      "epoch = 886, loss = 0.00019554636674001813\n",
      "epoch = 887, loss = 0.00019539555069059134\n",
      "epoch = 888, loss = 0.0001952438469743356\n",
      "epoch = 889, loss = 0.00019509576668497175\n",
      "epoch = 890, loss = 0.0001949452853295952\n",
      "epoch = 891, loss = 0.00019479500770103186\n",
      "epoch = 892, loss = 0.0001946455449797213\n",
      "epoch = 893, loss = 0.00019449727551545948\n",
      "epoch = 894, loss = 0.00019434721616562456\n",
      "epoch = 895, loss = 0.0001941992959473282\n",
      "epoch = 896, loss = 0.00019405136117711663\n",
      "epoch = 897, loss = 0.00019390300440136343\n",
      "epoch = 898, loss = 0.00019375501142349094\n",
      "epoch = 899, loss = 0.0001936081680469215\n",
      "epoch = 900, loss = 0.00019346045155543834\n",
      "epoch = 901, loss = 0.0001933136081788689\n",
      "epoch = 902, loss = 0.0001931664301082492\n",
      "epoch = 903, loss = 0.0001930206490214914\n",
      "epoch = 904, loss = 0.0001928748533828184\n",
      "epoch = 905, loss = 0.00019272860663477331\n",
      "epoch = 906, loss = 0.00019258227257523686\n",
      "epoch = 907, loss = 0.00019243765564169735\n",
      "epoch = 908, loss = 0.00019229300960432738\n",
      "epoch = 909, loss = 0.00019214813073631376\n",
      "epoch = 910, loss = 0.00019200418319087476\n",
      "epoch = 911, loss = 0.00019185901328455657\n",
      "epoch = 912, loss = 0.00019171519670635462\n",
      "epoch = 913, loss = 0.0001915721077239141\n",
      "epoch = 914, loss = 0.00019142772362101823\n",
      "epoch = 915, loss = 0.00019128531857859343\n",
      "epoch = 916, loss = 0.0001911420258693397\n",
      "epoch = 917, loss = 0.00019099850032944232\n",
      "epoch = 918, loss = 0.00019085640087723732\n",
      "epoch = 919, loss = 0.00019071322458330542\n",
      "epoch = 920, loss = 0.0001905715325847268\n",
      "epoch = 921, loss = 0.00019043011707253754\n",
      "epoch = 922, loss = 0.00019028926908504218\n",
      "epoch = 923, loss = 0.00019014724239241332\n",
      "epoch = 924, loss = 0.00019000546308234334\n",
      "epoch = 925, loss = 0.0001898652990348637\n",
      "epoch = 926, loss = 0.00018972445104736835\n",
      "epoch = 927, loss = 0.00018958428699988872\n",
      "epoch = 928, loss = 0.00018944359908346087\n",
      "epoch = 929, loss = 0.00018930375517811626\n",
      "epoch = 930, loss = 0.00018916373664978892\n",
      "epoch = 931, loss = 0.00018902466399595141\n",
      "epoch = 932, loss = 0.00018888433987740427\n",
      "epoch = 933, loss = 0.0001887464168248698\n",
      "epoch = 934, loss = 0.00018860747513826936\n",
      "epoch = 935, loss = 0.0001884683733806014\n",
      "epoch = 936, loss = 0.00018833079957403243\n",
      "epoch = 937, loss = 0.00018819239630829543\n",
      "epoch = 938, loss = 0.0001880546915344894\n",
      "epoch = 939, loss = 0.00018791612819768488\n",
      "epoch = 940, loss = 0.0001877792674349621\n",
      "epoch = 941, loss = 0.00018764175183605403\n",
      "epoch = 942, loss = 0.00018750393064692616\n",
      "epoch = 943, loss = 0.0001873677538242191\n",
      "epoch = 944, loss = 0.00018723204266279936\n",
      "epoch = 945, loss = 0.00018709420692175627\n",
      "epoch = 946, loss = 0.00018695810285862535\n",
      "epoch = 947, loss = 0.00018682230438571423\n",
      "epoch = 948, loss = 0.00018668592383619398\n",
      "epoch = 949, loss = 0.00018655016901902854\n",
      "epoch = 950, loss = 0.00018641605856828392\n",
      "epoch = 951, loss = 0.00018628152611199766\n",
      "epoch = 952, loss = 0.00018614523287396878\n",
      "epoch = 953, loss = 0.00018600952171254903\n",
      "epoch = 954, loss = 0.0001858756149886176\n",
      "epoch = 955, loss = 0.00018574109708424658\n",
      "epoch = 956, loss = 0.00018560620083007962\n",
      "epoch = 957, loss = 0.00018547321087680757\n",
      "epoch = 958, loss = 0.00018533883849158883\n",
      "epoch = 959, loss = 0.00018520635785534978\n",
      "epoch = 960, loss = 0.0001850718690548092\n",
      "epoch = 961, loss = 0.00018493864627089351\n",
      "epoch = 962, loss = 0.00018480555445421487\n",
      "epoch = 963, loss = 0.0001846731611294672\n",
      "epoch = 964, loss = 0.00018453929806128144\n",
      "epoch = 965, loss = 0.00018440705025568604\n",
      "epoch = 966, loss = 0.0001842755009420216\n",
      "epoch = 967, loss = 0.0001841439079726115\n",
      "epoch = 968, loss = 0.00018401168927084655\n",
      "epoch = 969, loss = 0.00018387855379842222\n",
      "epoch = 970, loss = 0.0001837483432609588\n",
      "epoch = 971, loss = 0.00018361622642260045\n",
      "epoch = 972, loss = 0.0001834847789723426\n",
      "epoch = 973, loss = 0.0001833537098718807\n",
      "epoch = 974, loss = 0.0001832231500884518\n",
      "epoch = 975, loss = 0.00018309282313566655\n",
      "epoch = 976, loss = 0.0001829619286581874\n",
      "epoch = 977, loss = 0.00018283072859048843\n",
      "epoch = 978, loss = 0.000182701027370058\n",
      "epoch = 979, loss = 0.00018257161718793213\n",
      "epoch = 980, loss = 0.00018244139209855348\n",
      "epoch = 981, loss = 0.00018231160356663167\n",
      "epoch = 982, loss = 0.000182182397111319\n",
      "epoch = 983, loss = 0.00018205272499471903\n",
      "epoch = 984, loss = 0.00018192417337559164\n",
      "epoch = 985, loss = 0.0001817946758819744\n",
      "epoch = 986, loss = 0.00018166672089137137\n",
      "epoch = 987, loss = 0.00018153693235944957\n",
      "epoch = 988, loss = 0.0001814106071833521\n",
      "epoch = 989, loss = 0.00018128108058590442\n",
      "epoch = 990, loss = 0.00018115216516889632\n",
      "epoch = 991, loss = 0.00018102517060469836\n",
      "epoch = 992, loss = 0.0001808970991987735\n",
      "epoch = 993, loss = 0.000180768794962205\n",
      "epoch = 994, loss = 0.00018064037431031466\n",
      "epoch = 995, loss = 0.0001805145147955045\n",
      "epoch = 996, loss = 0.0001803864724934101\n",
      "epoch = 997, loss = 0.00018026013276539743\n",
      "epoch = 998, loss = 0.0001801328908186406\n",
      "epoch = 999, loss = 0.00018000591080635786\n"
     ]
    }
   ],
   "source": [
    "# Train a pure MLP in x direction\n",
    "model_mlp = MLP()\n",
    "optimizer_mlp = optim.Adam(model_mlp.parameters(), lr=1e-3)\n",
    "for epoch in range(1000):\n",
    "\n",
    "        optimizer_mlp.zero_grad()\n",
    "        pred = model_mlp(reg_in)\n",
    "        mlp_loss = torch.mean((reg_label - pred) ** 2)\n",
    "        mlp_loss.backward()\n",
    "        optimizer_mlp.step()\n",
    "        print(\"epoch = {}, loss = {}\".format(epoch, mlp_loss))"
   ]
  },
  {
   "cell_type": "code",
   "execution_count": 32,
   "metadata": {},
   "outputs": [
    {
     "data": {
      "image/png": "[encoded data removed]",
      "text/plain": [
       "<Figure size 1000x400 with 1 Axes>"
      ]
     },
     "metadata": {},
     "output_type": "display_data"
    }
   ],
   "source": [
    "# Time series\n",
    "\n",
    "ts_torch = torch.from_numpy(ts).type(torch.float32)\n",
    "ts_torch = ts_torch[:,None]\n",
    "\n",
    "plt.figure(figsize=(10, 4))\n",
    "plt.plot(ts, x_with_resistance,color = \"silver\", lw = 4)\n",
    "plt.plot(ts, model( ts_torch )[:,0:1].detach().numpy(),lw = 2)\n",
    "plt.plot(ts, model_mlp( ts_torch )[:,0:1].detach().numpy(), color = \"black\", lw = 2)\n",
    "#plt.scatter(t_train, x_train,alpha=0.5, c = \"red\")\n",
    "plt.xlabel('Time [s]')\n",
    "plt.ylabel('Position [m]')\n",
    "plt.legend(['Ground Truth', 'Prediction (PINN)', \"Prediciton (Pure MLP)\",\"measured data\"])\n",
    "plt.grid(True)"
   ]
  },
  {
   "cell_type": "code",
   "execution_count": 33,
   "metadata": {},
   "outputs": [
    {
     "name": "stdout",
     "output_type": "stream",
     "text": [
      "Parameter containing:\n",
      "tensor([0.0954], requires_grad=True)\n"
     ]
    },
    {
     "data": {
      "text/plain": [
       "<matplotlib.legend.Legend at 0x1700b4fa810>"
      ]
     },
     "execution_count": 33,
     "metadata": {},
     "output_type": "execute_result"
    },
    {
     "data": {
      "image/png": "[encoded data removed]",
      "text/plain": [
       "<Figure size 640x480 with 1 Axes>"
      ]
     },
     "metadata": {},
     "output_type": "display_data"
    }
   ],
   "source": [
    "print(f_model.k)\n",
    "\n",
    "plt.plot(np.asarray(Alpha_k), label = r\"estimate $k$\")\n",
    "plt.plot(np.linspace(0,n_epoch, n_epoch), k*np.ones(n_epoch),\"--\", color = \"gray\", label = r\"true $k$\")\n",
    "plt.ylabel(r\"$k$\")\n",
    "plt.xlabel(\"epoch\")\n",
    "plt.legend()"
   ]
  },
  {
   "cell_type": "code",
   "execution_count": 34,
   "metadata": {},
   "outputs": [
    {
     "ename": "AttributeError",
     "evalue": "'f_t' object has no attribute 'm'",
     "output_type": "error",
     "traceback": [
      "\u001b[1;31m---------------------------------------------------------------------------\u001b[0m",
      "\u001b[1;31mAttributeError\u001b[0m                            Traceback (most recent call last)",
      "Cell \u001b[1;32mIn[34], line 1\u001b[0m\n\u001b[1;32m----> 1\u001b[0m \u001b[38;5;28mprint\u001b[39m(\u001b[43mf_model\u001b[49m\u001b[38;5;241;43m.\u001b[39;49m\u001b[43mm\u001b[49m)\n\u001b[0;32m      3\u001b[0m plt\u001b[38;5;241m.\u001b[39mplot(np\u001b[38;5;241m.\u001b[39masarray(Alpha_m), label \u001b[38;5;241m=\u001b[39m \u001b[38;5;124mr\u001b[39m\u001b[38;5;124m\"\u001b[39m\u001b[38;5;124mestimate $m$\u001b[39m\u001b[38;5;124m\"\u001b[39m)\n\u001b[0;32m      4\u001b[0m plt\u001b[38;5;241m.\u001b[39mplot(np\u001b[38;5;241m.\u001b[39mlinspace(\u001b[38;5;241m0\u001b[39m,n_epoch, n_epoch), m\u001b[38;5;241m*\u001b[39mnp\u001b[38;5;241m.\u001b[39mones(n_epoch),\u001b[38;5;124m\"\u001b[39m\u001b[38;5;124m--\u001b[39m\u001b[38;5;124m\"\u001b[39m, color \u001b[38;5;241m=\u001b[39m \u001b[38;5;124m\"\u001b[39m\u001b[38;5;124mgray\u001b[39m\u001b[38;5;124m\"\u001b[39m, label \u001b[38;5;241m=\u001b[39m \u001b[38;5;124mr\u001b[39m\u001b[38;5;124m\"\u001b[39m\u001b[38;5;124mtrue $m$\u001b[39m\u001b[38;5;124m\"\u001b[39m)\n",
      "File \u001b[1;32mc:\\Users\\11422\\AppData\\Local\\Programs\\Python\\Python311\\Lib\\site-packages\\torch\\nn\\modules\\module.py:1695\u001b[0m, in \u001b[0;36mModule.__getattr__\u001b[1;34m(self, name)\u001b[0m\n\u001b[0;32m   1693\u001b[0m     \u001b[38;5;28;01mif\u001b[39;00m name \u001b[38;5;129;01min\u001b[39;00m modules:\n\u001b[0;32m   1694\u001b[0m         \u001b[38;5;28;01mreturn\u001b[39;00m modules[name]\n\u001b[1;32m-> 1695\u001b[0m \u001b[38;5;28;01mraise\u001b[39;00m \u001b[38;5;167;01mAttributeError\u001b[39;00m(\u001b[38;5;124mf\u001b[39m\u001b[38;5;124m\"\u001b[39m\u001b[38;5;124m'\u001b[39m\u001b[38;5;132;01m{\u001b[39;00m\u001b[38;5;28mtype\u001b[39m(\u001b[38;5;28mself\u001b[39m)\u001b[38;5;241m.\u001b[39m\u001b[38;5;18m__name__\u001b[39m\u001b[38;5;132;01m}\u001b[39;00m\u001b[38;5;124m'\u001b[39m\u001b[38;5;124m object has no attribute \u001b[39m\u001b[38;5;124m'\u001b[39m\u001b[38;5;132;01m{\u001b[39;00mname\u001b[38;5;132;01m}\u001b[39;00m\u001b[38;5;124m'\u001b[39m\u001b[38;5;124m\"\u001b[39m)\n",
      "\u001b[1;31mAttributeError\u001b[0m: 'f_t' object has no attribute 'm'"
     ]
    }
   ],
   "source": [
    "print(f_model.m)\n",
    "\n",
    "plt.plot(np.asarray(Alpha_m), label = r\"estimate $m$\")\n",
    "plt.plot(np.linspace(0,n_epoch, n_epoch), m*np.ones(n_epoch),\"--\", color = \"gray\", label = r\"true $m$\")\n",
    "plt.ylabel(r\"$c$\")\n",
    "plt.xlabel(\"epoch\")\n",
    "plt.legend()"
   ]
  },
  {
   "cell_type": "code",
   "execution_count": null,
   "metadata": {},
   "outputs": [
    {
     "ename": "AttributeError",
     "evalue": "'f_t' object has no attribute 'n'",
     "output_type": "error",
     "traceback": [
      "\u001b[1;31m---------------------------------------------------------------------------\u001b[0m",
      "\u001b[1;31mAttributeError\u001b[0m                            Traceback (most recent call last)",
      "Cell \u001b[1;32mIn[12], line 1\u001b[0m\n\u001b[1;32m----> 1\u001b[0m \u001b[38;5;28mprint\u001b[39m(\u001b[43mf_model\u001b[49m\u001b[38;5;241;43m.\u001b[39;49m\u001b[43mn\u001b[49m)\n\u001b[0;32m      3\u001b[0m plt\u001b[38;5;241m.\u001b[39mplot(np\u001b[38;5;241m.\u001b[39masarray(Alpha_m), label \u001b[38;5;241m=\u001b[39m \u001b[38;5;124mr\u001b[39m\u001b[38;5;124m\"\u001b[39m\u001b[38;5;124mestimate $n$\u001b[39m\u001b[38;5;124m\"\u001b[39m)\n\u001b[0;32m      4\u001b[0m plt\u001b[38;5;241m.\u001b[39mplot(np\u001b[38;5;241m.\u001b[39mlinspace(\u001b[38;5;241m0\u001b[39m,n_epoch, n_epoch), \u001b[38;5;241m3\u001b[39m\u001b[38;5;241m*\u001b[39mnp\u001b[38;5;241m.\u001b[39mones(n_epoch),\u001b[38;5;124m\"\u001b[39m\u001b[38;5;124m--\u001b[39m\u001b[38;5;124m\"\u001b[39m, color \u001b[38;5;241m=\u001b[39m \u001b[38;5;124m\"\u001b[39m\u001b[38;5;124mgray\u001b[39m\u001b[38;5;124m\"\u001b[39m, label \u001b[38;5;241m=\u001b[39m \u001b[38;5;124mr\u001b[39m\u001b[38;5;124m\"\u001b[39m\u001b[38;5;124mtrue $n$\u001b[39m\u001b[38;5;124m\"\u001b[39m)\n",
      "File \u001b[1;32mc:\\Users\\11422\\AppData\\Local\\Programs\\Python\\Python311\\Lib\\site-packages\\torch\\nn\\modules\\module.py:1695\u001b[0m, in \u001b[0;36mModule.__getattr__\u001b[1;34m(self, name)\u001b[0m\n\u001b[0;32m   1693\u001b[0m     \u001b[38;5;28;01mif\u001b[39;00m name \u001b[38;5;129;01min\u001b[39;00m modules:\n\u001b[0;32m   1694\u001b[0m         \u001b[38;5;28;01mreturn\u001b[39;00m modules[name]\n\u001b[1;32m-> 1695\u001b[0m \u001b[38;5;28;01mraise\u001b[39;00m \u001b[38;5;167;01mAttributeError\u001b[39;00m(\u001b[38;5;124mf\u001b[39m\u001b[38;5;124m\"\u001b[39m\u001b[38;5;124m'\u001b[39m\u001b[38;5;132;01m{\u001b[39;00m\u001b[38;5;28mtype\u001b[39m(\u001b[38;5;28mself\u001b[39m)\u001b[38;5;241m.\u001b[39m\u001b[38;5;18m__name__\u001b[39m\u001b[38;5;132;01m}\u001b[39;00m\u001b[38;5;124m'\u001b[39m\u001b[38;5;124m object has no attribute \u001b[39m\u001b[38;5;124m'\u001b[39m\u001b[38;5;132;01m{\u001b[39;00mname\u001b[38;5;132;01m}\u001b[39;00m\u001b[38;5;124m'\u001b[39m\u001b[38;5;124m\"\u001b[39m)\n",
      "\u001b[1;31mAttributeError\u001b[0m: 'f_t' object has no attribute 'n'"
     ]
    }
   ],
   "source": [
    "print(f_model.n)\n",
    "\n",
    "plt.plot(np.asarray(Alpha_m), label = r\"estimate $n$\")\n",
    "plt.plot(np.linspace(0,n_epoch, n_epoch), 3*np.ones(n_epoch),\"--\", color = \"gray\", label = r\"true $n$\")\n",
    "plt.ylabel(r\"$c$\")\n",
    "plt.xlabel(\"epoch\")\n",
    "plt.legend()"
   ]
  },
  {
   "cell_type": "code",
   "execution_count": null,
   "metadata": {},
   "outputs": [],
   "source": [
    "print(f_model.g)\n",
    "\n",
    "plt.plot(np.asarray(Alpha_m), label = r\"estimate $g$\")\n",
    "plt.plot(np.linspace(0,n_epoch, n_epoch), 3*np.ones(n_epoch),\"--\", color = \"gray\", label = r\"true $g$\")\n",
    "plt.ylabel(r\"$c$\")\n",
    "plt.xlabel(\"epoch\")\n",
    "plt.legend()"
   ]
  }
 ],
 "metadata": {
  "kernelspec": {
   "display_name": "Python 3",
   "language": "python",
   "name": "python3"
  },
  "language_info": {
   "codemirror_mode": {
    "name": "ipython",
    "version": 3
   },
   "file_extension": ".py",
   "mimetype": "text/x-python",
   "name": "python",
   "nbconvert_exporter": "python",
   "pygments_lexer": "ipython3",
   "version": "3.11.5"
  }
 },
 "nbformat": 4,
 "nbformat_minor": 2
}
